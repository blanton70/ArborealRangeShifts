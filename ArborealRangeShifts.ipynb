{
 "cells": [
  {
   "cell_type": "markdown",
   "metadata": {},
   "source": [
    "Import the pandas library for the purpose of creating dataframes."
   ]
  },
  {
   "cell_type": "code",
   "execution_count": 25,
   "metadata": {},
   "outputs": [],
   "source": [
    "import pandas as pd"
   ]
  },
  {
   "cell_type": "markdown",
   "metadata": {},
   "source": [
    "Upload a dataset containing information of geo-coordinates and year of observation for the Mountain Dogwood (cornus nuttalli)."
   ]
  },
  {
   "cell_type": "code",
   "execution_count": 27,
   "metadata": {},
   "outputs": [],
   "source": [
    "df_mtdogw = pd.read_csv('Desktop/biodata/0075163-200613084148143 - 0075163-200613084148143.csv')"
   ]
  },
  {
   "cell_type": "code",
   "execution_count": 28,
   "metadata": {},
   "outputs": [
    {
     "data": {
      "text/html": [
       "<div>\n",
       "<style scoped>\n",
       "    .dataframe tbody tr th:only-of-type {\n",
       "        vertical-align: middle;\n",
       "    }\n",
       "\n",
       "    .dataframe tbody tr th {\n",
       "        vertical-align: top;\n",
       "    }\n",
       "\n",
       "    .dataframe thead th {\n",
       "        text-align: right;\n",
       "    }\n",
       "</style>\n",
       "<table border=\"1\" class=\"dataframe\">\n",
       "  <thead>\n",
       "    <tr style=\"text-align: right;\">\n",
       "      <th></th>\n",
       "      <th>decimalLatitude</th>\n",
       "      <th>decimalLongitude</th>\n",
       "      <th>year</th>\n",
       "    </tr>\n",
       "  </thead>\n",
       "  <tbody>\n",
       "    <tr>\n",
       "      <th>0</th>\n",
       "      <td>42.278810</td>\n",
       "      <td>-123.826406</td>\n",
       "      <td>1984</td>\n",
       "    </tr>\n",
       "    <tr>\n",
       "      <th>1</th>\n",
       "      <td>47.037825</td>\n",
       "      <td>-123.006900</td>\n",
       "      <td>1936</td>\n",
       "    </tr>\n",
       "    <tr>\n",
       "      <th>2</th>\n",
       "      <td>38.910390</td>\n",
       "      <td>-76.966086</td>\n",
       "      <td>1980</td>\n",
       "    </tr>\n",
       "    <tr>\n",
       "      <th>3</th>\n",
       "      <td>36.494104</td>\n",
       "      <td>-118.579392</td>\n",
       "      <td>2004</td>\n",
       "    </tr>\n",
       "    <tr>\n",
       "      <th>4</th>\n",
       "      <td>48.674040</td>\n",
       "      <td>-121.268538</td>\n",
       "      <td>2013</td>\n",
       "    </tr>\n",
       "    <tr>\n",
       "      <th>...</th>\n",
       "      <td>...</td>\n",
       "      <td>...</td>\n",
       "      <td>...</td>\n",
       "    </tr>\n",
       "    <tr>\n",
       "      <th>386</th>\n",
       "      <td>45.501400</td>\n",
       "      <td>-123.253400</td>\n",
       "      <td>1922</td>\n",
       "    </tr>\n",
       "    <tr>\n",
       "      <th>387</th>\n",
       "      <td>45.371300</td>\n",
       "      <td>-122.862500</td>\n",
       "      <td>1967</td>\n",
       "    </tr>\n",
       "    <tr>\n",
       "      <th>388</th>\n",
       "      <td>44.075900</td>\n",
       "      <td>-123.114200</td>\n",
       "      <td>1963</td>\n",
       "    </tr>\n",
       "    <tr>\n",
       "      <th>389</th>\n",
       "      <td>43.977800</td>\n",
       "      <td>-123.140800</td>\n",
       "      <td>1963</td>\n",
       "    </tr>\n",
       "    <tr>\n",
       "      <th>390</th>\n",
       "      <td>44.075900</td>\n",
       "      <td>-123.114200</td>\n",
       "      <td>1963</td>\n",
       "    </tr>\n",
       "  </tbody>\n",
       "</table>\n",
       "<p>391 rows × 3 columns</p>\n",
       "</div>"
      ],
      "text/plain": [
       "     decimalLatitude  decimalLongitude  year\n",
       "0          42.278810       -123.826406  1984\n",
       "1          47.037825       -123.006900  1936\n",
       "2          38.910390        -76.966086  1980\n",
       "3          36.494104       -118.579392  2004\n",
       "4          48.674040       -121.268538  2013\n",
       "..               ...               ...   ...\n",
       "386        45.501400       -123.253400  1922\n",
       "387        45.371300       -122.862500  1967\n",
       "388        44.075900       -123.114200  1963\n",
       "389        43.977800       -123.140800  1963\n",
       "390        44.075900       -123.114200  1963\n",
       "\n",
       "[391 rows x 3 columns]"
      ]
     },
     "execution_count": 28,
     "metadata": {},
     "output_type": "execute_result"
    }
   ],
   "source": [
    "df_mtdogw"
   ]
  },
  {
   "cell_type": "markdown",
   "metadata": {},
   "source": [
    "Sort the file by year and then reset the index accordingly."
   ]
  },
  {
   "cell_type": "code",
   "execution_count": 29,
   "metadata": {},
   "outputs": [],
   "source": [
    "sorted_df = df_mtdogw.sort_values(by='year')\n"
   ]
  },
  {
   "cell_type": "code",
   "execution_count": 30,
   "metadata": {},
   "outputs": [],
   "source": [
    "sorted_dfyr = sorted_df.reset_index(drop=True)\n"
   ]
  },
  {
   "cell_type": "code",
   "execution_count": 31,
   "metadata": {},
   "outputs": [
    {
     "data": {
      "text/html": [
       "<div>\n",
       "<style scoped>\n",
       "    .dataframe tbody tr th:only-of-type {\n",
       "        vertical-align: middle;\n",
       "    }\n",
       "\n",
       "    .dataframe tbody tr th {\n",
       "        vertical-align: top;\n",
       "    }\n",
       "\n",
       "    .dataframe thead th {\n",
       "        text-align: right;\n",
       "    }\n",
       "</style>\n",
       "<table border=\"1\" class=\"dataframe\">\n",
       "  <thead>\n",
       "    <tr style=\"text-align: right;\">\n",
       "      <th></th>\n",
       "      <th>decimalLatitude</th>\n",
       "      <th>decimalLongitude</th>\n",
       "      <th>year</th>\n",
       "    </tr>\n",
       "  </thead>\n",
       "  <tbody>\n",
       "    <tr>\n",
       "      <th>378</th>\n",
       "      <td>45.351400</td>\n",
       "      <td>-122.620800</td>\n",
       "      <td>1899</td>\n",
       "    </tr>\n",
       "    <tr>\n",
       "      <th>328</th>\n",
       "      <td>44.499700</td>\n",
       "      <td>-123.416700</td>\n",
       "      <td>1900</td>\n",
       "    </tr>\n",
       "    <tr>\n",
       "      <th>374</th>\n",
       "      <td>45.540700</td>\n",
       "      <td>-122.708400</td>\n",
       "      <td>1902</td>\n",
       "    </tr>\n",
       "    <tr>\n",
       "      <th>376</th>\n",
       "      <td>45.528900</td>\n",
       "      <td>-122.720000</td>\n",
       "      <td>1903</td>\n",
       "    </tr>\n",
       "    <tr>\n",
       "      <th>316</th>\n",
       "      <td>42.439200</td>\n",
       "      <td>-123.327200</td>\n",
       "      <td>1909</td>\n",
       "    </tr>\n",
       "    <tr>\n",
       "      <th>...</th>\n",
       "      <td>...</td>\n",
       "      <td>...</td>\n",
       "      <td>...</td>\n",
       "    </tr>\n",
       "    <tr>\n",
       "      <th>295</th>\n",
       "      <td>37.740041</td>\n",
       "      <td>-119.609527</td>\n",
       "      <td>2013</td>\n",
       "    </tr>\n",
       "    <tr>\n",
       "      <th>186</th>\n",
       "      <td>36.702729</td>\n",
       "      <td>-118.920896</td>\n",
       "      <td>2013</td>\n",
       "    </tr>\n",
       "    <tr>\n",
       "      <th>272</th>\n",
       "      <td>38.083874</td>\n",
       "      <td>-120.194893</td>\n",
       "      <td>2013</td>\n",
       "    </tr>\n",
       "    <tr>\n",
       "      <th>306</th>\n",
       "      <td>37.480069</td>\n",
       "      <td>-119.632316</td>\n",
       "      <td>2013</td>\n",
       "    </tr>\n",
       "    <tr>\n",
       "      <th>273</th>\n",
       "      <td>37.568063</td>\n",
       "      <td>-119.876462</td>\n",
       "      <td>2013</td>\n",
       "    </tr>\n",
       "  </tbody>\n",
       "</table>\n",
       "<p>391 rows × 3 columns</p>\n",
       "</div>"
      ],
      "text/plain": [
       "     decimalLatitude  decimalLongitude  year\n",
       "378        45.351400       -122.620800  1899\n",
       "328        44.499700       -123.416700  1900\n",
       "374        45.540700       -122.708400  1902\n",
       "376        45.528900       -122.720000  1903\n",
       "316        42.439200       -123.327200  1909\n",
       "..               ...               ...   ...\n",
       "295        37.740041       -119.609527  2013\n",
       "186        36.702729       -118.920896  2013\n",
       "272        38.083874       -120.194893  2013\n",
       "306        37.480069       -119.632316  2013\n",
       "273        37.568063       -119.876462  2013\n",
       "\n",
       "[391 rows x 3 columns]"
      ]
     },
     "execution_count": 31,
     "metadata": {},
     "output_type": "execute_result"
    }
   ],
   "source": [
    "sorted_df"
   ]
  },
  {
   "cell_type": "code",
   "execution_count": 32,
   "metadata": {},
   "outputs": [
    {
     "data": {
      "text/html": [
       "<div>\n",
       "<style scoped>\n",
       "    .dataframe tbody tr th:only-of-type {\n",
       "        vertical-align: middle;\n",
       "    }\n",
       "\n",
       "    .dataframe tbody tr th {\n",
       "        vertical-align: top;\n",
       "    }\n",
       "\n",
       "    .dataframe thead th {\n",
       "        text-align: right;\n",
       "    }\n",
       "</style>\n",
       "<table border=\"1\" class=\"dataframe\">\n",
       "  <thead>\n",
       "    <tr style=\"text-align: right;\">\n",
       "      <th></th>\n",
       "      <th>decimalLatitude</th>\n",
       "      <th>decimalLongitude</th>\n",
       "      <th>year</th>\n",
       "    </tr>\n",
       "  </thead>\n",
       "  <tbody>\n",
       "    <tr>\n",
       "      <th>0</th>\n",
       "      <td>45.351400</td>\n",
       "      <td>-122.620800</td>\n",
       "      <td>1899</td>\n",
       "    </tr>\n",
       "    <tr>\n",
       "      <th>1</th>\n",
       "      <td>44.499700</td>\n",
       "      <td>-123.416700</td>\n",
       "      <td>1900</td>\n",
       "    </tr>\n",
       "    <tr>\n",
       "      <th>2</th>\n",
       "      <td>45.540700</td>\n",
       "      <td>-122.708400</td>\n",
       "      <td>1902</td>\n",
       "    </tr>\n",
       "    <tr>\n",
       "      <th>3</th>\n",
       "      <td>45.528900</td>\n",
       "      <td>-122.720000</td>\n",
       "      <td>1903</td>\n",
       "    </tr>\n",
       "    <tr>\n",
       "      <th>4</th>\n",
       "      <td>42.439200</td>\n",
       "      <td>-123.327200</td>\n",
       "      <td>1909</td>\n",
       "    </tr>\n",
       "    <tr>\n",
       "      <th>...</th>\n",
       "      <td>...</td>\n",
       "      <td>...</td>\n",
       "      <td>...</td>\n",
       "    </tr>\n",
       "    <tr>\n",
       "      <th>386</th>\n",
       "      <td>37.740041</td>\n",
       "      <td>-119.609527</td>\n",
       "      <td>2013</td>\n",
       "    </tr>\n",
       "    <tr>\n",
       "      <th>387</th>\n",
       "      <td>36.702729</td>\n",
       "      <td>-118.920896</td>\n",
       "      <td>2013</td>\n",
       "    </tr>\n",
       "    <tr>\n",
       "      <th>388</th>\n",
       "      <td>38.083874</td>\n",
       "      <td>-120.194893</td>\n",
       "      <td>2013</td>\n",
       "    </tr>\n",
       "    <tr>\n",
       "      <th>389</th>\n",
       "      <td>37.480069</td>\n",
       "      <td>-119.632316</td>\n",
       "      <td>2013</td>\n",
       "    </tr>\n",
       "    <tr>\n",
       "      <th>390</th>\n",
       "      <td>37.568063</td>\n",
       "      <td>-119.876462</td>\n",
       "      <td>2013</td>\n",
       "    </tr>\n",
       "  </tbody>\n",
       "</table>\n",
       "<p>391 rows × 3 columns</p>\n",
       "</div>"
      ],
      "text/plain": [
       "     decimalLatitude  decimalLongitude  year\n",
       "0          45.351400       -122.620800  1899\n",
       "1          44.499700       -123.416700  1900\n",
       "2          45.540700       -122.708400  1902\n",
       "3          45.528900       -122.720000  1903\n",
       "4          42.439200       -123.327200  1909\n",
       "..               ...               ...   ...\n",
       "386        37.740041       -119.609527  2013\n",
       "387        36.702729       -118.920896  2013\n",
       "388        38.083874       -120.194893  2013\n",
       "389        37.480069       -119.632316  2013\n",
       "390        37.568063       -119.876462  2013\n",
       "\n",
       "[391 rows x 3 columns]"
      ]
     },
     "execution_count": 32,
     "metadata": {},
     "output_type": "execute_result"
    }
   ],
   "source": [
    "sorted_dfyr"
   ]
  },
  {
   "cell_type": "markdown",
   "metadata": {},
   "source": [
    "Use the geo-coordinates to obtain elevation data for each geo-coordinate through the Open-Elevation API."
   ]
  },
  {
   "cell_type": "code",
   "execution_count": 33,
   "metadata": {},
   "outputs": [],
   "source": [
    "import json"
   ]
  },
  {
   "cell_type": "code",
   "execution_count": 34,
   "metadata": {},
   "outputs": [],
   "source": [
    "import urllib"
   ]
  },
  {
   "cell_type": "code",
   "execution_count": 35,
   "metadata": {},
   "outputs": [],
   "source": [
    "#json\n",
    "d_ar=[{}]*len(sorted_dfyr['decimalLatitude'])\n",
    "for i in range(len(sorted_dfyr['decimalLatitude'][:])):\n",
    "    d_ar[i]={\"latitude\":sorted_dfyr['decimalLatitude'][i],\"longitude\":sorted_dfyr['decimalLongitude'][i]}\n",
    "location={\"locations\":d_ar}\n",
    "json_data=json.dumps(location,skipkeys=int).encode('utf8')\n",
    "\n",
    "#SEND REQUEST\n",
    "url=\"https://api.open-elevation.com/api/v1/lookup\"\n",
    "response = urllib.request.Request(url,json_data,headers={'Content-Type': 'application/json'})\n",
    "fp=urllib.request.urlopen(response)\n",
    "\n",
    "#RESPONSE PROCESSING\n",
    "res_byte=fp.read()\n",
    "res_str=res_byte.decode(\"utf8\")\n",
    "js_str=json.loads(res_str)\n",
    "#print (js_mystr)\n",
    "fp.close()\n",
    "\n",
    "#GETTING ELEVATION\n",
    "response_len=len(js_str['results'])\n",
    "elev_list2 = []\n",
    "for j in range(response_len):\n",
    "    elev_list2.append(js_str['results'][j]['elevation'])"
   ]
  },
  {
   "cell_type": "code",
   "execution_count": 36,
   "metadata": {},
   "outputs": [
    {
     "data": {
      "text/plain": [
       "[7,\n",
       " 252,\n",
       " 12,\n",
       " 242,\n",
       " 288,\n",
       " 505,\n",
       " 414,\n",
       " 54,\n",
       " 2316,\n",
       " 288,\n",
       " 138,\n",
       " 138,\n",
       " 72,\n",
       " 67,\n",
       " 68,\n",
       " 406,\n",
       " 183,\n",
       " 1530,\n",
       " 119,\n",
       " 1982,\n",
       " 283,\n",
       " 406,\n",
       " 74,\n",
       " 505,\n",
       " 505,\n",
       " 1722,\n",
       " 1251,\n",
       " 562,\n",
       " 439,\n",
       " 849,\n",
       " 464,\n",
       " 505,\n",
       " 1559,\n",
       " 24,\n",
       " 1643,\n",
       " 1229,\n",
       " 424,\n",
       " 1868,\n",
       " 1482,\n",
       " 2876,\n",
       " 652,\n",
       " 1391,\n",
       " 569,\n",
       " 949,\n",
       " 211,\n",
       " 2146,\n",
       " 889,\n",
       " 1956,\n",
       " 1211,\n",
       " 141,\n",
       " 133,\n",
       " 1391,\n",
       " 384,\n",
       " 56,\n",
       " 336,\n",
       " 1446,\n",
       " 112,\n",
       " 1956,\n",
       " 67,\n",
       " 25,\n",
       " 379,\n",
       " 114,\n",
       " 395,\n",
       " 100,\n",
       " 1868,\n",
       " 411,\n",
       " 1324,\n",
       " 252,\n",
       " 691,\n",
       " 2039,\n",
       " 757,\n",
       " 1667,\n",
       " 1868,\n",
       " 1415,\n",
       " 1415,\n",
       " 1684,\n",
       " 532,\n",
       " 1229,\n",
       " 695,\n",
       " 695,\n",
       " 118,\n",
       " 67,\n",
       " 1555,\n",
       " 395,\n",
       " 1183,\n",
       " 134,\n",
       " 132,\n",
       " 3244,\n",
       " 1970,\n",
       " 1209,\n",
       " 532,\n",
       " 532,\n",
       " 976,\n",
       " 25,\n",
       " 385,\n",
       " 474,\n",
       " 421,\n",
       " 2045,\n",
       " 2045,\n",
       " 1229,\n",
       " 1564,\n",
       " 2045,\n",
       " 328,\n",
       " 287,\n",
       " 168,\n",
       " 113,\n",
       " 72,\n",
       " 1079,\n",
       " 1787,\n",
       " 1787,\n",
       " 1802,\n",
       " 166,\n",
       " 2056,\n",
       " 2042,\n",
       " 998,\n",
       " 449,\n",
       " 335,\n",
       " 62,\n",
       " 594,\n",
       " 594,\n",
       " 1777,\n",
       " 993,\n",
       " 1578,\n",
       " 1640,\n",
       " 826,\n",
       " 409,\n",
       " 1816,\n",
       " 1232,\n",
       " 1541,\n",
       " 174,\n",
       " 492,\n",
       " 1247,\n",
       " 944,\n",
       " 327,\n",
       " 124,\n",
       " 206,\n",
       " 124,\n",
       " 1542,\n",
       " 768,\n",
       " 19,\n",
       " 510,\n",
       " 1336,\n",
       " 201,\n",
       " 1290,\n",
       " 569,\n",
       " 1627,\n",
       " 457,\n",
       " 1278,\n",
       " 899,\n",
       " 1824,\n",
       " 559,\n",
       " 51,\n",
       " 451,\n",
       " 688,\n",
       " 1416,\n",
       " 1416,\n",
       " 559,\n",
       " 411,\n",
       " 2004,\n",
       " 1788,\n",
       " 2008,\n",
       " 1437,\n",
       " 1563,\n",
       " 1396,\n",
       " 1353,\n",
       " 549,\n",
       " 759,\n",
       " 1788,\n",
       " 1884,\n",
       " 491,\n",
       " 1788,\n",
       " 1527,\n",
       " 203,\n",
       " 203,\n",
       " 1599,\n",
       " 1564,\n",
       " 1325,\n",
       " 521,\n",
       " 1263,\n",
       " 1750,\n",
       " 890,\n",
       " 630,\n",
       " 771,\n",
       " 1532,\n",
       " 881,\n",
       " 1514,\n",
       " 1583,\n",
       " 1583,\n",
       " 65,\n",
       " 815,\n",
       " 1433,\n",
       " 868,\n",
       " 870,\n",
       " 1530,\n",
       " 400,\n",
       " 845,\n",
       " 817,\n",
       " 1405,\n",
       " 693,\n",
       " 27,\n",
       " 224,\n",
       " 793,\n",
       " 1236,\n",
       " 651,\n",
       " 1788,\n",
       " 642,\n",
       " 376,\n",
       " 952,\n",
       " 1065,\n",
       " 950,\n",
       " 2019,\n",
       " 2019,\n",
       " 1749,\n",
       " 1093,\n",
       " 1206,\n",
       " 1462,\n",
       " 1460,\n",
       " 2008,\n",
       " 1122,\n",
       " 1661,\n",
       " 54,\n",
       " 478,\n",
       " 1783,\n",
       " 517,\n",
       " 1633,\n",
       " 623,\n",
       " 1009,\n",
       " 460,\n",
       " 623,\n",
       " 565,\n",
       " 144,\n",
       " 1594,\n",
       " 1869,\n",
       " 257,\n",
       " 842,\n",
       " 613,\n",
       " 2013,\n",
       " 1133,\n",
       " 1500,\n",
       " 253,\n",
       " 1697,\n",
       " 1156,\n",
       " 253,\n",
       " 253,\n",
       " 1150,\n",
       " 1438,\n",
       " 1396,\n",
       " 1579,\n",
       " 1438,\n",
       " 1372,\n",
       " 85,\n",
       " 750,\n",
       " 796,\n",
       " 1451,\n",
       " 712,\n",
       " 1290,\n",
       " 1463,\n",
       " 1446,\n",
       " 1808,\n",
       " 1808,\n",
       " 1208,\n",
       " 253,\n",
       " 1757,\n",
       " 14,\n",
       " 762,\n",
       " 794,\n",
       " 669,\n",
       " 1212,\n",
       " 0,\n",
       " 1385,\n",
       " 598,\n",
       " 1868,\n",
       " 620,\n",
       " 1107,\n",
       " 240,\n",
       " 1385,\n",
       " 1289,\n",
       " 1868,\n",
       " 1107,\n",
       " 122,\n",
       " 1289,\n",
       " 122,\n",
       " 1289,\n",
       " 571,\n",
       " 3345,\n",
       " 3124,\n",
       " 121,\n",
       " 1738,\n",
       " 513,\n",
       " 513,\n",
       " 528,\n",
       " 326,\n",
       " 1156,\n",
       " 538,\n",
       " 538,\n",
       " 302,\n",
       " 876,\n",
       " 1783,\n",
       " 1402,\n",
       " 1686,\n",
       " 415,\n",
       " 302,\n",
       " 528,\n",
       " 519,\n",
       " 326,\n",
       " 1686,\n",
       " 562,\n",
       " 513,\n",
       " 876,\n",
       " 342,\n",
       " 302,\n",
       " 519,\n",
       " 415,\n",
       " 528,\n",
       " 1074,\n",
       " 1019,\n",
       " 622,\n",
       " 1509,\n",
       " 1074,\n",
       " 1325,\n",
       " 1243,\n",
       " 604,\n",
       " 1019,\n",
       " 1019,\n",
       " 1683,\n",
       " 1433,\n",
       " 989,\n",
       " 1019,\n",
       " 1683,\n",
       " 392,\n",
       " 1230,\n",
       " 1019,\n",
       " 1954,\n",
       " 1204,\n",
       " 1229,\n",
       " 1129,\n",
       " 1163,\n",
       " 1612,\n",
       " 1954,\n",
       " 1386,\n",
       " 862,\n",
       " 1204,\n",
       " 1300,\n",
       " 1163,\n",
       " 173,\n",
       " 950,\n",
       " 1218,\n",
       " 1009,\n",
       " 174,\n",
       " 174,\n",
       " 1371,\n",
       " 173,\n",
       " 1413,\n",
       " 1517,\n",
       " 2057,\n",
       " 1233,\n",
       " 1384,\n",
       " 1100,\n",
       " 1255,\n",
       " 1265,\n",
       " 1215,\n",
       " 1225,\n",
       " 915,\n",
       " 1056,\n",
       " 84,\n",
       " 1535,\n",
       " 1535,\n",
       " 710,\n",
       " 832,\n",
       " 1535,\n",
       " 80,\n",
       " 1088,\n",
       " 1220,\n",
       " 157,\n",
       " 650,\n",
       " 1310,\n",
       " 154,\n",
       " 1440,\n",
       " 950,\n",
       " 1231,\n",
       " 1739,\n",
       " 863,\n",
       " 98,\n",
       " 102,\n",
       " 1212,\n",
       " 832,\n",
       " 1498,\n",
       " 1998,\n",
       " 1151,\n",
       " 1603,\n",
       " 1330]"
      ]
     },
     "execution_count": 36,
     "metadata": {},
     "output_type": "execute_result"
    }
   ],
   "source": [
    "elev_list2"
   ]
  },
  {
   "cell_type": "markdown",
   "metadata": {},
   "source": [
    "Create a new dataframe with the elevation data temporally sorted."
   ]
  },
  {
   "cell_type": "code",
   "execution_count": 37,
   "metadata": {},
   "outputs": [],
   "source": [
    "df_elev = pd.DataFrame({'elevation':elev_list2})\n",
    "\n"
   ]
  },
  {
   "cell_type": "code",
   "execution_count": 38,
   "metadata": {},
   "outputs": [
    {
     "data": {
      "text/html": [
       "<div>\n",
       "<style scoped>\n",
       "    .dataframe tbody tr th:only-of-type {\n",
       "        vertical-align: middle;\n",
       "    }\n",
       "\n",
       "    .dataframe tbody tr th {\n",
       "        vertical-align: top;\n",
       "    }\n",
       "\n",
       "    .dataframe thead th {\n",
       "        text-align: right;\n",
       "    }\n",
       "</style>\n",
       "<table border=\"1\" class=\"dataframe\">\n",
       "  <thead>\n",
       "    <tr style=\"text-align: right;\">\n",
       "      <th></th>\n",
       "      <th>elevation</th>\n",
       "    </tr>\n",
       "  </thead>\n",
       "  <tbody>\n",
       "    <tr>\n",
       "      <th>0</th>\n",
       "      <td>7</td>\n",
       "    </tr>\n",
       "    <tr>\n",
       "      <th>1</th>\n",
       "      <td>252</td>\n",
       "    </tr>\n",
       "    <tr>\n",
       "      <th>2</th>\n",
       "      <td>12</td>\n",
       "    </tr>\n",
       "    <tr>\n",
       "      <th>3</th>\n",
       "      <td>242</td>\n",
       "    </tr>\n",
       "    <tr>\n",
       "      <th>4</th>\n",
       "      <td>288</td>\n",
       "    </tr>\n",
       "    <tr>\n",
       "      <th>...</th>\n",
       "      <td>...</td>\n",
       "    </tr>\n",
       "    <tr>\n",
       "      <th>386</th>\n",
       "      <td>1498</td>\n",
       "    </tr>\n",
       "    <tr>\n",
       "      <th>387</th>\n",
       "      <td>1998</td>\n",
       "    </tr>\n",
       "    <tr>\n",
       "      <th>388</th>\n",
       "      <td>1151</td>\n",
       "    </tr>\n",
       "    <tr>\n",
       "      <th>389</th>\n",
       "      <td>1603</td>\n",
       "    </tr>\n",
       "    <tr>\n",
       "      <th>390</th>\n",
       "      <td>1330</td>\n",
       "    </tr>\n",
       "  </tbody>\n",
       "</table>\n",
       "<p>391 rows × 1 columns</p>\n",
       "</div>"
      ],
      "text/plain": [
       "     elevation\n",
       "0            7\n",
       "1          252\n",
       "2           12\n",
       "3          242\n",
       "4          288\n",
       "..         ...\n",
       "386       1498\n",
       "387       1998\n",
       "388       1151\n",
       "389       1603\n",
       "390       1330\n",
       "\n",
       "[391 rows x 1 columns]"
      ]
     },
     "execution_count": 38,
     "metadata": {},
     "output_type": "execute_result"
    }
   ],
   "source": [
    "df_elev"
   ]
  },
  {
   "cell_type": "markdown",
   "metadata": {},
   "source": [
    "Below is a power analysis to determine necessary sample size if we want to find a small effect size of at least .2 based on a standard significance of .05 and a power of .08.   We would want at least 199 observations."
   ]
  },
  {
   "cell_type": "code",
   "execution_count": 98,
   "metadata": {},
   "outputs": [
    {
     "name": "stdout",
     "output_type": "stream",
     "text": [
      "198.1508243394218\n"
     ]
    }
   ],
   "source": [
    "from statsmodels.stats import power\n",
    "nobs = power.tt_solve_power(\n",
    "effect_size= .2, alpha =0.05, power=0.8 )\n",
    "print (nobs)"
   ]
  },
  {
   "cell_type": "markdown",
   "metadata": {},
   "source": [
    "Below are several tests for normality.  It turns out the data is not normally distributed, but with a sample size larger than 20-30 like ours a power analysis is robust to non-normality and linear regressions do not require normality."
   ]
  },
  {
   "cell_type": "code",
   "execution_count": 64,
   "metadata": {},
   "outputs": [
    {
     "name": "stdout",
     "output_type": "stream",
     "text": [
      "0.003436126893677618\n"
     ]
    }
   ],
   "source": [
    "from scipy.stats import normaltest\n",
    "k2, p = normaltest(elev_list2)\n",
    "print(p)"
   ]
  },
  {
   "cell_type": "code",
   "execution_count": 63,
   "metadata": {},
   "outputs": [
    {
     "data": {
      "image/png": "[encoded data removed]",
      "text/plain": [
       "<Figure size 432x288 with 1 Axes>"
      ]
     },
     "metadata": {
      "needs_background": "light"
     },
     "output_type": "display_data"
    },
    {
     "data": {
      "image/png": "[encoded data removed]",
      "text/plain": [
       "<Figure size 432x288 with 1 Axes>"
      ]
     },
     "metadata": {
      "needs_background": "light"
     },
     "output_type": "display_data"
    },
    {
     "name": "stdout",
     "output_type": "stream",
     "text": [
      "p-values for all 391 data points: ----------------\n",
      "Omnibus               3.436127e-03\n",
      "Shapiro-Wilk          6.852133e-10\n",
      "Lilliefors            1.000000e-03\n",
      "Kolmogorov-Smirnov    2.043427e-03\n",
      "dtype: float64\n",
      "p-values for the first 100 data points: ----------------\n",
      "Omnibus               1.974113e-03\n",
      "Shapiro-Wilk          2.044461e-07\n",
      "Lilliefors            1.000000e-03\n",
      "Kolmogorov-Smirnov    1.020673e-03\n",
      "dtype: float64\n"
     ]
    },
    {
     "name": "stderr",
     "output_type": "stream",
     "text": [
      "<ipython-input-63-09d9d741c11d>:23: DeprecationWarning: The default dtype for empty Series will be 'object' instead of 'float64' in a future version. Specify a dtype explicitly to silence this warning.\n",
      "  pVals = pd.Series()\n",
      "<ipython-input-63-09d9d741c11d>:24: DeprecationWarning: The default dtype for empty Series will be 'object' instead of 'float64' in a future version. Specify a dtype explicitly to silence this warning.\n",
      "  pFewVals = pd.Series()\n"
     ]
    }
   ],
   "source": [
    "from statsmodels.stats.diagnostic import lilliefors\n",
    "# Set the parameters\n",
    "#numData = len(df_elev) \n",
    "#myMean = np.mean(df_elev)\n",
    "#mySD = np.std(df_elev)\n",
    "    \n",
    "    # To get reproducable values, I provide a seed value\n",
    "    #np.random.seed(1234)   \n",
    "    \n",
    "    # Generate and show random data\n",
    "data = elev_list2\n",
    "#stats.norm.rvs(df_elev)\n",
    "fewData = data[:100]\n",
    "plt.hist(data)\n",
    "plt.show()\n",
    "\n",
    "    # --- >>> START stats <<< ---\n",
    "    # Graphical test: if the data lie on a line, they are pretty much\n",
    "    # normally distributed\n",
    "_ = stats.probplot(elev_list2, plot=plt)\n",
    "plt.show()\n",
    "\n",
    "pVals = pd.Series()\n",
    "pFewVals = pd.Series()\n",
    "    # The scipy normaltest is based on D-Agostino and Pearsons test that\n",
    "    # combines skew and kurtosis to produce an omnibus test of normality.\n",
    "_, pVals['Omnibus']    = stats.normaltest(data)\n",
    "_, pFewVals['Omnibus'] = stats.normaltest(fewData)\n",
    "\n",
    "    # Shapiro-Wilk test\n",
    "_, pVals['Shapiro-Wilk']    = stats.shapiro(data)\n",
    "_, pFewVals['Shapiro-Wilk'] = stats.shapiro(fewData)\n",
    "    \n",
    "    # Or you can check for normality with Lilliefors-test\n",
    "_, pVals['Lilliefors']    = lilliefors(data)\n",
    "_, pFewVals['Lilliefors'] = lilliefors(fewData)\n",
    "    \n",
    "    # Alternatively with original Kolmogorov-Smirnov test\n",
    "_, pVals['Kolmogorov-Smirnov']    = stats.kstest((data-np.mean(data))/np.std(data,ddof=1), 'norm')\n",
    "_, pFewVals['Kolmogorov-Smirnov'] = stats.kstest((fewData-np.mean(fewData))/np.std(fewData,ddof=1), 'norm')\n",
    "    \n",
    "print('p-values for all {0} data points: ----------------'.format(len(data)))\n",
    "print(pVals)\n",
    "print('p-values for the first 100 data points: ----------------')\n",
    "print(pFewVals)\n",
    "    \n",
    "if pVals['Omnibus'] > 0.05:\n",
    "    print('Data are normally distributed')"
   ]
  },
  {
   "cell_type": "code",
   "execution_count": 91,
   "metadata": {},
   "outputs": [
    {
     "data": {
      "text/plain": [
       "640.8695306683879"
      ]
     },
     "execution_count": 91,
     "metadata": {},
     "output_type": "execute_result"
    }
   ],
   "source": [
    "np.std(elev_list2)"
   ]
  },
  {
   "cell_type": "code",
   "execution_count": 94,
   "metadata": {},
   "outputs": [
    {
     "data": {
      "text/plain": [
       "0      1.945910\n",
       "1      5.529429\n",
       "2      2.484907\n",
       "3      5.488938\n",
       "4      5.662960\n",
       "         ...   \n",
       "386    7.311886\n",
       "387    7.599902\n",
       "388    7.048386\n",
       "389    7.379632\n",
       "390    7.192934\n",
       "Name: elevation, Length: 391, dtype: float64"
      ]
     },
     "execution_count": 94,
     "metadata": {},
     "output_type": "execute_result"
    }
   ],
   "source": [
    "elev_listlog = df_elev['elevation'].apply(lambda x: np.log(x))\n",
    "elev_listlog.dropna()"
   ]
  },
  {
   "cell_type": "code",
   "execution_count": 96,
   "metadata": {},
   "outputs": [
    {
     "name": "stdout",
     "output_type": "stream",
     "text": [
      "1.3157636831020977e-21\n"
     ]
    },
    {
     "data": {
      "text/plain": [
       "(array([  2.,   3.,   3.,  14.,  22.,  26.,  53.,  73., 157.,  37.]),\n",
       " array([1.94591015, 2.56284133, 3.17977251, 3.7967037 , 4.41363488,\n",
       "        5.03056606, 5.64749724, 6.26442843, 6.88135961, 7.49829079,\n",
       "        8.11522197]),\n",
       " <BarContainer object of 10 artists>)"
      ]
     },
     "execution_count": 96,
     "metadata": {},
     "output_type": "execute_result"
    },
    {
     "data": {
      "image/png": "[encoded data removed]",
      "text/plain": [
       "<Figure size 432x288 with 1 Axes>"
      ]
     },
     "metadata": {
      "needs_background": "light"
     },
     "output_type": "display_data"
    }
   ],
   "source": [
    "elev_listlog.replace([np.inf, -np.inf], np.nan, inplace=True) \n",
    "  \n",
    "# Dropping all the rows with nan values \n",
    "elev_listlog.dropna(inplace=True) \n",
    "\n",
    "elev_log = elev_listlog.tolist() \n",
    "\n",
    "from scipy.stats import normaltest\n",
    "k2, p = normaltest(elev_log)\n",
    "print(p)\n",
    "plt.hist(elev_log)"
   ]
  },
  {
   "cell_type": "markdown",
   "metadata": {},
   "source": [
    "Create a 'count' column mirroring the index in order to have an x-axis for a linear regression"
   ]
  },
  {
   "cell_type": "code",
   "execution_count": 39,
   "metadata": {},
   "outputs": [],
   "source": [
    "df_elev['count'] = df_elev.index"
   ]
  },
  {
   "cell_type": "code",
   "execution_count": 40,
   "metadata": {},
   "outputs": [
    {
     "data": {
      "text/html": [
       "<div>\n",
       "<style scoped>\n",
       "    .dataframe tbody tr th:only-of-type {\n",
       "        vertical-align: middle;\n",
       "    }\n",
       "\n",
       "    .dataframe tbody tr th {\n",
       "        vertical-align: top;\n",
       "    }\n",
       "\n",
       "    .dataframe thead th {\n",
       "        text-align: right;\n",
       "    }\n",
       "</style>\n",
       "<table border=\"1\" class=\"dataframe\">\n",
       "  <thead>\n",
       "    <tr style=\"text-align: right;\">\n",
       "      <th></th>\n",
       "      <th>elevation</th>\n",
       "      <th>count</th>\n",
       "    </tr>\n",
       "  </thead>\n",
       "  <tbody>\n",
       "    <tr>\n",
       "      <th>0</th>\n",
       "      <td>7</td>\n",
       "      <td>0</td>\n",
       "    </tr>\n",
       "    <tr>\n",
       "      <th>1</th>\n",
       "      <td>252</td>\n",
       "      <td>1</td>\n",
       "    </tr>\n",
       "    <tr>\n",
       "      <th>2</th>\n",
       "      <td>12</td>\n",
       "      <td>2</td>\n",
       "    </tr>\n",
       "    <tr>\n",
       "      <th>3</th>\n",
       "      <td>242</td>\n",
       "      <td>3</td>\n",
       "    </tr>\n",
       "    <tr>\n",
       "      <th>4</th>\n",
       "      <td>288</td>\n",
       "      <td>4</td>\n",
       "    </tr>\n",
       "    <tr>\n",
       "      <th>...</th>\n",
       "      <td>...</td>\n",
       "      <td>...</td>\n",
       "    </tr>\n",
       "    <tr>\n",
       "      <th>386</th>\n",
       "      <td>1498</td>\n",
       "      <td>386</td>\n",
       "    </tr>\n",
       "    <tr>\n",
       "      <th>387</th>\n",
       "      <td>1998</td>\n",
       "      <td>387</td>\n",
       "    </tr>\n",
       "    <tr>\n",
       "      <th>388</th>\n",
       "      <td>1151</td>\n",
       "      <td>388</td>\n",
       "    </tr>\n",
       "    <tr>\n",
       "      <th>389</th>\n",
       "      <td>1603</td>\n",
       "      <td>389</td>\n",
       "    </tr>\n",
       "    <tr>\n",
       "      <th>390</th>\n",
       "      <td>1330</td>\n",
       "      <td>390</td>\n",
       "    </tr>\n",
       "  </tbody>\n",
       "</table>\n",
       "<p>391 rows × 2 columns</p>\n",
       "</div>"
      ],
      "text/plain": [
       "     elevation  count\n",
       "0            7      0\n",
       "1          252      1\n",
       "2           12      2\n",
       "3          242      3\n",
       "4          288      4\n",
       "..         ...    ...\n",
       "386       1498    386\n",
       "387       1998    387\n",
       "388       1151    388\n",
       "389       1603    389\n",
       "390       1330    390\n",
       "\n",
       "[391 rows x 2 columns]"
      ]
     },
     "execution_count": 40,
     "metadata": {},
     "output_type": "execute_result"
    }
   ],
   "source": [
    "df_elev"
   ]
  },
  {
   "cell_type": "markdown",
   "metadata": {},
   "source": [
    "Perform linear regression on elevation data in order to determine if there is a temporal trend in the elevation of observations for the Mountain Dogwood."
   ]
  },
  {
   "cell_type": "code",
   "execution_count": 41,
   "metadata": {},
   "outputs": [],
   "source": [
    "import matplotlib.pyplot as plt"
   ]
  },
  {
   "cell_type": "code",
   "execution_count": 42,
   "metadata": {},
   "outputs": [],
   "source": [
    "import numpy as np"
   ]
  },
  {
   "cell_type": "markdown",
   "metadata": {},
   "source": [
    "The results of the linear regression indicate a rise of approx. 300 meters over approx. a century of observation."
   ]
  },
  {
   "cell_type": "code",
   "execution_count": 43,
   "metadata": {},
   "outputs": [
    {
     "data": {
      "text/plain": [
       "[<matplotlib.lines.Line2D at 0x198d79153a0>]"
      ]
     },
     "execution_count": 43,
     "metadata": {},
     "output_type": "execute_result"
    },
    {
     "data": {
      "image/png": "[encoded data removed]",
      "text/plain": [
       "<Figure size 432x288 with 1 Axes>"
      ]
     },
     "metadata": {
      "needs_background": "light"
     },
     "output_type": "display_data"
    }
   ],
   "source": [
    "x = df_elev['count']\n",
    "plt.plot(df_elev['count'], df_elev['elevation'], 'o')\n",
    "m, b = np.polyfit(df_elev['count'], df_elev['elevation'], 1)\n",
    "plt.title('Mountain Dogwood temporal elevation regression')\n",
    "plt.xlabel('temporal sort: 1899-2013')\n",
    "plt.ylabel('elevation in meters')\n",
    "plt.plot(x, m*x+b)"
   ]
  },
  {
   "cell_type": "markdown",
   "metadata": {},
   "source": [
    "Below we get the p value on the regression to determine if the modeling is significant and with a p value of .007 it is."
   ]
  },
  {
   "cell_type": "code",
   "execution_count": 44,
   "metadata": {},
   "outputs": [
    {
     "data": {
      "text/plain": [
       "LinregressResult(slope=0.776116466653551, intercept=818.2173913043478, rvalue=0.13669165058396915, pvalue=0.006790128007655335, stderr=0.28517694679611183)"
      ]
     },
     "execution_count": 44,
     "metadata": {},
     "output_type": "execute_result"
    }
   ],
   "source": [
    "from scipy import stats\n",
    "stats.linregress(x= df_elev['count'], y = df_elev['elevation'])"
   ]
  },
  {
   "cell_type": "markdown",
   "metadata": {},
   "source": [
    "It's possible that this finding is confounded by other variables. One possibility is latitude (other possibilities outside the domain of this analysis include moisture levels, pathogens and geographic peculiarities e.g. the southern portion of a mountain range may have higher elevations allowing for more specimen observations of alpine species in the southern region). There may also be issues of sampling bias (the lower left portion of the latitudinal regression corresponding to more southerly observations before the 1920s seems to have a suspicious lack of data). We run a linear regression upon changes in latitude over the approx. century of observation. We find there has been a southward shift of approx. 2 degrees of latitude."
   ]
  },
  {
   "cell_type": "code",
   "execution_count": 45,
   "metadata": {},
   "outputs": [
    {
     "data": {
      "text/plain": [
       "[<matplotlib.lines.Line2D at 0x198d7951b80>]"
      ]
     },
     "execution_count": 45,
     "metadata": {},
     "output_type": "execute_result"
    },
    {
     "data": {
      "image/png": "[encoded data removed]",
      "text/plain": [
       "<Figure size 432x288 with 1 Axes>"
      ]
     },
     "metadata": {
      "needs_background": "light"
     },
     "output_type": "display_data"
    }
   ],
   "source": [
    "x = sorted_dfyr['year']\n",
    "plt.plot(sorted_dfyr['year'], sorted_dfyr['decimalLatitude'], 'o')\n",
    "m, b = np.polyfit(sorted_dfyr['year'], sorted_dfyr['decimalLatitude'], 1)\n",
    "plt.title('Mountain Dogwood temporal latitude regression')\n",
    "plt.xlabel('year')\n",
    "plt.ylabel('latitude')\n",
    "plt.plot(x, m*x+b)"
   ]
  },
  {
   "cell_type": "markdown",
   "metadata": {},
   "source": [
    "Below we obtain a p level below our alpha of .05 which grants this finding statistical significance."
   ]
  },
  {
   "cell_type": "code",
   "execution_count": 46,
   "metadata": {},
   "outputs": [
    {
     "data": {
      "text/plain": [
       "LinregressResult(slope=-0.017677453307400937, intercept=74.80543831268966, rvalue=-0.1339874979837837, pvalue=0.007979854966857325, stderr=0.006628981925000532)"
      ]
     },
     "execution_count": 46,
     "metadata": {},
     "output_type": "execute_result"
    }
   ],
   "source": [
    "\n",
    "stats.linregress(x= sorted_dfyr['year'], y = sorted_dfyr['decimalLatitude'])"
   ]
  },
  {
   "cell_type": "code",
   "execution_count": 28,
   "metadata": {},
   "outputs": [
    {
     "data": {
      "text/plain": [
       "74.80543831268963"
      ]
     },
     "execution_count": 28,
     "metadata": {},
     "output_type": "execute_result"
    }
   ],
   "source": [
    "b"
   ]
  },
  {
   "cell_type": "code",
   "execution_count": 30,
   "metadata": {},
   "outputs": [
    {
     "data": {
      "text/plain": [
       "-0.017677453307400927"
      ]
     },
     "execution_count": 30,
     "metadata": {},
     "output_type": "execute_result"
    }
   ],
   "source": [
    "m"
   ]
  },
  {
   "cell_type": "code",
   "execution_count": 31,
   "metadata": {},
   "outputs": [
    {
     "data": {
      "text/plain": [
       "41.21827702862787"
      ]
     },
     "execution_count": 31,
     "metadata": {},
     "output_type": "execute_result"
    }
   ],
   "source": [
    "m*1900 + b"
   ]
  },
  {
   "cell_type": "code",
   "execution_count": 32,
   "metadata": {},
   "outputs": [
    {
     "data": {
      "text/plain": [
       "39.273757164813766"
      ]
     },
     "execution_count": 32,
     "metadata": {},
     "output_type": "execute_result"
    }
   ],
   "source": [
    "m*2010 + b"
   ]
  },
  {
   "cell_type": "markdown",
   "metadata": {},
   "source": [
    "Below is the same elevation regression from earlier, along with the shift in means (818 m to 1121 m)"
   ]
  },
  {
   "cell_type": "code",
   "execution_count": 70,
   "metadata": {},
   "outputs": [
    {
     "data": {
      "text/plain": [
       "[<matplotlib.lines.Line2D at 0x1a9a88a5700>]"
      ]
     },
     "execution_count": 70,
     "metadata": {},
     "output_type": "execute_result"
    },
    {
     "data": {
      "image/png": "[encoded data removed]",
      "text/plain": [
       "<Figure size 432x288 with 1 Axes>"
      ]
     },
     "metadata": {
      "needs_background": "light"
     },
     "output_type": "display_data"
    }
   ],
   "source": [
    "x = df_elev['count']\n",
    "plt.plot(df_elev['count'], df_elev['elevation'], 'o')\n",
    "m, b = np.polyfit(df_elev['count'], df_elev['elevation'], 1)\n",
    "plt.title('Mountain Dogwood temporal elevation regression')\n",
    "plt.xlabel('temporal sort: 1899-2013')\n",
    "plt.ylabel('elevation in meters')\n",
    "plt.plot(x, m*x+b)"
   ]
  },
  {
   "cell_type": "code",
   "execution_count": 34,
   "metadata": {},
   "outputs": [
    {
     "data": {
      "text/plain": [
       "818.2173913043474"
      ]
     },
     "execution_count": 34,
     "metadata": {},
     "output_type": "execute_result"
    }
   ],
   "source": [
    "b"
   ]
  },
  {
   "cell_type": "code",
   "execution_count": 35,
   "metadata": {},
   "outputs": [
    {
     "data": {
      "text/plain": [
       "1120.9028132992325"
      ]
     },
     "execution_count": 35,
     "metadata": {},
     "output_type": "execute_result"
    }
   ],
   "source": [
    "m*390 + b"
   ]
  },
  {
   "cell_type": "markdown",
   "metadata": {},
   "source": [
    "\n",
    "\n",
    "Is a southward shift of 2 degrees sufficient to explain the rise in elevation? The average treeline in the North Cascades is at approx. 1800 meters of elevation. In the Sierra Nevadas the treeline on average is found at approx. 3000 meters. This is a decline of 1200 meters as we head approx. 10 degrees further north in latitude, or about 120 meters per degree of latitude. It would seem the rise in elevation is confounded somewhat by the southward shift of the Mountain Dogwood.\n"
   ]
  },
  {
   "cell_type": "code",
   "execution_count": 73,
   "metadata": {},
   "outputs": [
    {
     "data": {
      "text/plain": [
       "120.0"
      ]
     },
     "execution_count": 73,
     "metadata": {},
     "output_type": "execute_result"
    }
   ],
   "source": [
    "1200/ 10"
   ]
  },
  {
   "cell_type": "markdown",
   "metadata": {},
   "source": [
    "We can also run another regression based on our specific species data to see how elevation relates to latitude."
   ]
  },
  {
   "cell_type": "code",
   "execution_count": 69,
   "metadata": {},
   "outputs": [
    {
     "data": {
      "text/plain": [
       "[<matplotlib.lines.Line2D at 0x1a9a8868640>]"
      ]
     },
     "execution_count": 69,
     "metadata": {},
     "output_type": "execute_result"
    },
    {
     "data": {
      "image/png": "[encoded data removed]",
      "text/plain": [
       "<Figure size 432x288 with 1 Axes>"
      ]
     },
     "metadata": {
      "needs_background": "light"
     },
     "output_type": "display_data"
    }
   ],
   "source": [
    "x = sorted_dfyr['decimalLatitude']\n",
    "plt.plot(sorted_dfyr['decimalLatitude'], df_elev['elevation'], 'o')\n",
    "m, b = np.polyfit(sorted_dfyr['decimalLatitude'], df_elev['elevation'], 1)\n",
    "plt.title('Mountain Dogwood elevation-latitude regression')\n",
    "plt.xlabel('latitude')\n",
    "plt.ylabel('elevation in meters')\n",
    "plt.plot(x, m*x+b)"
   ]
  },
  {
   "cell_type": "markdown",
   "metadata": {},
   "source": [
    "We can see that the relationship is not unexpected with a decrease of approx. 1100 meters in average elevation across 10 degrees of latitude."
   ]
  },
  {
   "cell_type": "code",
   "execution_count": 59,
   "metadata": {},
   "outputs": [
    {
     "data": {
      "text/plain": [
       "1278.4593751827324"
      ]
     },
     "execution_count": 59,
     "metadata": {},
     "output_type": "execute_result"
    }
   ],
   "source": [
    "m*37 + b"
   ]
  },
  {
   "cell_type": "code",
   "execution_count": 53,
   "metadata": {},
   "outputs": [
    {
     "data": {
      "text/plain": [
       "208.77692077522352"
      ]
     },
     "execution_count": 53,
     "metadata": {},
     "output_type": "execute_result"
    }
   ],
   "source": [
    "m*47 + b"
   ]
  },
  {
   "cell_type": "markdown",
   "metadata": {},
   "source": [
    "As a final look, we can insert a confidence interval shading on the regression.  "
   ]
  },
  {
   "cell_type": "code",
   "execution_count": 142,
   "metadata": {},
   "outputs": [
    {
     "data": {
      "text/plain": [
       "<AxesSubplot:xlabel='count', ylabel='elevation'>"
      ]
     },
     "execution_count": 142,
     "metadata": {},
     "output_type": "execute_result"
    },
    {
     "data": {
      "image/png": "[encoded data removed]",
      "text/plain": [
       "<Figure size 432x288 with 1 Axes>"
      ]
     },
     "metadata": {},
     "output_type": "display_data"
    }
   ],
   "source": [
    "import seaborn as sns\n",
    "sns.set(style=\"darkgrid\")  \n",
    "scatter_kws={\"s\": 1}\n",
    "\n",
    "sns.regplot(x = 'count', y ='elevation', data=df_elev, marker = '.', ci=95)"
   ]
  },
  {
   "cell_type": "markdown",
   "metadata": {},
   "source": [
    "We will now run a similar analysis on the Whitebark Pine (pinus albicaulis)."
   ]
  },
  {
   "cell_type": "code",
   "execution_count": 119,
   "metadata": {},
   "outputs": [],
   "source": [
    "df_pin = pd.read_csv('Desktop/biodata/0077546-200613084148143 - 0077546-200613084148143.csv')"
   ]
  },
  {
   "cell_type": "markdown",
   "metadata": {},
   "source": [
    "This file comes with some pre-existing elevation data, but is incomplete and so we will obtain information from Open-Elevation again."
   ]
  },
  {
   "cell_type": "code",
   "execution_count": 120,
   "metadata": {},
   "outputs": [
    {
     "data": {
      "text/html": [
       "<div>\n",
       "<style scoped>\n",
       "    .dataframe tbody tr th:only-of-type {\n",
       "        vertical-align: middle;\n",
       "    }\n",
       "\n",
       "    .dataframe tbody tr th {\n",
       "        vertical-align: top;\n",
       "    }\n",
       "\n",
       "    .dataframe thead th {\n",
       "        text-align: right;\n",
       "    }\n",
       "</style>\n",
       "<table border=\"1\" class=\"dataframe\">\n",
       "  <thead>\n",
       "    <tr style=\"text-align: right;\">\n",
       "      <th></th>\n",
       "      <th>decimalLatitude</th>\n",
       "      <th>decimalLongitude</th>\n",
       "      <th>elevation</th>\n",
       "      <th>eventDate</th>\n",
       "      <th>year</th>\n",
       "    </tr>\n",
       "  </thead>\n",
       "  <tbody>\n",
       "    <tr>\n",
       "      <th>0</th>\n",
       "      <td>40.479957</td>\n",
       "      <td>-121.503473</td>\n",
       "      <td>NaN</td>\n",
       "      <td>2007-08-07T09:00:00</td>\n",
       "      <td>2007</td>\n",
       "    </tr>\n",
       "    <tr>\n",
       "      <th>1</th>\n",
       "      <td>39.315063</td>\n",
       "      <td>-119.885506</td>\n",
       "      <td>NaN</td>\n",
       "      <td>2008-02-18T08:00:00</td>\n",
       "      <td>2008</td>\n",
       "    </tr>\n",
       "    <tr>\n",
       "      <th>2</th>\n",
       "      <td>43.749949</td>\n",
       "      <td>-110.079905</td>\n",
       "      <td>NaN</td>\n",
       "      <td>2004-01-21T09:50:00</td>\n",
       "      <td>2004</td>\n",
       "    </tr>\n",
       "    <tr>\n",
       "      <th>3</th>\n",
       "      <td>41.027222</td>\n",
       "      <td>-115.085000</td>\n",
       "      <td>2545.00</td>\n",
       "      <td>2004-07-28T00:00:00</td>\n",
       "      <td>2004</td>\n",
       "    </tr>\n",
       "    <tr>\n",
       "      <th>4</th>\n",
       "      <td>41.027222</td>\n",
       "      <td>-115.085000</td>\n",
       "      <td>2545.00</td>\n",
       "      <td>2004-07-28T00:00:00</td>\n",
       "      <td>2004</td>\n",
       "    </tr>\n",
       "    <tr>\n",
       "      <th>...</th>\n",
       "      <td>...</td>\n",
       "      <td>...</td>\n",
       "      <td>...</td>\n",
       "      <td>...</td>\n",
       "      <td>...</td>\n",
       "    </tr>\n",
       "    <tr>\n",
       "      <th>266</th>\n",
       "      <td>42.600000</td>\n",
       "      <td>-120.200000</td>\n",
       "      <td>NaN</td>\n",
       "      <td>1936-07-05T00:00:00</td>\n",
       "      <td>1936</td>\n",
       "    </tr>\n",
       "    <tr>\n",
       "      <th>267</th>\n",
       "      <td>44.300000</td>\n",
       "      <td>-121.800000</td>\n",
       "      <td>NaN</td>\n",
       "      <td>1934-06-10T00:00:00</td>\n",
       "      <td>1934</td>\n",
       "    </tr>\n",
       "    <tr>\n",
       "      <th>268</th>\n",
       "      <td>44.600000</td>\n",
       "      <td>-118.600000</td>\n",
       "      <td>2377.44</td>\n",
       "      <td>1925-07-25T00:00:00</td>\n",
       "      <td>1925</td>\n",
       "    </tr>\n",
       "    <tr>\n",
       "      <th>269</th>\n",
       "      <td>43.500000</td>\n",
       "      <td>-122.100000</td>\n",
       "      <td>NaN</td>\n",
       "      <td>1932-07-04T00:00:00</td>\n",
       "      <td>1932</td>\n",
       "    </tr>\n",
       "    <tr>\n",
       "      <th>270</th>\n",
       "      <td>42.300000</td>\n",
       "      <td>-120.100000</td>\n",
       "      <td>2530.00</td>\n",
       "      <td>1977-07-11T00:00:00</td>\n",
       "      <td>1977</td>\n",
       "    </tr>\n",
       "  </tbody>\n",
       "</table>\n",
       "<p>271 rows × 5 columns</p>\n",
       "</div>"
      ],
      "text/plain": [
       "     decimalLatitude  decimalLongitude  elevation            eventDate  year\n",
       "0          40.479957       -121.503473        NaN  2007-08-07T09:00:00  2007\n",
       "1          39.315063       -119.885506        NaN  2008-02-18T08:00:00  2008\n",
       "2          43.749949       -110.079905        NaN  2004-01-21T09:50:00  2004\n",
       "3          41.027222       -115.085000    2545.00  2004-07-28T00:00:00  2004\n",
       "4          41.027222       -115.085000    2545.00  2004-07-28T00:00:00  2004\n",
       "..               ...               ...        ...                  ...   ...\n",
       "266        42.600000       -120.200000        NaN  1936-07-05T00:00:00  1936\n",
       "267        44.300000       -121.800000        NaN  1934-06-10T00:00:00  1934\n",
       "268        44.600000       -118.600000    2377.44  1925-07-25T00:00:00  1925\n",
       "269        43.500000       -122.100000        NaN  1932-07-04T00:00:00  1932\n",
       "270        42.300000       -120.100000    2530.00  1977-07-11T00:00:00  1977\n",
       "\n",
       "[271 rows x 5 columns]"
      ]
     },
     "execution_count": 120,
     "metadata": {},
     "output_type": "execute_result"
    }
   ],
   "source": [
    "df_pin"
   ]
  },
  {
   "cell_type": "markdown",
   "metadata": {},
   "source": [
    "Again we sort the data temporally."
   ]
  },
  {
   "cell_type": "code",
   "execution_count": 121,
   "metadata": {},
   "outputs": [],
   "source": [
    "sorted_dfpin = df_pin.sort_values(by='eventDate')\n"
   ]
  },
  {
   "cell_type": "code",
   "execution_count": 122,
   "metadata": {},
   "outputs": [
    {
     "data": {
      "text/html": [
       "<div>\n",
       "<style scoped>\n",
       "    .dataframe tbody tr th:only-of-type {\n",
       "        vertical-align: middle;\n",
       "    }\n",
       "\n",
       "    .dataframe tbody tr th {\n",
       "        vertical-align: top;\n",
       "    }\n",
       "\n",
       "    .dataframe thead th {\n",
       "        text-align: right;\n",
       "    }\n",
       "</style>\n",
       "<table border=\"1\" class=\"dataframe\">\n",
       "  <thead>\n",
       "    <tr style=\"text-align: right;\">\n",
       "      <th></th>\n",
       "      <th>decimalLatitude</th>\n",
       "      <th>decimalLongitude</th>\n",
       "      <th>elevation</th>\n",
       "      <th>eventDate</th>\n",
       "      <th>year</th>\n",
       "    </tr>\n",
       "  </thead>\n",
       "  <tbody>\n",
       "    <tr>\n",
       "      <th>210</th>\n",
       "      <td>46.033730</td>\n",
       "      <td>-121.492740</td>\n",
       "      <td>1982.0</td>\n",
       "      <td>1892-08-03T00:00:00</td>\n",
       "      <td>1892</td>\n",
       "    </tr>\n",
       "    <tr>\n",
       "      <th>183</th>\n",
       "      <td>45.500000</td>\n",
       "      <td>-111.330000</td>\n",
       "      <td>2150.0</td>\n",
       "      <td>1897-07-28T00:00:00</td>\n",
       "      <td>1897</td>\n",
       "    </tr>\n",
       "    <tr>\n",
       "      <th>78</th>\n",
       "      <td>37.843810</td>\n",
       "      <td>-119.421830</td>\n",
       "      <td>NaN</td>\n",
       "      <td>1898-08-07T00:00:00</td>\n",
       "      <td>1898</td>\n",
       "    </tr>\n",
       "    <tr>\n",
       "      <th>143</th>\n",
       "      <td>41.369300</td>\n",
       "      <td>-122.349800</td>\n",
       "      <td>1905.0</td>\n",
       "      <td>1899-08-01T00:00:00</td>\n",
       "      <td>1899</td>\n",
       "    </tr>\n",
       "    <tr>\n",
       "      <th>168</th>\n",
       "      <td>41.316600</td>\n",
       "      <td>-122.486700</td>\n",
       "      <td>NaN</td>\n",
       "      <td>1899-08-01T00:00:00</td>\n",
       "      <td>1899</td>\n",
       "    </tr>\n",
       "    <tr>\n",
       "      <th>...</th>\n",
       "      <td>...</td>\n",
       "      <td>...</td>\n",
       "      <td>...</td>\n",
       "      <td>...</td>\n",
       "      <td>...</td>\n",
       "    </tr>\n",
       "    <tr>\n",
       "      <th>200</th>\n",
       "      <td>44.282600</td>\n",
       "      <td>-118.707330</td>\n",
       "      <td>2419.0</td>\n",
       "      <td>2010-07-16T00:00:00</td>\n",
       "      <td>2010</td>\n",
       "    </tr>\n",
       "    <tr>\n",
       "      <th>22</th>\n",
       "      <td>43.706387</td>\n",
       "      <td>-121.235712</td>\n",
       "      <td>NaN</td>\n",
       "      <td>2010-07-16T11:51:00</td>\n",
       "      <td>2010</td>\n",
       "    </tr>\n",
       "    <tr>\n",
       "      <th>201</th>\n",
       "      <td>44.575610</td>\n",
       "      <td>-118.625310</td>\n",
       "      <td>2232.0</td>\n",
       "      <td>2010-07-17T00:00:00</td>\n",
       "      <td>2010</td>\n",
       "    </tr>\n",
       "    <tr>\n",
       "      <th>199</th>\n",
       "      <td>44.332403</td>\n",
       "      <td>-118.807523</td>\n",
       "      <td>1894.0</td>\n",
       "      <td>2010-07-18T00:00:00</td>\n",
       "      <td>2010</td>\n",
       "    </tr>\n",
       "    <tr>\n",
       "      <th>27</th>\n",
       "      <td>37.235100</td>\n",
       "      <td>-118.498133</td>\n",
       "      <td>2938.0</td>\n",
       "      <td>2010-07-29T00:00:00</td>\n",
       "      <td>2010</td>\n",
       "    </tr>\n",
       "  </tbody>\n",
       "</table>\n",
       "<p>271 rows × 5 columns</p>\n",
       "</div>"
      ],
      "text/plain": [
       "     decimalLatitude  decimalLongitude  elevation            eventDate  year\n",
       "210        46.033730       -121.492740     1982.0  1892-08-03T00:00:00  1892\n",
       "183        45.500000       -111.330000     2150.0  1897-07-28T00:00:00  1897\n",
       "78         37.843810       -119.421830        NaN  1898-08-07T00:00:00  1898\n",
       "143        41.369300       -122.349800     1905.0  1899-08-01T00:00:00  1899\n",
       "168        41.316600       -122.486700        NaN  1899-08-01T00:00:00  1899\n",
       "..               ...               ...        ...                  ...   ...\n",
       "200        44.282600       -118.707330     2419.0  2010-07-16T00:00:00  2010\n",
       "22         43.706387       -121.235712        NaN  2010-07-16T11:51:00  2010\n",
       "201        44.575610       -118.625310     2232.0  2010-07-17T00:00:00  2010\n",
       "199        44.332403       -118.807523     1894.0  2010-07-18T00:00:00  2010\n",
       "27         37.235100       -118.498133     2938.0  2010-07-29T00:00:00  2010\n",
       "\n",
       "[271 rows x 5 columns]"
      ]
     },
     "execution_count": 122,
     "metadata": {},
     "output_type": "execute_result"
    }
   ],
   "source": [
    "sorted_dfpin"
   ]
  },
  {
   "cell_type": "code",
   "execution_count": 123,
   "metadata": {},
   "outputs": [],
   "source": [
    "sorted_dfpinyr = sorted_dfpin.reset_index(drop=True)\n"
   ]
  },
  {
   "cell_type": "code",
   "execution_count": 124,
   "metadata": {},
   "outputs": [
    {
     "data": {
      "text/html": [
       "<div>\n",
       "<style scoped>\n",
       "    .dataframe tbody tr th:only-of-type {\n",
       "        vertical-align: middle;\n",
       "    }\n",
       "\n",
       "    .dataframe tbody tr th {\n",
       "        vertical-align: top;\n",
       "    }\n",
       "\n",
       "    .dataframe thead th {\n",
       "        text-align: right;\n",
       "    }\n",
       "</style>\n",
       "<table border=\"1\" class=\"dataframe\">\n",
       "  <thead>\n",
       "    <tr style=\"text-align: right;\">\n",
       "      <th></th>\n",
       "      <th>decimalLatitude</th>\n",
       "      <th>decimalLongitude</th>\n",
       "      <th>elevation</th>\n",
       "      <th>eventDate</th>\n",
       "      <th>year</th>\n",
       "    </tr>\n",
       "  </thead>\n",
       "  <tbody>\n",
       "    <tr>\n",
       "      <th>0</th>\n",
       "      <td>46.033730</td>\n",
       "      <td>-121.492740</td>\n",
       "      <td>1982.0</td>\n",
       "      <td>1892-08-03T00:00:00</td>\n",
       "      <td>1892</td>\n",
       "    </tr>\n",
       "    <tr>\n",
       "      <th>1</th>\n",
       "      <td>45.500000</td>\n",
       "      <td>-111.330000</td>\n",
       "      <td>2150.0</td>\n",
       "      <td>1897-07-28T00:00:00</td>\n",
       "      <td>1897</td>\n",
       "    </tr>\n",
       "    <tr>\n",
       "      <th>2</th>\n",
       "      <td>37.843810</td>\n",
       "      <td>-119.421830</td>\n",
       "      <td>NaN</td>\n",
       "      <td>1898-08-07T00:00:00</td>\n",
       "      <td>1898</td>\n",
       "    </tr>\n",
       "    <tr>\n",
       "      <th>3</th>\n",
       "      <td>41.369300</td>\n",
       "      <td>-122.349800</td>\n",
       "      <td>1905.0</td>\n",
       "      <td>1899-08-01T00:00:00</td>\n",
       "      <td>1899</td>\n",
       "    </tr>\n",
       "    <tr>\n",
       "      <th>4</th>\n",
       "      <td>41.316600</td>\n",
       "      <td>-122.486700</td>\n",
       "      <td>NaN</td>\n",
       "      <td>1899-08-01T00:00:00</td>\n",
       "      <td>1899</td>\n",
       "    </tr>\n",
       "    <tr>\n",
       "      <th>...</th>\n",
       "      <td>...</td>\n",
       "      <td>...</td>\n",
       "      <td>...</td>\n",
       "      <td>...</td>\n",
       "      <td>...</td>\n",
       "    </tr>\n",
       "    <tr>\n",
       "      <th>266</th>\n",
       "      <td>44.282600</td>\n",
       "      <td>-118.707330</td>\n",
       "      <td>2419.0</td>\n",
       "      <td>2010-07-16T00:00:00</td>\n",
       "      <td>2010</td>\n",
       "    </tr>\n",
       "    <tr>\n",
       "      <th>267</th>\n",
       "      <td>43.706387</td>\n",
       "      <td>-121.235712</td>\n",
       "      <td>NaN</td>\n",
       "      <td>2010-07-16T11:51:00</td>\n",
       "      <td>2010</td>\n",
       "    </tr>\n",
       "    <tr>\n",
       "      <th>268</th>\n",
       "      <td>44.575610</td>\n",
       "      <td>-118.625310</td>\n",
       "      <td>2232.0</td>\n",
       "      <td>2010-07-17T00:00:00</td>\n",
       "      <td>2010</td>\n",
       "    </tr>\n",
       "    <tr>\n",
       "      <th>269</th>\n",
       "      <td>44.332403</td>\n",
       "      <td>-118.807523</td>\n",
       "      <td>1894.0</td>\n",
       "      <td>2010-07-18T00:00:00</td>\n",
       "      <td>2010</td>\n",
       "    </tr>\n",
       "    <tr>\n",
       "      <th>270</th>\n",
       "      <td>37.235100</td>\n",
       "      <td>-118.498133</td>\n",
       "      <td>2938.0</td>\n",
       "      <td>2010-07-29T00:00:00</td>\n",
       "      <td>2010</td>\n",
       "    </tr>\n",
       "  </tbody>\n",
       "</table>\n",
       "<p>271 rows × 5 columns</p>\n",
       "</div>"
      ],
      "text/plain": [
       "     decimalLatitude  decimalLongitude  elevation            eventDate  year\n",
       "0          46.033730       -121.492740     1982.0  1892-08-03T00:00:00  1892\n",
       "1          45.500000       -111.330000     2150.0  1897-07-28T00:00:00  1897\n",
       "2          37.843810       -119.421830        NaN  1898-08-07T00:00:00  1898\n",
       "3          41.369300       -122.349800     1905.0  1899-08-01T00:00:00  1899\n",
       "4          41.316600       -122.486700        NaN  1899-08-01T00:00:00  1899\n",
       "..               ...               ...        ...                  ...   ...\n",
       "266        44.282600       -118.707330     2419.0  2010-07-16T00:00:00  2010\n",
       "267        43.706387       -121.235712        NaN  2010-07-16T11:51:00  2010\n",
       "268        44.575610       -118.625310     2232.0  2010-07-17T00:00:00  2010\n",
       "269        44.332403       -118.807523     1894.0  2010-07-18T00:00:00  2010\n",
       "270        37.235100       -118.498133     2938.0  2010-07-29T00:00:00  2010\n",
       "\n",
       "[271 rows x 5 columns]"
      ]
     },
     "execution_count": 124,
     "metadata": {},
     "output_type": "execute_result"
    }
   ],
   "source": [
    "sorted_dfpinyr"
   ]
  },
  {
   "cell_type": "code",
   "execution_count": 127,
   "metadata": {},
   "outputs": [],
   "source": [
    "#json\n",
    "d_ar=[{}]*len(sorted_dfpinyr['decimalLatitude'])\n",
    "for i in range(len(sorted_dfpinyr['decimalLatitude'][:])):\n",
    "    d_ar[i]={\"latitude\":sorted_dfpinyr['decimalLatitude'][i],\"longitude\":sorted_dfpinyr['decimalLongitude'][i]}\n",
    "location={\"locations\":d_ar}\n",
    "json_data=json.dumps(location,skipkeys=int).encode('utf8')\n",
    "\n",
    "#SEND REQUEST\n",
    "url=\"https://api.open-elevation.com/api/v1/lookup\"\n",
    "response = urllib.request.Request(url,json_data,headers={'Content-Type': 'application/json'})\n",
    "fp=urllib.request.urlopen(response)\n",
    "\n",
    "#RESPONSE PROCESSING\n",
    "res_byte=fp.read()\n",
    "res_str=res_byte.decode(\"utf8\")\n",
    "js_str=json.loads(res_str)\n",
    "#print (js_mystr)\n",
    "fp.close()\n",
    "\n",
    "#GETTING ELEVATION\n",
    "response_len=len(js_str['results'])\n",
    "elev_list2 = []\n",
    "for j in range(response_len):\n",
    "    elev_list2.append(js_str['results'][j]['elevation'])"
   ]
  },
  {
   "cell_type": "code",
   "execution_count": 128,
   "metadata": {},
   "outputs": [
    {
     "data": {
      "text/plain": [
       "[758,\n",
       " 1742,\n",
       " 2838,\n",
       " 1744,\n",
       " 2460,\n",
       " 1744,\n",
       " 1744,\n",
       " 222,\n",
       " 2321,\n",
       " 2364,\n",
       " 2736,\n",
       " 2746,\n",
       " 880,\n",
       " 3258,\n",
       " 1754,\n",
       " 1936,\n",
       " 710,\n",
       " 1663,\n",
       " 1951,\n",
       " 1843,\n",
       " 782,\n",
       " 1329,\n",
       " 1329,\n",
       " 1480,\n",
       " 2376,\n",
       " 1891,\n",
       " 2002,\n",
       " 1537,\n",
       " 2136,\n",
       " 3057,\n",
       " 2827,\n",
       " 2900,\n",
       " 2899,\n",
       " 3122,\n",
       " 2452,\n",
       " 1914,\n",
       " 1991,\n",
       " 2900,\n",
       " 3125,\n",
       " 2946,\n",
       " 2452,\n",
       " 2409,\n",
       " 1564,\n",
       " 1564,\n",
       " 3349,\n",
       " 2905,\n",
       " 1396,\n",
       " 2106,\n",
       " 3129,\n",
       " 3269,\n",
       " 3269,\n",
       " 2826,\n",
       " 2809,\n",
       " 3032,\n",
       " 1298,\n",
       " 3309,\n",
       " 3500,\n",
       " 2187,\n",
       " 866,\n",
       " 1991,\n",
       " 1824,\n",
       " 1419,\n",
       " 3081,\n",
       " 2191,\n",
       " 1472,\n",
       " 1742,\n",
       " 448,\n",
       " 2938,\n",
       " 224,\n",
       " 2826,\n",
       " 2655,\n",
       " 364,\n",
       " 365,\n",
       " 2122,\n",
       " 2836,\n",
       " 2522,\n",
       " 147,\n",
       " 3269,\n",
       " 3703,\n",
       " 1667,\n",
       " 1179,\n",
       " 2935,\n",
       " 3084,\n",
       " 3047,\n",
       " 1382,\n",
       " 1795,\n",
       " 3809,\n",
       " 2226,\n",
       " 1938,\n",
       " 2142,\n",
       " 2353,\n",
       " 3050,\n",
       " 3061,\n",
       " 1530,\n",
       " 2236,\n",
       " 3456,\n",
       " 2213,\n",
       " 1843,\n",
       " 2378,\n",
       " 1979,\n",
       " 2736,\n",
       " 2790,\n",
       " 1959,\n",
       " 2474,\n",
       " 1283,\n",
       " 1663,\n",
       " 2280,\n",
       " 2595,\n",
       " 2002,\n",
       " 2968,\n",
       " 3008,\n",
       " 2804,\n",
       " 1936,\n",
       " 3290,\n",
       " 1161,\n",
       " 956,\n",
       " 3146,\n",
       " 1161,\n",
       " 3039,\n",
       " 3155,\n",
       " 3155,\n",
       " 3010,\n",
       " 3054,\n",
       " 2909,\n",
       " 3071,\n",
       " 2552,\n",
       " 2552,\n",
       " 3241,\n",
       " 2991,\n",
       " 2831,\n",
       " 3234,\n",
       " 2280,\n",
       " 3343,\n",
       " 2696,\n",
       " 2696,\n",
       " 3214,\n",
       " 1988,\n",
       " 2469,\n",
       " 2719,\n",
       " 2496,\n",
       " 2775,\n",
       " 3131,\n",
       " 3071,\n",
       " 3071,\n",
       " 3071,\n",
       " 3042,\n",
       " 1784,\n",
       " 2366,\n",
       " 2366,\n",
       " 2922,\n",
       " 2121,\n",
       " 3009,\n",
       " 2654,\n",
       " 1692,\n",
       " 1964,\n",
       " 2525,\n",
       " 2708,\n",
       " 3048,\n",
       " 2844,\n",
       " 3246,\n",
       " 2586,\n",
       " 2549,\n",
       " 2797,\n",
       " 2527,\n",
       " 2251,\n",
       " 2403,\n",
       " 3020,\n",
       " 3421,\n",
       " 3421,\n",
       " 3421,\n",
       " 2797,\n",
       " 2869,\n",
       " 1574,\n",
       " 1574,\n",
       " 1574,\n",
       " 1365,\n",
       " 1991,\n",
       " 3061,\n",
       " 2310,\n",
       " 2310,\n",
       " 3254,\n",
       " 2797,\n",
       " 3746,\n",
       " 2279,\n",
       " 2749,\n",
       " 2403,\n",
       " 2403,\n",
       " 2681,\n",
       " 2681,\n",
       " 2918,\n",
       " 3338,\n",
       " 2716,\n",
       " 2523,\n",
       " 2409,\n",
       " 2100,\n",
       " 2380,\n",
       " 39,\n",
       " 1997,\n",
       " 2858,\n",
       " 2858,\n",
       " 2609,\n",
       " 3010,\n",
       " 1470,\n",
       " 2440,\n",
       " 1323,\n",
       " 3375,\n",
       " 2903,\n",
       " 3096,\n",
       " 3096,\n",
       " 3096,\n",
       " 1939,\n",
       " 3174,\n",
       " 3205,\n",
       " 2425,\n",
       " 1770,\n",
       " 1807,\n",
       " 2496,\n",
       " 1961,\n",
       " 1215,\n",
       " 2195,\n",
       " 2074,\n",
       " 2252,\n",
       " 2747,\n",
       " 910,\n",
       " 2941,\n",
       " 2021,\n",
       " 2569,\n",
       " 2569,\n",
       " 2630,\n",
       " 1899,\n",
       " 1851,\n",
       " 1851,\n",
       " 1572,\n",
       " 2108,\n",
       " 2108,\n",
       " 1975,\n",
       " 2108,\n",
       " 2179,\n",
       " 2955,\n",
       " 1912,\n",
       " 2386,\n",
       " 2570,\n",
       " 1774,\n",
       " 2452,\n",
       " 1656,\n",
       " 1861,\n",
       " 1970,\n",
       " 1835,\n",
       " 3028,\n",
       " 3269,\n",
       " 1865,\n",
       " 3017,\n",
       " 2785,\n",
       " 2649,\n",
       " 2355,\n",
       " 2905,\n",
       " 2825,\n",
       " 2860,\n",
       " 2593,\n",
       " 2282,\n",
       " 2565,\n",
       " 3286,\n",
       " 2986,\n",
       " 2387,\n",
       " 2807,\n",
       " 1136,\n",
       " 2407,\n",
       " 1945,\n",
       " 2135,\n",
       " 1938,\n",
       " 2952]"
      ]
     },
     "execution_count": 128,
     "metadata": {},
     "output_type": "execute_result"
    }
   ],
   "source": [
    "elev_list2"
   ]
  },
  {
   "cell_type": "code",
   "execution_count": 129,
   "metadata": {},
   "outputs": [],
   "source": [
    "df_pinelev = pd.DataFrame({'elevation':elev_list2})\n"
   ]
  },
  {
   "cell_type": "code",
   "execution_count": 130,
   "metadata": {},
   "outputs": [],
   "source": [
    "df_pinelev['count'] = df_pinelev.index"
   ]
  },
  {
   "cell_type": "code",
   "execution_count": 131,
   "metadata": {},
   "outputs": [
    {
     "data": {
      "text/html": [
       "<div>\n",
       "<style scoped>\n",
       "    .dataframe tbody tr th:only-of-type {\n",
       "        vertical-align: middle;\n",
       "    }\n",
       "\n",
       "    .dataframe tbody tr th {\n",
       "        vertical-align: top;\n",
       "    }\n",
       "\n",
       "    .dataframe thead th {\n",
       "        text-align: right;\n",
       "    }\n",
       "</style>\n",
       "<table border=\"1\" class=\"dataframe\">\n",
       "  <thead>\n",
       "    <tr style=\"text-align: right;\">\n",
       "      <th></th>\n",
       "      <th>elevation</th>\n",
       "      <th>count</th>\n",
       "    </tr>\n",
       "  </thead>\n",
       "  <tbody>\n",
       "    <tr>\n",
       "      <th>0</th>\n",
       "      <td>758</td>\n",
       "      <td>0</td>\n",
       "    </tr>\n",
       "    <tr>\n",
       "      <th>1</th>\n",
       "      <td>1742</td>\n",
       "      <td>1</td>\n",
       "    </tr>\n",
       "    <tr>\n",
       "      <th>2</th>\n",
       "      <td>2838</td>\n",
       "      <td>2</td>\n",
       "    </tr>\n",
       "    <tr>\n",
       "      <th>3</th>\n",
       "      <td>1744</td>\n",
       "      <td>3</td>\n",
       "    </tr>\n",
       "    <tr>\n",
       "      <th>4</th>\n",
       "      <td>2460</td>\n",
       "      <td>4</td>\n",
       "    </tr>\n",
       "    <tr>\n",
       "      <th>...</th>\n",
       "      <td>...</td>\n",
       "      <td>...</td>\n",
       "    </tr>\n",
       "    <tr>\n",
       "      <th>266</th>\n",
       "      <td>2407</td>\n",
       "      <td>266</td>\n",
       "    </tr>\n",
       "    <tr>\n",
       "      <th>267</th>\n",
       "      <td>1945</td>\n",
       "      <td>267</td>\n",
       "    </tr>\n",
       "    <tr>\n",
       "      <th>268</th>\n",
       "      <td>2135</td>\n",
       "      <td>268</td>\n",
       "    </tr>\n",
       "    <tr>\n",
       "      <th>269</th>\n",
       "      <td>1938</td>\n",
       "      <td>269</td>\n",
       "    </tr>\n",
       "    <tr>\n",
       "      <th>270</th>\n",
       "      <td>2952</td>\n",
       "      <td>270</td>\n",
       "    </tr>\n",
       "  </tbody>\n",
       "</table>\n",
       "<p>271 rows × 2 columns</p>\n",
       "</div>"
      ],
      "text/plain": [
       "     elevation  count\n",
       "0          758      0\n",
       "1         1742      1\n",
       "2         2838      2\n",
       "3         1744      3\n",
       "4         2460      4\n",
       "..         ...    ...\n",
       "266       2407    266\n",
       "267       1945    267\n",
       "268       2135    268\n",
       "269       1938    269\n",
       "270       2952    270\n",
       "\n",
       "[271 rows x 2 columns]"
      ]
     },
     "execution_count": 131,
     "metadata": {},
     "output_type": "execute_result"
    }
   ],
   "source": [
    "df_pinelev"
   ]
  },
  {
   "cell_type": "markdown",
   "metadata": {},
   "source": [
    "We run regression analyses again on elevation and latitude.  This time both results show a trend toward colder climates, indicating that the Whitebark Pine may be a better candidate of a species impacted by globally rising temperatures."
   ]
  },
  {
   "cell_type": "code",
   "execution_count": 132,
   "metadata": {},
   "outputs": [
    {
     "data": {
      "text/plain": [
       "[<matplotlib.lines.Line2D at 0x198d7b5ef10>]"
      ]
     },
     "execution_count": 132,
     "metadata": {},
     "output_type": "execute_result"
    },
    {
     "data": {
      "image/png": "[encoded data removed]",
      "text/plain": [
       "<Figure size 432x288 with 1 Axes>"
      ]
     },
     "metadata": {},
     "output_type": "display_data"
    }
   ],
   "source": [
    "x = df_pinelev['count']\n",
    "plt.plot(df_pinelev['count'], df_pinelev['elevation'], 'o')\n",
    "m, b = np.polyfit(df_pinelev['count'], df_pinelev['elevation'], 1)\n",
    "plt.title('Whitebark Pine temporal elevation regression')\n",
    "plt.xlabel('temporal sort: 1892-2010')\n",
    "plt.ylabel('elevation in meters')\n",
    "plt.plot(x, m*x+b)"
   ]
  },
  {
   "cell_type": "markdown",
   "metadata": {},
   "source": [
    "Below is a summaryy results table for our model, along with confidence intervals and a plot of the regression."
   ]
  },
  {
   "cell_type": "code",
   "execution_count": 159,
   "metadata": {},
   "outputs": [
    {
     "name": "stdout",
     "output_type": "stream",
     "text": [
      "                            OLS Regression Results                            \n",
      "==============================================================================\n",
      "Dep. Variable:                      y   R-squared:                       0.021\n",
      "Model:                            OLS   Adj. R-squared:                  0.018\n",
      "Method:                 Least Squares   F-statistic:                     5.836\n",
      "Date:                Thu, 29 Oct 2020   Prob (F-statistic):             0.0164\n",
      "Time:                        21:07:43   Log-Likelihood:                -2165.8\n",
      "No. Observations:                 271   AIC:                             4336.\n",
      "Df Residuals:                     269   BIC:                             4343.\n",
      "Df Model:                           1                                         \n",
      "Covariance Type:            nonrobust                                         \n",
      "==============================================================================\n",
      "                 coef    std err          t      P>|t|      [0.025      0.975]\n",
      "------------------------------------------------------------------------------\n",
      "Intercept   2185.9476     87.000     25.126      0.000    2014.661    2357.235\n",
      "x              1.3471      0.558      2.416      0.016       0.249       2.445\n",
      "==============================================================================\n",
      "Omnibus:                       17.952   Durbin-Watson:                   1.616\n",
      "Prob(Omnibus):                  0.000   Jarque-Bera (JB):               19.639\n",
      "Skew:                          -0.646   Prob(JB):                     5.44e-05\n",
      "Kurtosis:                       3.265   Cond. No.                         311.\n",
      "==============================================================================\n",
      "\n",
      "Notes:\n",
      "[1] Standard Errors assume that the covariance matrix of the errors is correctly specified.\n"
     ]
    },
    {
     "data": {
      "text/html": [
       "<div>\n",
       "<style scoped>\n",
       "    .dataframe tbody tr th:only-of-type {\n",
       "        vertical-align: middle;\n",
       "    }\n",
       "\n",
       "    .dataframe tbody tr th {\n",
       "        vertical-align: top;\n",
       "    }\n",
       "\n",
       "    .dataframe thead th {\n",
       "        text-align: right;\n",
       "    }\n",
       "</style>\n",
       "<table border=\"1\" class=\"dataframe\">\n",
       "  <thead>\n",
       "    <tr style=\"text-align: right;\">\n",
       "      <th></th>\n",
       "      <th>0</th>\n",
       "      <th>1</th>\n",
       "    </tr>\n",
       "  </thead>\n",
       "  <tbody>\n",
       "    <tr>\n",
       "      <th>Intercept</th>\n",
       "      <td>2014.660625</td>\n",
       "      <td>2357.234643</td>\n",
       "    </tr>\n",
       "    <tr>\n",
       "      <th>x</th>\n",
       "      <td>0.249269</td>\n",
       "      <td>2.444851</td>\n",
       "    </tr>\n",
       "  </tbody>\n",
       "</table>\n",
       "</div>"
      ],
      "text/plain": [
       "                     0            1\n",
       "Intercept  2014.660625  2357.234643\n",
       "x             0.249269     2.444851"
      ]
     },
     "execution_count": 159,
     "metadata": {},
     "output_type": "execute_result"
    },
    {
     "data": {
      "image/png": "[encoded data removed]",
      "text/plain": [
       "<Figure size 432x288 with 1 Axes>"
      ]
     },
     "metadata": {},
     "output_type": "display_data"
    }
   ],
   "source": [
    "import seaborn as sns\n",
    "import matplotlib as mpl\n",
    "\n",
    "sns.set(style=\"darkgrid\")  \n",
    "scatter_kws={\"s\": 1}\n",
    "\n",
    "fig, ax = plt.subplots(1, 1)\n",
    "\n",
    "\n",
    "sns.regplot(x = 'count', y ='elevation', data=df_pinelev, marker = '.', ci=90)\n",
    "ax.get_xaxis().set_minor_locator(mpl.ticker.AutoMinorLocator())\n",
    "ax.get_yaxis().set_minor_locator(mpl.ticker.AutoMinorLocator())\n",
    "ax.grid(b=True, which='major', color='w', linewidth=1.0)\n",
    "ax.grid(b=True, which='minor', color='w', linewidth=0.5)\n",
    "\n",
    "y = df_pinelev['elevation']\n",
    "x = df_pinelev['count']\n",
    "\n",
    "\n",
    "import statsmodels.formula.api as sm\n",
    "model = sm.ols('y~x', data=df_pinelev).fit()\n",
    "print( model.summary() )\n",
    "model.conf_int()"
   ]
  },
  {
   "cell_type": "code",
   "execution_count": 156,
   "metadata": {},
   "outputs": [
    {
     "name": "stdout",
     "output_type": "stream",
     "text": [
      "[2185.947634035164]\n",
      "[2549.6538419795966]\n"
     ]
    }
   ],
   "source": [
    "print(lower)\n",
    "print(upper)"
   ]
  },
  {
   "cell_type": "code",
   "execution_count": 133,
   "metadata": {},
   "outputs": [
    {
     "data": {
      "text/plain": [
       "LinregressResult(slope=1.3470600294238242, intercept=2185.947634035164, rvalue=0.14572588657724095, pvalue=0.016364142072619867, stderr=0.5575875775453764)"
      ]
     },
     "execution_count": 133,
     "metadata": {},
     "output_type": "execute_result"
    }
   ],
   "source": [
    "from scipy import stats\n",
    "stats.linregress(x= df_pinelev['count'], y = df_pinelev['elevation'])"
   ]
  },
  {
   "cell_type": "code",
   "execution_count": 134,
   "metadata": {},
   "outputs": [
    {
     "data": {
      "text/plain": [
       "[<matplotlib.lines.Line2D at 0x198d7dcf1f0>]"
      ]
     },
     "execution_count": 134,
     "metadata": {},
     "output_type": "execute_result"
    },
    {
     "data": {
      "image/png": "[encoded data removed]",
      "text/plain": [
       "<Figure size 432x288 with 1 Axes>"
      ]
     },
     "metadata": {},
     "output_type": "display_data"
    }
   ],
   "source": [
    "x = sorted_dfpinyr['year']\n",
    "plt.plot(sorted_dfpinyr['year'], sorted_dfpinyr['decimalLatitude'], 'o')\n",
    "m, b = np.polyfit(sorted_dfpinyr['year'], sorted_dfpinyr['decimalLatitude'], 1)\n",
    "plt.title('Whitebark Pine temporal latitude regression')\n",
    "plt.xlabel('year')\n",
    "plt.ylabel('latitude')\n",
    "plt.plot(x, m*x+b)"
   ]
  },
  {
   "cell_type": "code",
   "execution_count": 136,
   "metadata": {},
   "outputs": [
    {
     "data": {
      "text/plain": [
       "LinregressResult(slope=0.018682344796864373, intercept=5.366110807811303, rvalue=0.1521911421396471, pvalue=0.012126877102004347, stderr=0.007397366014560263)"
      ]
     },
     "execution_count": 136,
     "metadata": {},
     "output_type": "execute_result"
    }
   ],
   "source": [
    "from scipy import stats\n",
    "stats.linregress(x= sorted_dfpinyr['year'], y = sorted_dfpinyr['decimalLatitude'])"
   ]
  },
  {
   "cell_type": "code",
   "execution_count": 162,
   "metadata": {},
   "outputs": [
    {
     "name": "stdout",
     "output_type": "stream",
     "text": [
      "                            OLS Regression Results                            \n",
      "==============================================================================\n",
      "Dep. Variable:                     yl   R-squared:                       0.023\n",
      "Model:                            OLS   Adj. R-squared:                  0.020\n",
      "Method:                 Least Squares   F-statistic:                     6.378\n",
      "Date:                Thu, 29 Oct 2020   Prob (F-statistic):             0.0121\n",
      "Time:                        21:30:28   Log-Likelihood:                -743.26\n",
      "No. Observations:                 271   AIC:                             1491.\n",
      "Df Residuals:                     269   BIC:                             1498.\n",
      "Df Model:                           1                                         \n",
      "Covariance Type:            nonrobust                                         \n",
      "==============================================================================\n",
      "                 coef    std err          t      P>|t|      [0.025      0.975]\n",
      "------------------------------------------------------------------------------\n",
      "Intercept      5.3661     14.540      0.369      0.712     -23.261      33.993\n",
      "xl             0.0187      0.007      2.526      0.012       0.004       0.033\n",
      "==============================================================================\n",
      "Omnibus:                       87.449   Durbin-Watson:                   1.410\n",
      "Prob(Omnibus):                  0.000   Jarque-Bera (JB):               14.294\n",
      "Skew:                           0.074   Prob(JB):                     0.000787\n",
      "Kurtosis:                       1.885   Cond. No.                     1.25e+05\n",
      "==============================================================================\n",
      "\n",
      "Notes:\n",
      "[1] Standard Errors assume that the covariance matrix of the errors is correctly specified.\n",
      "[2] The condition number is large, 1.25e+05. This might indicate that there are\n",
      "strong multicollinearity or other numerical problems.\n"
     ]
    },
    {
     "data": {
      "text/html": [
       "<div>\n",
       "<style scoped>\n",
       "    .dataframe tbody tr th:only-of-type {\n",
       "        vertical-align: middle;\n",
       "    }\n",
       "\n",
       "    .dataframe tbody tr th {\n",
       "        vertical-align: top;\n",
       "    }\n",
       "\n",
       "    .dataframe thead th {\n",
       "        text-align: right;\n",
       "    }\n",
       "</style>\n",
       "<table border=\"1\" class=\"dataframe\">\n",
       "  <thead>\n",
       "    <tr style=\"text-align: right;\">\n",
       "      <th></th>\n",
       "      <th>0</th>\n",
       "      <th>1</th>\n",
       "    </tr>\n",
       "  </thead>\n",
       "  <tbody>\n",
       "    <tr>\n",
       "      <th>Intercept</th>\n",
       "      <td>-23.260944</td>\n",
       "      <td>33.993166</td>\n",
       "    </tr>\n",
       "    <tr>\n",
       "      <th>xl</th>\n",
       "      <td>0.004118</td>\n",
       "      <td>0.033246</td>\n",
       "    </tr>\n",
       "  </tbody>\n",
       "</table>\n",
       "</div>"
      ],
      "text/plain": [
       "                   0          1\n",
       "Intercept -23.260944  33.993166\n",
       "xl          0.004118   0.033246"
      ]
     },
     "execution_count": 162,
     "metadata": {},
     "output_type": "execute_result"
    },
    {
     "data": {
      "image/png": "[encoded data removed]",
      "text/plain": [
       "<Figure size 432x288 with 1 Axes>"
      ]
     },
     "metadata": {},
     "output_type": "display_data"
    }
   ],
   "source": [
    "sns.set(style=\"darkgrid\")  \n",
    "scatter_kws={\"s\": 1}\n",
    "\n",
    "fig, ax = plt.subplots(1, 1)\n",
    "\n",
    "\n",
    "sns.regplot(x = 'year', y ='decimalLatitude', data=sorted_dfpinyr, marker = '.', ci=95)\n",
    "ax.get_xaxis().set_minor_locator(mpl.ticker.AutoMinorLocator())\n",
    "ax.get_yaxis().set_minor_locator(mpl.ticker.AutoMinorLocator())\n",
    "ax.grid(b=True, which='major', color='w', linewidth=1.0)\n",
    "ax.grid(b=True, which='minor', color='w', linewidth=0.5)\n",
    "\n",
    "yl=sorted_dfpinyr['decimalLatitude']\n",
    "xl=sorted_dfpinyr['year']\n",
    "import statsmodels.formula.api as sm\n",
    "model = sm.ols('yl~xl', data=sorted_dfpinyr).fit()\n",
    "print( model.summary() )\n",
    "model.conf_int()"
   ]
  },
  {
   "cell_type": "code",
   "execution_count": 135,
   "metadata": {},
   "outputs": [
    {
     "data": {
      "text/plain": [
       "[<matplotlib.lines.Line2D at 0x198d8de1160>]"
      ]
     },
     "execution_count": 135,
     "metadata": {},
     "output_type": "execute_result"
    },
    {
     "data": {
      "image/png": "[encoded data removed]",
      "text/plain": [
       "<Figure size 432x288 with 1 Axes>"
      ]
     },
     "metadata": {},
     "output_type": "display_data"
    }
   ],
   "source": [
    "x = sorted_dfpinyr['decimalLatitude']\n",
    "plt.plot(sorted_dfpinyr['decimalLatitude'], df_pinelev['elevation'], 'o')\n",
    "m, b = np.polyfit(sorted_dfpinyr['decimalLatitude'], df_pinelev['elevation'], 1)\n",
    "plt.title('Whitebark Pine elevation-latitude regression')\n",
    "plt.xlabel('latitude')\n",
    "plt.ylabel('elevation in meters')\n",
    "plt.plot(x, m*x+b)"
   ]
  },
  {
   "cell_type": "code",
   "execution_count": 61,
   "metadata": {},
   "outputs": [
    {
     "data": {
      "text/plain": [
       "2989.4288356814277"
      ]
     },
     "execution_count": 61,
     "metadata": {},
     "output_type": "execute_result"
    }
   ],
   "source": [
    "m*37 + b"
   ]
  },
  {
   "cell_type": "code",
   "execution_count": 56,
   "metadata": {},
   "outputs": [
    {
     "data": {
      "text/plain": [
       "1766.5695797003218"
      ]
     },
     "execution_count": 56,
     "metadata": {},
     "output_type": "execute_result"
    }
   ],
   "source": [
    "m*47 + b"
   ]
  },
  {
   "cell_type": "markdown",
   "metadata": {},
   "source": [
    "The Whitebark Pine is a high-elevation conifer, often found at the treeline or above it in the form of krummholz (\"crooked timber\"), as the last regression indicates.\n"
   ]
  },
  {
   "cell_type": "markdown",
   "metadata": {},
   "source": [
    "Pacific Yew (taxus brevifolia) analysis:"
   ]
  },
  {
   "cell_type": "code",
   "execution_count": 75,
   "metadata": {},
   "outputs": [],
   "source": [
    "df_yew = pd.read_csv('Desktop/0079777-200613084148143 - 0079777-200613084148143.csv')"
   ]
  },
  {
   "cell_type": "code",
   "execution_count": 76,
   "metadata": {},
   "outputs": [
    {
     "data": {
      "text/html": [
       "<div>\n",
       "<style scoped>\n",
       "    .dataframe tbody tr th:only-of-type {\n",
       "        vertical-align: middle;\n",
       "    }\n",
       "\n",
       "    .dataframe tbody tr th {\n",
       "        vertical-align: top;\n",
       "    }\n",
       "\n",
       "    .dataframe thead th {\n",
       "        text-align: right;\n",
       "    }\n",
       "</style>\n",
       "<table border=\"1\" class=\"dataframe\">\n",
       "  <thead>\n",
       "    <tr style=\"text-align: right;\">\n",
       "      <th></th>\n",
       "      <th>species</th>\n",
       "      <th>locality</th>\n",
       "      <th>stateProvince</th>\n",
       "      <th>decimalLatitude</th>\n",
       "      <th>decimalLongitude</th>\n",
       "      <th>eventDate</th>\n",
       "      <th>year</th>\n",
       "    </tr>\n",
       "  </thead>\n",
       "  <tbody>\n",
       "    <tr>\n",
       "      <th>0</th>\n",
       "      <td>Taxus brevifolia</td>\n",
       "      <td>Weott</td>\n",
       "      <td>California</td>\n",
       "      <td>40.351806</td>\n",
       "      <td>-123.923694</td>\n",
       "      <td>1957-08-21T00:00:00</td>\n",
       "      <td>1957</td>\n",
       "    </tr>\n",
       "    <tr>\n",
       "      <th>1</th>\n",
       "      <td>Taxus brevifolia</td>\n",
       "      <td>2 mi N of Easton</td>\n",
       "      <td>Washington</td>\n",
       "      <td>47.266011</td>\n",
       "      <td>-121.178979</td>\n",
       "      <td>1915-07-31T00:00:00</td>\n",
       "      <td>1915</td>\n",
       "    </tr>\n",
       "    <tr>\n",
       "      <th>2</th>\n",
       "      <td>Taxus brevifolia</td>\n",
       "      <td>Wimer</td>\n",
       "      <td>Oregon</td>\n",
       "      <td>42.538732</td>\n",
       "      <td>-123.148943</td>\n",
       "      <td>1893-04-03T00:00:00</td>\n",
       "      <td>1893</td>\n",
       "    </tr>\n",
       "    <tr>\n",
       "      <th>3</th>\n",
       "      <td>Taxus brevifolia</td>\n",
       "      <td>Newberg</td>\n",
       "      <td>Oregon</td>\n",
       "      <td>45.300118</td>\n",
       "      <td>-122.973156</td>\n",
       "      <td>1940-10-16T00:00:00</td>\n",
       "      <td>1940</td>\n",
       "    </tr>\n",
       "    <tr>\n",
       "      <th>4</th>\n",
       "      <td>Taxus brevifolia</td>\n",
       "      <td>near Bridgeville</td>\n",
       "      <td>NaN</td>\n",
       "      <td>40.500000</td>\n",
       "      <td>-123.800000</td>\n",
       "      <td>1933-03-19T00:00:00</td>\n",
       "      <td>1933</td>\n",
       "    </tr>\n",
       "    <tr>\n",
       "      <th>...</th>\n",
       "      <td>...</td>\n",
       "      <td>...</td>\n",
       "      <td>...</td>\n",
       "      <td>...</td>\n",
       "      <td>...</td>\n",
       "      <td>...</td>\n",
       "      <td>...</td>\n",
       "    </tr>\n",
       "    <tr>\n",
       "      <th>371</th>\n",
       "      <td>Taxus brevifolia</td>\n",
       "      <td>Fairview Mountain; at lookout on top.</td>\n",
       "      <td>Oregon</td>\n",
       "      <td>43.585800</td>\n",
       "      <td>-122.652700</td>\n",
       "      <td>1935-06-27T00:00:00</td>\n",
       "      <td>1935</td>\n",
       "    </tr>\n",
       "    <tr>\n",
       "      <th>372</th>\n",
       "      <td>Taxus brevifolia</td>\n",
       "      <td>Belknap Ranch, McKenzie River.</td>\n",
       "      <td>Oregon</td>\n",
       "      <td>43.963500</td>\n",
       "      <td>-122.145300</td>\n",
       "      <td>1936-08-03T00:00:00</td>\n",
       "      <td>1936</td>\n",
       "    </tr>\n",
       "    <tr>\n",
       "      <th>373</th>\n",
       "      <td>Taxus brevifolia</td>\n",
       "      <td>Breitenbush Springs.</td>\n",
       "      <td>Oregon</td>\n",
       "      <td>44.783100</td>\n",
       "      <td>-121.977800</td>\n",
       "      <td>1936-07-23T00:00:00</td>\n",
       "      <td>1936</td>\n",
       "    </tr>\n",
       "    <tr>\n",
       "      <th>374</th>\n",
       "      <td>Taxus brevifolia</td>\n",
       "      <td>Fall Creek.</td>\n",
       "      <td>Oregon</td>\n",
       "      <td>43.959700</td>\n",
       "      <td>-122.819200</td>\n",
       "      <td>1932-05-17T00:00:00</td>\n",
       "      <td>1932</td>\n",
       "    </tr>\n",
       "    <tr>\n",
       "      <th>375</th>\n",
       "      <td>Taxus brevifolia</td>\n",
       "      <td>Bull Run Management Area, Columbia Gorge Range...</td>\n",
       "      <td>Oregon</td>\n",
       "      <td>45.425100</td>\n",
       "      <td>-121.973200</td>\n",
       "      <td>1982-08-26T00:00:00</td>\n",
       "      <td>1982</td>\n",
       "    </tr>\n",
       "  </tbody>\n",
       "</table>\n",
       "<p>376 rows × 7 columns</p>\n",
       "</div>"
      ],
      "text/plain": [
       "              species                                           locality  \\\n",
       "0    Taxus brevifolia                                              Weott   \n",
       "1    Taxus brevifolia                                   2 mi N of Easton   \n",
       "2    Taxus brevifolia                                              Wimer   \n",
       "3    Taxus brevifolia                                            Newberg   \n",
       "4    Taxus brevifolia                                   near Bridgeville   \n",
       "..                ...                                                ...   \n",
       "371  Taxus brevifolia              Fairview Mountain; at lookout on top.   \n",
       "372  Taxus brevifolia                     Belknap Ranch, McKenzie River.   \n",
       "373  Taxus brevifolia                               Breitenbush Springs.   \n",
       "374  Taxus brevifolia                                        Fall Creek.   \n",
       "375  Taxus brevifolia  Bull Run Management Area, Columbia Gorge Range...   \n",
       "\n",
       "    stateProvince  decimalLatitude  decimalLongitude            eventDate  \\\n",
       "0      California        40.351806       -123.923694  1957-08-21T00:00:00   \n",
       "1      Washington        47.266011       -121.178979  1915-07-31T00:00:00   \n",
       "2          Oregon        42.538732       -123.148943  1893-04-03T00:00:00   \n",
       "3          Oregon        45.300118       -122.973156  1940-10-16T00:00:00   \n",
       "4             NaN        40.500000       -123.800000  1933-03-19T00:00:00   \n",
       "..            ...              ...               ...                  ...   \n",
       "371        Oregon        43.585800       -122.652700  1935-06-27T00:00:00   \n",
       "372        Oregon        43.963500       -122.145300  1936-08-03T00:00:00   \n",
       "373        Oregon        44.783100       -121.977800  1936-07-23T00:00:00   \n",
       "374        Oregon        43.959700       -122.819200  1932-05-17T00:00:00   \n",
       "375        Oregon        45.425100       -121.973200  1982-08-26T00:00:00   \n",
       "\n",
       "     year  \n",
       "0    1957  \n",
       "1    1915  \n",
       "2    1893  \n",
       "3    1940  \n",
       "4    1933  \n",
       "..    ...  \n",
       "371  1935  \n",
       "372  1936  \n",
       "373  1936  \n",
       "374  1932  \n",
       "375  1982  \n",
       "\n",
       "[376 rows x 7 columns]"
      ]
     },
     "execution_count": 76,
     "metadata": {},
     "output_type": "execute_result"
    }
   ],
   "source": [
    "df_yew"
   ]
  },
  {
   "cell_type": "code",
   "execution_count": 77,
   "metadata": {},
   "outputs": [],
   "source": [
    "sorted_dfyew = df_yew.sort_values(by='eventDate')\n"
   ]
  },
  {
   "cell_type": "code",
   "execution_count": 78,
   "metadata": {},
   "outputs": [],
   "source": [
    "sorted_dfyewyr = sorted_dfyew.reset_index(drop=True)"
   ]
  },
  {
   "cell_type": "code",
   "execution_count": 82,
   "metadata": {},
   "outputs": [],
   "source": [
    "#json\n",
    "d_ar=[{}]*len(sorted_dfyewyr['decimalLatitude'])\n",
    "for i in range(len(sorted_dfyewyr['decimalLatitude'][:])):\n",
    "    d_ar[i]={\"latitude\":sorted_dfyewyr['decimalLatitude'][i],\"longitude\":sorted_dfyewyr['decimalLongitude'][i]}\n",
    "location={\"locations\":d_ar}\n",
    "json_data=json.dumps(location,skipkeys=int).encode('utf8')\n",
    "\n",
    "#SEND REQUEST\n",
    "url=\"https://api.open-elevation.com/api/v1/lookup\"\n",
    "response = urllib.request.Request(url,json_data,headers={'Content-Type': 'application/json'})\n",
    "fp=urllib.request.urlopen(response)\n",
    "\n",
    "#RESPONSE PROCESSING\n",
    "res_byte=fp.read()\n",
    "res_str=res_byte.decode(\"utf8\")\n",
    "js_str=json.loads(res_str)\n",
    "#print (js_mystr)\n",
    "fp.close()\n",
    "\n",
    "#GETTING ELEVATION\n",
    "response_len=len(js_str['results'])\n",
    "elev_list2 = []\n",
    "for j in range(response_len):\n",
    "    elev_list2.append(js_str['results'][j]['elevation'])"
   ]
  },
  {
   "cell_type": "code",
   "execution_count": 83,
   "metadata": {},
   "outputs": [
    {
     "data": {
      "text/plain": [
       "[82,\n",
       " 11,\n",
       " 624,\n",
       " 573,\n",
       " 348,\n",
       " 799,\n",
       " 1092,\n",
       " 1190,\n",
       " 596,\n",
       " 665,\n",
       " 65,\n",
       " 1051,\n",
       " 113,\n",
       " 63,\n",
       " 1064,\n",
       " 45,\n",
       " 1029,\n",
       " 1054,\n",
       " 1064,\n",
       " 1058,\n",
       " 1265,\n",
       " 1835,\n",
       " 1117,\n",
       " 751,\n",
       " 63,\n",
       " 82,\n",
       " 82,\n",
       " 26,\n",
       " 26,\n",
       " 681,\n",
       " 2285,\n",
       " 1289,\n",
       " 1015,\n",
       " 958,\n",
       " 958,\n",
       " 958,\n",
       " 755,\n",
       " 703,\n",
       " 90,\n",
       " 31,\n",
       " 168,\n",
       " 347,\n",
       " 114,\n",
       " 64,\n",
       " 879,\n",
       " 414,\n",
       " 1268,\n",
       " 1507,\n",
       " 1117,\n",
       " 950,\n",
       " 623,\n",
       " 623,\n",
       " 958,\n",
       " 675,\n",
       " 85,\n",
       " 505,\n",
       " 710,\n",
       " 69,\n",
       " 1148,\n",
       " 20,\n",
       " 68,\n",
       " 835,\n",
       " 238,\n",
       " 238,\n",
       " 238,\n",
       " 1681,\n",
       " 356,\n",
       " 659,\n",
       " 1808,\n",
       " 1151,\n",
       " 779,\n",
       " 508,\n",
       " 262,\n",
       " 628,\n",
       " 79,\n",
       " 583,\n",
       " 401,\n",
       " 4,\n",
       " 183,\n",
       " 1722,\n",
       " 787,\n",
       " 82,\n",
       " 242,\n",
       " 269,\n",
       " 918,\n",
       " 1982,\n",
       " 802,\n",
       " 659,\n",
       " 1116,\n",
       " 1544,\n",
       " 2083,\n",
       " 1675,\n",
       " 119,\n",
       " 789,\n",
       " 789,\n",
       " 569,\n",
       " 1259,\n",
       " 1686,\n",
       " 1058,\n",
       " 1131,\n",
       " 1131,\n",
       " 642,\n",
       " 1260,\n",
       " 830,\n",
       " 196,\n",
       " 125,\n",
       " 186,\n",
       " 523,\n",
       " 233,\n",
       " 708,\n",
       " 1560,\n",
       " 2192,\n",
       " 1070,\n",
       " 567,\n",
       " 85,\n",
       " 1889,\n",
       " 986,\n",
       " 435,\n",
       " 85,\n",
       " 226,\n",
       " 1068,\n",
       " 1763,\n",
       " 45,\n",
       " 11,\n",
       " 569,\n",
       " 347,\n",
       " 252,\n",
       " 688,\n",
       " 722,\n",
       " 1275,\n",
       " 1165,\n",
       " 252,\n",
       " 1293,\n",
       " 53,\n",
       " 778,\n",
       " 1427,\n",
       " 915,\n",
       " 1540,\n",
       " 373,\n",
       " 89,\n",
       " 377,\n",
       " 32,\n",
       " 2,\n",
       " 0,\n",
       " 12,\n",
       " 0,\n",
       " 106,\n",
       " 32,\n",
       " 395,\n",
       " 825,\n",
       " 825,\n",
       " 949,\n",
       " 44,\n",
       " 44,\n",
       " 837,\n",
       " 847,\n",
       " 202,\n",
       " 421,\n",
       " 2337,\n",
       " 2337,\n",
       " 946,\n",
       " 421,\n",
       " 56,\n",
       " 820,\n",
       " 304,\n",
       " 257,\n",
       " 1763,\n",
       " 587,\n",
       " 880,\n",
       " 1667,\n",
       " 1116,\n",
       " 1861,\n",
       " 1861,\n",
       " 659,\n",
       " 1722,\n",
       " 963,\n",
       " 1458,\n",
       " 89,\n",
       " 1217,\n",
       " 1462,\n",
       " 769,\n",
       " 2327,\n",
       " 628,\n",
       " 628,\n",
       " 1388,\n",
       " 41,\n",
       " 990,\n",
       " 1538,\n",
       " 1538,\n",
       " 70,\n",
       " 71,\n",
       " 301,\n",
       " 71,\n",
       " 71,\n",
       " 560,\n",
       " 73,\n",
       " 80,\n",
       " 474,\n",
       " 1203,\n",
       " 1361,\n",
       " 1361,\n",
       " 1449,\n",
       " 1203,\n",
       " 1182,\n",
       " 1303,\n",
       " 1303,\n",
       " 901,\n",
       " 847,\n",
       " 1001,\n",
       " 1545,\n",
       " 1162,\n",
       " 1711,\n",
       " 837,\n",
       " 85,\n",
       " 1115,\n",
       " 1100,\n",
       " 40,\n",
       " 560,\n",
       " 122,\n",
       " 2112,\n",
       " 924,\n",
       " 1596,\n",
       " 594,\n",
       " 1024,\n",
       " 832,\n",
       " 50,\n",
       " 330,\n",
       " 358,\n",
       " 358,\n",
       " 1670,\n",
       " 1545,\n",
       " 361,\n",
       " 1057,\n",
       " 1057,\n",
       " 832,\n",
       " 832,\n",
       " 613,\n",
       " 595,\n",
       " 1466,\n",
       " 1971,\n",
       " 38,\n",
       " 1297,\n",
       " 1001,\n",
       " 1313,\n",
       " 1346,\n",
       " 1401,\n",
       " 1163,\n",
       " 1254,\n",
       " 1149,\n",
       " 681,\n",
       " 422,\n",
       " 99,\n",
       " 1463,\n",
       " 0,\n",
       " 0,\n",
       " 664,\n",
       " 1001,\n",
       " 1001,\n",
       " 2040,\n",
       " 1189,\n",
       " 1546,\n",
       " 1090,\n",
       " 1115,\n",
       " 1115,\n",
       " 569,\n",
       " 1652,\n",
       " 299,\n",
       " 817,\n",
       " 12,\n",
       " 1440,\n",
       " 1082,\n",
       " 369,\n",
       " 1103,\n",
       " 1457,\n",
       " 866,\n",
       " 866,\n",
       " 1147,\n",
       " 1147,\n",
       " 51,\n",
       " 51,\n",
       " 1496,\n",
       " 1496,\n",
       " 813,\n",
       " 585,\n",
       " 921,\n",
       " 921,\n",
       " 147,\n",
       " 1745,\n",
       " 1293,\n",
       " 1293,\n",
       " 1293,\n",
       " 1646,\n",
       " 991,\n",
       " 991,\n",
       " 991,\n",
       " 991,\n",
       " 991,\n",
       " 0,\n",
       " 328,\n",
       " 328,\n",
       " 885,\n",
       " 328,\n",
       " 328,\n",
       " 328,\n",
       " 983,\n",
       " 1121,\n",
       " 1613,\n",
       " 942,\n",
       " 1398,\n",
       " 932,\n",
       " 1481,\n",
       " 0,\n",
       " 38,\n",
       " 0,\n",
       " 1083,\n",
       " 989,\n",
       " 1004,\n",
       " 677,\n",
       " 2080,\n",
       " 1424,\n",
       " 991,\n",
       " 908,\n",
       " 12,\n",
       " 1451,\n",
       " 1310,\n",
       " 7,\n",
       " 1410,\n",
       " 795,\n",
       " 794,\n",
       " 157,\n",
       " 405,\n",
       " 0,\n",
       " 1568,\n",
       " 1568,\n",
       " 690,\n",
       " 819,\n",
       " 1438,\n",
       " 1383,\n",
       " 1134,\n",
       " 1260,\n",
       " 450,\n",
       " 812,\n",
       " 1545,\n",
       " 550,\n",
       " 1631,\n",
       " 1091,\n",
       " 1108,\n",
       " 1182,\n",
       " 905,\n",
       " 905,\n",
       " 905,\n",
       " 905,\n",
       " 905,\n",
       " 461,\n",
       " 90,\n",
       " 1349,\n",
       " 826,\n",
       " 22,\n",
       " 55,\n",
       " 1355,\n",
       " 1097,\n",
       " 339,\n",
       " 13,\n",
       " 29,\n",
       " 4,\n",
       " 25,\n",
       " 8,\n",
       " 38,\n",
       " 0,\n",
       " 19,\n",
       " 1372,\n",
       " 0,\n",
       " 107,\n",
       " 1198,\n",
       " 886,\n",
       " 1472]"
      ]
     },
     "execution_count": 83,
     "metadata": {},
     "output_type": "execute_result"
    }
   ],
   "source": [
    "elev_list2"
   ]
  },
  {
   "cell_type": "code",
   "execution_count": 84,
   "metadata": {},
   "outputs": [],
   "source": [
    "df_yewelev = pd.DataFrame({'elevation':elev_list2})\n"
   ]
  },
  {
   "cell_type": "code",
   "execution_count": 85,
   "metadata": {},
   "outputs": [],
   "source": [
    "df_yewelev['count'] = df_yewelev.index"
   ]
  },
  {
   "cell_type": "code",
   "execution_count": 86,
   "metadata": {},
   "outputs": [
    {
     "data": {
      "text/html": [
       "<div>\n",
       "<style scoped>\n",
       "    .dataframe tbody tr th:only-of-type {\n",
       "        vertical-align: middle;\n",
       "    }\n",
       "\n",
       "    .dataframe tbody tr th {\n",
       "        vertical-align: top;\n",
       "    }\n",
       "\n",
       "    .dataframe thead th {\n",
       "        text-align: right;\n",
       "    }\n",
       "</style>\n",
       "<table border=\"1\" class=\"dataframe\">\n",
       "  <thead>\n",
       "    <tr style=\"text-align: right;\">\n",
       "      <th></th>\n",
       "      <th>elevation</th>\n",
       "      <th>count</th>\n",
       "    </tr>\n",
       "  </thead>\n",
       "  <tbody>\n",
       "    <tr>\n",
       "      <th>0</th>\n",
       "      <td>82</td>\n",
       "      <td>0</td>\n",
       "    </tr>\n",
       "    <tr>\n",
       "      <th>1</th>\n",
       "      <td>11</td>\n",
       "      <td>1</td>\n",
       "    </tr>\n",
       "    <tr>\n",
       "      <th>2</th>\n",
       "      <td>624</td>\n",
       "      <td>2</td>\n",
       "    </tr>\n",
       "    <tr>\n",
       "      <th>3</th>\n",
       "      <td>573</td>\n",
       "      <td>3</td>\n",
       "    </tr>\n",
       "    <tr>\n",
       "      <th>4</th>\n",
       "      <td>348</td>\n",
       "      <td>4</td>\n",
       "    </tr>\n",
       "    <tr>\n",
       "      <th>...</th>\n",
       "      <td>...</td>\n",
       "      <td>...</td>\n",
       "    </tr>\n",
       "    <tr>\n",
       "      <th>371</th>\n",
       "      <td>0</td>\n",
       "      <td>371</td>\n",
       "    </tr>\n",
       "    <tr>\n",
       "      <th>372</th>\n",
       "      <td>107</td>\n",
       "      <td>372</td>\n",
       "    </tr>\n",
       "    <tr>\n",
       "      <th>373</th>\n",
       "      <td>1198</td>\n",
       "      <td>373</td>\n",
       "    </tr>\n",
       "    <tr>\n",
       "      <th>374</th>\n",
       "      <td>886</td>\n",
       "      <td>374</td>\n",
       "    </tr>\n",
       "    <tr>\n",
       "      <th>375</th>\n",
       "      <td>1472</td>\n",
       "      <td>375</td>\n",
       "    </tr>\n",
       "  </tbody>\n",
       "</table>\n",
       "<p>376 rows × 2 columns</p>\n",
       "</div>"
      ],
      "text/plain": [
       "     elevation  count\n",
       "0           82      0\n",
       "1           11      1\n",
       "2          624      2\n",
       "3          573      3\n",
       "4          348      4\n",
       "..         ...    ...\n",
       "371          0    371\n",
       "372        107    372\n",
       "373       1198    373\n",
       "374        886    374\n",
       "375       1472    375\n",
       "\n",
       "[376 rows x 2 columns]"
      ]
     },
     "execution_count": 86,
     "metadata": {},
     "output_type": "execute_result"
    }
   ],
   "source": [
    "df_yewelev"
   ]
  },
  {
   "cell_type": "code",
   "execution_count": 87,
   "metadata": {},
   "outputs": [
    {
     "data": {
      "text/plain": [
       "[<matplotlib.lines.Line2D at 0x1a9a8e6a7c0>]"
      ]
     },
     "execution_count": 87,
     "metadata": {},
     "output_type": "execute_result"
    },
    {
     "data": {
      "image/png": "[encoded data removed]",
      "text/plain": [
       "<Figure size 432x288 with 1 Axes>"
      ]
     },
     "metadata": {
      "needs_background": "light"
     },
     "output_type": "display_data"
    }
   ],
   "source": [
    "x = df_yewelev['count']\n",
    "plt.plot(df_yewelev['count'], df_yewelev['elevation'], 'o')\n",
    "m, b = np.polyfit(df_yewelev['count'], df_yewelev['elevation'], 1)\n",
    "plt.title('Pacific Yew temporal elevation regression')\n",
    "plt.xlabel('temporal sort: 1892-2010')\n",
    "plt.ylabel('elevation in meters')\n",
    "plt.plot(x, m*x+b)"
   ]
  },
  {
   "cell_type": "code",
   "execution_count": 88,
   "metadata": {},
   "outputs": [
    {
     "data": {
      "text/plain": [
       "709.2268609966698"
      ]
     },
     "execution_count": 88,
     "metadata": {},
     "output_type": "execute_result"
    }
   ],
   "source": [
    "b"
   ]
  },
  {
   "cell_type": "code",
   "execution_count": 89,
   "metadata": {},
   "outputs": [
    {
     "data": {
      "text/plain": [
       "888.1745957446808"
      ]
     },
     "execution_count": 89,
     "metadata": {},
     "output_type": "execute_result"
    }
   ],
   "source": [
    "m*376 + b"
   ]
  },
  {
   "cell_type": "markdown",
   "metadata": {},
   "source": [
    "There's been an upward rise of approx. 180 m over the observation period."
   ]
  },
  {
   "cell_type": "code",
   "execution_count": 90,
   "metadata": {},
   "outputs": [
    {
     "data": {
      "text/plain": [
       "[<matplotlib.lines.Line2D at 0x1a9a8eb6580>]"
      ]
     },
     "execution_count": 90,
     "metadata": {},
     "output_type": "execute_result"
    },
    {
     "data": {
      "image/png": "[encoded data removed]",
      "text/plain": [
       "<Figure size 432x288 with 1 Axes>"
      ]
     },
     "metadata": {
      "needs_background": "light"
     },
     "output_type": "display_data"
    }
   ],
   "source": [
    "x = sorted_dfyewyr['year']\n",
    "plt.plot(sorted_dfyewyr['year'], sorted_dfyewyr['decimalLatitude'], 'o')\n",
    "m, b = np.polyfit(sorted_dfyewyr['year'], sorted_dfyewyr['decimalLatitude'], 1)\n",
    "plt.title('Pacific Yew temporal latitude regression')\n",
    "plt.xlabel('year')\n",
    "plt.ylabel('latitude')\n",
    "plt.plot(x, m*x+b)"
   ]
  },
  {
   "cell_type": "code",
   "execution_count": 91,
   "metadata": {},
   "outputs": [
    {
     "data": {
      "text/plain": [
       "44.25986852545504"
      ]
     },
     "execution_count": 91,
     "metadata": {},
     "output_type": "execute_result"
    }
   ],
   "source": [
    "m*1892 + b"
   ]
  },
  {
   "cell_type": "code",
   "execution_count": 92,
   "metadata": {},
   "outputs": [
    {
     "data": {
      "text/plain": [
       "44.131362942588325"
      ]
     },
     "execution_count": 92,
     "metadata": {},
     "output_type": "execute_result"
    }
   ],
   "source": [
    "m*2020 + b"
   ]
  },
  {
   "cell_type": "markdown",
   "metadata": {},
   "source": [
    "The latitude has remained largely static."
   ]
  },
  {
   "cell_type": "markdown",
   "metadata": {},
   "source": [
    "There are a few outliers on the preceding chart to investigate.  It seems they belong to a population in Alaska."
   ]
  },
  {
   "cell_type": "code",
   "execution_count": 99,
   "metadata": {},
   "outputs": [
    {
     "data": {
      "text/html": [
       "<div>\n",
       "<style scoped>\n",
       "    .dataframe tbody tr th:only-of-type {\n",
       "        vertical-align: middle;\n",
       "    }\n",
       "\n",
       "    .dataframe tbody tr th {\n",
       "        vertical-align: top;\n",
       "    }\n",
       "\n",
       "    .dataframe thead th {\n",
       "        text-align: right;\n",
       "    }\n",
       "</style>\n",
       "<table border=\"1\" class=\"dataframe\">\n",
       "  <thead>\n",
       "    <tr style=\"text-align: right;\">\n",
       "      <th></th>\n",
       "      <th>species</th>\n",
       "      <th>locality</th>\n",
       "      <th>stateProvince</th>\n",
       "      <th>decimalLatitude</th>\n",
       "      <th>decimalLongitude</th>\n",
       "      <th>eventDate</th>\n",
       "      <th>year</th>\n",
       "    </tr>\n",
       "  </thead>\n",
       "  <tbody>\n",
       "    <tr>\n",
       "      <th>253</th>\n",
       "      <td>Taxus brevifolia</td>\n",
       "      <td>Dog I., 40 km SSE of Ketchikan</td>\n",
       "      <td>Alaska</td>\n",
       "      <td>54.98</td>\n",
       "      <td>-131.31</td>\n",
       "      <td>1972-07-24T00:00:00</td>\n",
       "      <td>1972</td>\n",
       "    </tr>\n",
       "    <tr>\n",
       "      <th>254</th>\n",
       "      <td>Taxus brevifolia</td>\n",
       "      <td>Dog I., 40 km SSE of Ketchikan</td>\n",
       "      <td>Alaska</td>\n",
       "      <td>54.98</td>\n",
       "      <td>-131.31</td>\n",
       "      <td>1972-07-24T00:00:00</td>\n",
       "      <td>1972</td>\n",
       "    </tr>\n",
       "    <tr>\n",
       "      <th>297</th>\n",
       "      <td>Taxus brevifolia</td>\n",
       "      <td>Revillagegedo I., Alava Bay, 1 mile SW of Alav...</td>\n",
       "      <td>Alaska</td>\n",
       "      <td>55.21</td>\n",
       "      <td>-131.11</td>\n",
       "      <td>1991-12-29T00:00:00</td>\n",
       "      <td>1991</td>\n",
       "    </tr>\n",
       "    <tr>\n",
       "      <th>311</th>\n",
       "      <td>Taxus brevifolia</td>\n",
       "      <td>Head of Nakat Inlet, on fish corral island</td>\n",
       "      <td>Alaska</td>\n",
       "      <td>54.94</td>\n",
       "      <td>-130.74</td>\n",
       "      <td>1993-07-07T00:00:00</td>\n",
       "      <td>1993</td>\n",
       "    </tr>\n",
       "    <tr>\n",
       "      <th>312</th>\n",
       "      <td>Taxus brevifolia</td>\n",
       "      <td>Prince of Wales Island, Kendrick Bay, S side o...</td>\n",
       "      <td>Alaska</td>\n",
       "      <td>54.85</td>\n",
       "      <td>-132.00</td>\n",
       "      <td>1993-08-12T00:00:00</td>\n",
       "      <td>1993</td>\n",
       "    </tr>\n",
       "    <tr>\n",
       "      <th>313</th>\n",
       "      <td>Taxus brevifolia</td>\n",
       "      <td>Prince of Wales Island, McLean Arm, N shore of...</td>\n",
       "      <td>Alaska</td>\n",
       "      <td>54.81</td>\n",
       "      <td>-132.06</td>\n",
       "      <td>1993-08-13T00:00:00</td>\n",
       "      <td>1993</td>\n",
       "    </tr>\n",
       "  </tbody>\n",
       "</table>\n",
       "</div>"
      ],
      "text/plain": [
       "              species                                           locality  \\\n",
       "253  Taxus brevifolia                     Dog I., 40 km SSE of Ketchikan   \n",
       "254  Taxus brevifolia                     Dog I., 40 km SSE of Ketchikan   \n",
       "297  Taxus brevifolia  Revillagegedo I., Alava Bay, 1 mile SW of Alav...   \n",
       "311  Taxus brevifolia         Head of Nakat Inlet, on fish corral island   \n",
       "312  Taxus brevifolia  Prince of Wales Island, Kendrick Bay, S side o...   \n",
       "313  Taxus brevifolia  Prince of Wales Island, McLean Arm, N shore of...   \n",
       "\n",
       "    stateProvince  decimalLatitude  decimalLongitude            eventDate  \\\n",
       "253        Alaska            54.98           -131.31  1972-07-24T00:00:00   \n",
       "254        Alaska            54.98           -131.31  1972-07-24T00:00:00   \n",
       "297        Alaska            55.21           -131.11  1991-12-29T00:00:00   \n",
       "311        Alaska            54.94           -130.74  1993-07-07T00:00:00   \n",
       "312        Alaska            54.85           -132.00  1993-08-12T00:00:00   \n",
       "313        Alaska            54.81           -132.06  1993-08-13T00:00:00   \n",
       "\n",
       "     year  \n",
       "253  1972  \n",
       "254  1972  \n",
       "297  1991  \n",
       "311  1993  \n",
       "312  1993  \n",
       "313  1993  "
      ]
     },
     "execution_count": 99,
     "metadata": {},
     "output_type": "execute_result"
    }
   ],
   "source": [
    "sorted_dfyewyr.loc[sorted_dfyewyr['decimalLatitude'] >= 50]\n"
   ]
  },
  {
   "cell_type": "code",
   "execution_count": 93,
   "metadata": {},
   "outputs": [
    {
     "data": {
      "text/plain": [
       "[<matplotlib.lines.Line2D at 0x1a9a8f0bbb0>]"
      ]
     },
     "execution_count": 93,
     "metadata": {},
     "output_type": "execute_result"
    },
    {
     "data": {
      "image/png": "[encoded data removed]",
      "text/plain": [
       "<Figure size 432x288 with 1 Axes>"
      ]
     },
     "metadata": {
      "needs_background": "light"
     },
     "output_type": "display_data"
    }
   ],
   "source": [
    "x = sorted_dfyewyr['decimalLatitude']\n",
    "plt.plot(sorted_dfyewyr['decimalLatitude'], df_yewelev['elevation'], 'o')\n",
    "m, b = np.polyfit(sorted_dfyewyr['decimalLatitude'], df_yewelev['elevation'], 1)\n",
    "plt.title('Pacific Yew elevation-latitude regression')\n",
    "plt.xlabel('latitude')\n",
    "plt.ylabel('elevation in meters')\n",
    "plt.plot(x, m*x+b)"
   ]
  },
  {
   "cell_type": "code",
   "execution_count": 94,
   "metadata": {},
   "outputs": [
    {
     "data": {
      "text/plain": [
       "1125.793568999732"
      ]
     },
     "execution_count": 94,
     "metadata": {},
     "output_type": "execute_result"
    }
   ],
   "source": [
    "m*37 + b"
   ]
  },
  {
   "cell_type": "code",
   "execution_count": 100,
   "metadata": {},
   "outputs": [
    {
     "data": {
      "text/plain": [
       "671.0696474977376"
      ]
     },
     "execution_count": 100,
     "metadata": {},
     "output_type": "execute_result"
    }
   ],
   "source": [
    "m*47 + b"
   ]
  },
  {
   "cell_type": "markdown",
   "metadata": {},
   "source": [
    "Oregon Oak (quercus garryana) analysis:\n"
   ]
  },
  {
   "cell_type": "code",
   "execution_count": 101,
   "metadata": {},
   "outputs": [],
   "source": [
    "df_oak = pd.read_csv('Desktop/0080246-200613084148143 - 0080246-200613084148143.csv')"
   ]
  },
  {
   "cell_type": "code",
   "execution_count": 102,
   "metadata": {},
   "outputs": [
    {
     "data": {
      "text/html": [
       "<div>\n",
       "<style scoped>\n",
       "    .dataframe tbody tr th:only-of-type {\n",
       "        vertical-align: middle;\n",
       "    }\n",
       "\n",
       "    .dataframe tbody tr th {\n",
       "        vertical-align: top;\n",
       "    }\n",
       "\n",
       "    .dataframe thead th {\n",
       "        text-align: right;\n",
       "    }\n",
       "</style>\n",
       "<table border=\"1\" class=\"dataframe\">\n",
       "  <thead>\n",
       "    <tr style=\"text-align: right;\">\n",
       "      <th></th>\n",
       "      <th>species</th>\n",
       "      <th>infraspecificEpithet</th>\n",
       "      <th>locality</th>\n",
       "      <th>stateProvince</th>\n",
       "      <th>decimalLatitude</th>\n",
       "      <th>decimalLongitude</th>\n",
       "      <th>eventDate</th>\n",
       "      <th>year</th>\n",
       "    </tr>\n",
       "  </thead>\n",
       "  <tbody>\n",
       "    <tr>\n",
       "      <th>0</th>\n",
       "      <td>Quercus garryana</td>\n",
       "      <td>NaN</td>\n",
       "      <td>San Juan Island</td>\n",
       "      <td>Washington</td>\n",
       "      <td>48.540932</td>\n",
       "      <td>-123.086016</td>\n",
       "      <td>1925-08-18T00:00:00</td>\n",
       "      <td>1925</td>\n",
       "    </tr>\n",
       "    <tr>\n",
       "      <th>1</th>\n",
       "      <td>Quercus garryana</td>\n",
       "      <td>NaN</td>\n",
       "      <td>Yolo County; UC Davis Arboretum; Section: Shie...</td>\n",
       "      <td>California</td>\n",
       "      <td>38.529444</td>\n",
       "      <td>-121.765000</td>\n",
       "      <td>2009-10-08T00:00:00</td>\n",
       "      <td>2009</td>\n",
       "    </tr>\n",
       "    <tr>\n",
       "      <th>2</th>\n",
       "      <td>Quercus garryana</td>\n",
       "      <td>breweri</td>\n",
       "      <td>Yolo County; UC Davis Arboretum; Section: Shie...</td>\n",
       "      <td>California</td>\n",
       "      <td>38.529167</td>\n",
       "      <td>-121.765000</td>\n",
       "      <td>2009-10-08T00:00:00</td>\n",
       "      <td>2009</td>\n",
       "    </tr>\n",
       "    <tr>\n",
       "      <th>3</th>\n",
       "      <td>Quercus garryana</td>\n",
       "      <td>NaN</td>\n",
       "      <td>Josephine Co.: Cave Junction. Eight Dollar Mou...</td>\n",
       "      <td>Oregon</td>\n",
       "      <td>42.250000</td>\n",
       "      <td>-123.683333</td>\n",
       "      <td>2006-07-26T00:00:00</td>\n",
       "      <td>2006</td>\n",
       "    </tr>\n",
       "    <tr>\n",
       "      <th>4</th>\n",
       "      <td>Quercus garryana</td>\n",
       "      <td>breweri</td>\n",
       "      <td>Yolo County; UC Davis Arboretum; Section: Cali...</td>\n",
       "      <td>California</td>\n",
       "      <td>38.534444</td>\n",
       "      <td>-121.750556</td>\n",
       "      <td>2009-11-05T00:00:00</td>\n",
       "      <td>2009</td>\n",
       "    </tr>\n",
       "    <tr>\n",
       "      <th>...</th>\n",
       "      <td>...</td>\n",
       "      <td>...</td>\n",
       "      <td>...</td>\n",
       "      <td>...</td>\n",
       "      <td>...</td>\n",
       "      <td>...</td>\n",
       "      <td>...</td>\n",
       "      <td>...</td>\n",
       "    </tr>\n",
       "    <tr>\n",
       "      <th>668</th>\n",
       "      <td>Quercus garryana</td>\n",
       "      <td>garryana</td>\n",
       "      <td>Rowena.</td>\n",
       "      <td>Oregon</td>\n",
       "      <td>45.672500</td>\n",
       "      <td>-121.267200</td>\n",
       "      <td>1932-04-24T00:00:00</td>\n",
       "      <td>1932</td>\n",
       "    </tr>\n",
       "    <tr>\n",
       "      <th>669</th>\n",
       "      <td>Quercus garryana</td>\n",
       "      <td>garryana</td>\n",
       "      <td>Rebel Rock, S. Fk. McKenzie River.</td>\n",
       "      <td>Oregon</td>\n",
       "      <td>44.006500</td>\n",
       "      <td>-122.035800</td>\n",
       "      <td>1965-06-30T00:00:00</td>\n",
       "      <td>1965</td>\n",
       "    </tr>\n",
       "    <tr>\n",
       "      <th>670</th>\n",
       "      <td>Quercus garryana</td>\n",
       "      <td>breweri</td>\n",
       "      <td>on blocks of andesite by road to Musick Mine; ...</td>\n",
       "      <td>Oregon</td>\n",
       "      <td>43.579300</td>\n",
       "      <td>-122.657500</td>\n",
       "      <td>1965-07-09T00:00:00</td>\n",
       "      <td>1965</td>\n",
       "    </tr>\n",
       "    <tr>\n",
       "      <th>671</th>\n",
       "      <td>Quercus garryana</td>\n",
       "      <td>garryana</td>\n",
       "      <td>Castle Rock, McKenzie River Region.</td>\n",
       "      <td>Oregon</td>\n",
       "      <td>44.149900</td>\n",
       "      <td>-122.213300</td>\n",
       "      <td>1967-06-28T00:00:00</td>\n",
       "      <td>1967</td>\n",
       "    </tr>\n",
       "    <tr>\n",
       "      <th>672</th>\n",
       "      <td>Quercus garryana</td>\n",
       "      <td>garryana</td>\n",
       "      <td>3 mi. south of Halsey, Cogswell-Foster Nature ...</td>\n",
       "      <td>Oregon</td>\n",
       "      <td>44.360000</td>\n",
       "      <td>-123.140000</td>\n",
       "      <td>1979-04-21T00:00:00</td>\n",
       "      <td>1979</td>\n",
       "    </tr>\n",
       "  </tbody>\n",
       "</table>\n",
       "<p>673 rows × 8 columns</p>\n",
       "</div>"
      ],
      "text/plain": [
       "              species infraspecificEpithet  \\\n",
       "0    Quercus garryana                  NaN   \n",
       "1    Quercus garryana                  NaN   \n",
       "2    Quercus garryana              breweri   \n",
       "3    Quercus garryana                  NaN   \n",
       "4    Quercus garryana              breweri   \n",
       "..                ...                  ...   \n",
       "668  Quercus garryana             garryana   \n",
       "669  Quercus garryana             garryana   \n",
       "670  Quercus garryana              breweri   \n",
       "671  Quercus garryana             garryana   \n",
       "672  Quercus garryana             garryana   \n",
       "\n",
       "                                              locality stateProvince  \\\n",
       "0                                      San Juan Island    Washington   \n",
       "1    Yolo County; UC Davis Arboretum; Section: Shie...    California   \n",
       "2    Yolo County; UC Davis Arboretum; Section: Shie...    California   \n",
       "3    Josephine Co.: Cave Junction. Eight Dollar Mou...        Oregon   \n",
       "4    Yolo County; UC Davis Arboretum; Section: Cali...    California   \n",
       "..                                                 ...           ...   \n",
       "668                                            Rowena.        Oregon   \n",
       "669                 Rebel Rock, S. Fk. McKenzie River.        Oregon   \n",
       "670  on blocks of andesite by road to Musick Mine; ...        Oregon   \n",
       "671                Castle Rock, McKenzie River Region.        Oregon   \n",
       "672  3 mi. south of Halsey, Cogswell-Foster Nature ...        Oregon   \n",
       "\n",
       "     decimalLatitude  decimalLongitude            eventDate  year  \n",
       "0          48.540932       -123.086016  1925-08-18T00:00:00  1925  \n",
       "1          38.529444       -121.765000  2009-10-08T00:00:00  2009  \n",
       "2          38.529167       -121.765000  2009-10-08T00:00:00  2009  \n",
       "3          42.250000       -123.683333  2006-07-26T00:00:00  2006  \n",
       "4          38.534444       -121.750556  2009-11-05T00:00:00  2009  \n",
       "..               ...               ...                  ...   ...  \n",
       "668        45.672500       -121.267200  1932-04-24T00:00:00  1932  \n",
       "669        44.006500       -122.035800  1965-06-30T00:00:00  1965  \n",
       "670        43.579300       -122.657500  1965-07-09T00:00:00  1965  \n",
       "671        44.149900       -122.213300  1967-06-28T00:00:00  1967  \n",
       "672        44.360000       -123.140000  1979-04-21T00:00:00  1979  \n",
       "\n",
       "[673 rows x 8 columns]"
      ]
     },
     "execution_count": 102,
     "metadata": {},
     "output_type": "execute_result"
    }
   ],
   "source": [
    "df_oak"
   ]
  },
  {
   "cell_type": "code",
   "execution_count": 104,
   "metadata": {},
   "outputs": [],
   "source": [
    "sorted_dfoak = df_oak.sort_values(by='eventDate')\n"
   ]
  },
  {
   "cell_type": "code",
   "execution_count": 105,
   "metadata": {},
   "outputs": [],
   "source": [
    "sorted_dfoakyr = sorted_dfoak.reset_index(drop=True)"
   ]
  },
  {
   "cell_type": "code",
   "execution_count": 107,
   "metadata": {},
   "outputs": [],
   "source": [
    "#json\n",
    "d_ar=[{}]*len(sorted_dfoakyr['decimalLatitude'])\n",
    "for i in range(len(sorted_dfoakyr['decimalLatitude'][:])):\n",
    "    d_ar[i]={\"latitude\":sorted_dfoakyr['decimalLatitude'][i],\"longitude\":sorted_dfoakyr['decimalLongitude'][i]}\n",
    "location={\"locations\":d_ar}\n",
    "json_data=json.dumps(location,skipkeys=int).encode('utf8')\n",
    "\n",
    "#SEND REQUEST\n",
    "url=\"https://api.open-elevation.com/api/v1/lookup\"\n",
    "response = urllib.request.Request(url,json_data,headers={'Content-Type': 'application/json'})\n",
    "fp=urllib.request.urlopen(response)\n",
    "\n",
    "#RESPONSE PROCESSING\n",
    "res_byte=fp.read()\n",
    "res_str=res_byte.decode(\"utf8\")\n",
    "js_str=json.loads(res_str)\n",
    "#print (js_mystr)\n",
    "fp.close()\n",
    "\n",
    "#GETTING ELEVATION\n",
    "response_len=len(js_str['results'])\n",
    "elev_list2 = []\n",
    "for j in range(response_len):\n",
    "    elev_list2.append(js_str['results'][j]['elevation'])"
   ]
  },
  {
   "cell_type": "code",
   "execution_count": 108,
   "metadata": {},
   "outputs": [
    {
     "data": {
      "text/plain": [
       "[325,\n",
       " 292,\n",
       " 740,\n",
       " 66,\n",
       " 560,\n",
       " 599,\n",
       " 599,\n",
       " 371,\n",
       " 599,\n",
       " 2553,\n",
       " 66,\n",
       " 1640,\n",
       " 1443,\n",
       " 4294,\n",
       " 157,\n",
       " 587,\n",
       " 1282,\n",
       " 398,\n",
       " 398,\n",
       " 420,\n",
       " 425,\n",
       " 71,\n",
       " 662,\n",
       " 662,\n",
       " 662,\n",
       " 242,\n",
       " 422,\n",
       " 131,\n",
       " 40,\n",
       " 131,\n",
       " 114,\n",
       " 63,\n",
       " 3439,\n",
       " 40,\n",
       " 40,\n",
       " 288,\n",
       " 311,\n",
       " 82,\n",
       " 135,\n",
       " 1499,\n",
       " 1727,\n",
       " 660,\n",
       " 614,\n",
       " 915,\n",
       " 614,\n",
       " 157,\n",
       " 157,\n",
       " 1807,\n",
       " 429,\n",
       " 860,\n",
       " 656,\n",
       " 212,\n",
       " 1033,\n",
       " 344,\n",
       " 614,\n",
       " 249,\n",
       " 221,\n",
       " 68,\n",
       " 395,\n",
       " 395,\n",
       " 577,\n",
       " 577,\n",
       " 14,\n",
       " 309,\n",
       " 807,\n",
       " 1179,\n",
       " 197,\n",
       " 197,\n",
       " 314,\n",
       " 656,\n",
       " 178,\n",
       " 451,\n",
       " 70,\n",
       " 495,\n",
       " 511,\n",
       " 511,\n",
       " 445,\n",
       " 326,\n",
       " 121,\n",
       " 29,\n",
       " 628,\n",
       " 50,\n",
       " 730,\n",
       " 730,\n",
       " 0,\n",
       " 120,\n",
       " 58,\n",
       " 134,\n",
       " 344,\n",
       " 157,\n",
       " 157,\n",
       " 307,\n",
       " 665,\n",
       " 1233,\n",
       " 662,\n",
       " 644,\n",
       " 178,\n",
       " 40,\n",
       " 898,\n",
       " 26,\n",
       " 40,\n",
       " 430,\n",
       " 687,\n",
       " 687,\n",
       " 47,\n",
       " 1272,\n",
       " 1584,\n",
       " 352,\n",
       " 492,\n",
       " 388,\n",
       " 2443,\n",
       " 2174,\n",
       " 705,\n",
       " 21,\n",
       " 515,\n",
       " 1116,\n",
       " 88,\n",
       " 592,\n",
       " 84,\n",
       " 473,\n",
       " 404,\n",
       " 511,\n",
       " 326,\n",
       " 54,\n",
       " 278,\n",
       " 278,\n",
       " 278,\n",
       " 278,\n",
       " 278,\n",
       " 621,\n",
       " 621,\n",
       " 621,\n",
       " 621,\n",
       " 47,\n",
       " 127,\n",
       " 531,\n",
       " 498,\n",
       " 344,\n",
       " 435,\n",
       " 1025,\n",
       " 569,\n",
       " 647,\n",
       " 1122,\n",
       " 739,\n",
       " 624,\n",
       " 129,\n",
       " 40,\n",
       " 133,\n",
       " 99,\n",
       " 1087,\n",
       " 1087,\n",
       " 1087,\n",
       " 1087,\n",
       " 1397,\n",
       " 21,\n",
       " 21,\n",
       " 21,\n",
       " 21,\n",
       " 832,\n",
       " 880,\n",
       " 8,\n",
       " 21,\n",
       " 21,\n",
       " 2107,\n",
       " 1045,\n",
       " 899,\n",
       " 662,\n",
       " 1006,\n",
       " 492,\n",
       " 694,\n",
       " 1020,\n",
       " 235,\n",
       " 28,\n",
       " 498,\n",
       " 1517,\n",
       " 142,\n",
       " 468,\n",
       " 1675,\n",
       " 393,\n",
       " 677,\n",
       " 215,\n",
       " 578,\n",
       " 578,\n",
       " 183,\n",
       " 1480,\n",
       " 107,\n",
       " 979,\n",
       " 219,\n",
       " 244,\n",
       " 619,\n",
       " 131,\n",
       " 231,\n",
       " 1752,\n",
       " 1752,\n",
       " 1824,\n",
       " 32,\n",
       " 411,\n",
       " 949,\n",
       " 1452,\n",
       " 1452,\n",
       " 583,\n",
       " 978,\n",
       " 102,\n",
       " 1192,\n",
       " 1192,\n",
       " 479,\n",
       " 69,\n",
       " 996,\n",
       " 78,\n",
       " 467,\n",
       " 1714,\n",
       " 540,\n",
       " 215,\n",
       " 215,\n",
       " 432,\n",
       " 61,\n",
       " 22,\n",
       " 74,\n",
       " 15,\n",
       " 281,\n",
       " 281,\n",
       " 127,\n",
       " 133,\n",
       " 289,\n",
       " 289,\n",
       " 30,\n",
       " 671,\n",
       " 1131,\n",
       " 1213,\n",
       " 1919,\n",
       " 1919,\n",
       " 2301,\n",
       " 479,\n",
       " 77,\n",
       " 68,\n",
       " 1090,\n",
       " 147,\n",
       " 123,\n",
       " 118,\n",
       " 118,\n",
       " 1299,\n",
       " 1729,\n",
       " 1416,\n",
       " 1584,\n",
       " 434,\n",
       " 370,\n",
       " 1584,\n",
       " 1584,\n",
       " 370,\n",
       " 438,\n",
       " 452,\n",
       " 1489,\n",
       " 1489,\n",
       " 1128,\n",
       " 333,\n",
       " 106,\n",
       " 47,\n",
       " 879,\n",
       " 879,\n",
       " 281,\n",
       " 353,\n",
       " 1753,\n",
       " 1753,\n",
       " 457,\n",
       " 457,\n",
       " 420,\n",
       " 577,\n",
       " 119,\n",
       " 195,\n",
       " 119,\n",
       " 32,\n",
       " 73,\n",
       " 1071,\n",
       " 189,\n",
       " 203,\n",
       " 542,\n",
       " 638,\n",
       " 638,\n",
       " 638,\n",
       " 638,\n",
       " 638,\n",
       " 638,\n",
       " 638,\n",
       " 638,\n",
       " 150,\n",
       " 84,\n",
       " 88,\n",
       " 638,\n",
       " 638,\n",
       " 638,\n",
       " 520,\n",
       " 93,\n",
       " 356,\n",
       " 73,\n",
       " 213,\n",
       " 290,\n",
       " 73,\n",
       " 2148,\n",
       " 1835,\n",
       " 2148,\n",
       " 2148,\n",
       " 847,\n",
       " 1147,\n",
       " 702,\n",
       " 1463,\n",
       " 1729,\n",
       " 1729,\n",
       " 288,\n",
       " 638,\n",
       " 1584,\n",
       " 1043,\n",
       " 1495,\n",
       " 211,\n",
       " 139,\n",
       " 139,\n",
       " 727,\n",
       " 342,\n",
       " 342,\n",
       " 712,\n",
       " 866,\n",
       " 726,\n",
       " 74,\n",
       " 448,\n",
       " 1621,\n",
       " 88,\n",
       " 431,\n",
       " 959,\n",
       " 347,\n",
       " 347,\n",
       " 1397,\n",
       " 328,\n",
       " 1096,\n",
       " 1096,\n",
       " 69,\n",
       " 1712,\n",
       " 1798,\n",
       " 1375,\n",
       " 1012,\n",
       " 840,\n",
       " 1749,\n",
       " 41,\n",
       " 108,\n",
       " 1249,\n",
       " 1249,\n",
       " 1249,\n",
       " 1249,\n",
       " 1249,\n",
       " 1249,\n",
       " 883,\n",
       " 883,\n",
       " 421,\n",
       " 1029,\n",
       " 1025,\n",
       " 1308,\n",
       " 416,\n",
       " 416,\n",
       " 1766,\n",
       " 731,\n",
       " 53,\n",
       " 1483,\n",
       " 1282,\n",
       " 1815,\n",
       " 53,\n",
       " 1268,\n",
       " 323,\n",
       " 1306,\n",
       " 353,\n",
       " 1222,\n",
       " 353,\n",
       " 1327,\n",
       " 1291,\n",
       " 1327,\n",
       " 1531,\n",
       " 1520,\n",
       " 1506,\n",
       " 1506,\n",
       " 1546,\n",
       " 812,\n",
       " 863,\n",
       " 1322,\n",
       " 996,\n",
       " 172,\n",
       " 399,\n",
       " 420,\n",
       " 1680,\n",
       " 1626,\n",
       " 569,\n",
       " 732,\n",
       " 1613,\n",
       " 769,\n",
       " 1481,\n",
       " 647,\n",
       " 1655,\n",
       " 580,\n",
       " 305,\n",
       " 501,\n",
       " 322,\n",
       " 1688,\n",
       " 1424,\n",
       " 293,\n",
       " 991,\n",
       " 1827,\n",
       " 434,\n",
       " 434,\n",
       " 434,\n",
       " 434,\n",
       " 1291,\n",
       " 223,\n",
       " 1270,\n",
       " 1152,\n",
       " 425,\n",
       " 1988,\n",
       " 422,\n",
       " 425,\n",
       " 428,\n",
       " 986,\n",
       " 986,\n",
       " 986,\n",
       " 986,\n",
       " 986,\n",
       " 1832,\n",
       " 1847,\n",
       " 1424,\n",
       " 1525,\n",
       " 1073,\n",
       " 1624,\n",
       " 1624,\n",
       " 1424,\n",
       " 1884,\n",
       " 1058,\n",
       " 558,\n",
       " 1346,\n",
       " 364,\n",
       " 465,\n",
       " 1378,\n",
       " 1378,\n",
       " 1644,\n",
       " 1825,\n",
       " 1753,\n",
       " 1825,\n",
       " 777,\n",
       " 9,\n",
       " 453,\n",
       " 451,\n",
       " 340,\n",
       " 870,\n",
       " 997,\n",
       " 1002,\n",
       " 1703,\n",
       " 221,\n",
       " 501,\n",
       " 241,\n",
       " 438,\n",
       " 85,\n",
       " 46,\n",
       " 1401,\n",
       " 85,\n",
       " 85,\n",
       " 1154,\n",
       " 87,\n",
       " 366,\n",
       " 429,\n",
       " 435,\n",
       " 763,\n",
       " 630,\n",
       " 1924,\n",
       " 397,\n",
       " 1650,\n",
       " 1031,\n",
       " 1662,\n",
       " 1031,\n",
       " 513,\n",
       " 3,\n",
       " 719,\n",
       " 106,\n",
       " 1494,\n",
       " 1847,\n",
       " 684,\n",
       " 684,\n",
       " 267,\n",
       " 1256,\n",
       " 1580,\n",
       " 1335,\n",
       " 8,\n",
       " 143,\n",
       " 49,\n",
       " 8,\n",
       " 1347,\n",
       " 169,\n",
       " 632,\n",
       " 114,\n",
       " 114,\n",
       " 888,\n",
       " 1548,\n",
       " 1548,\n",
       " 1779,\n",
       " 1010,\n",
       " 112,\n",
       " 977,\n",
       " 112,\n",
       " 1222,\n",
       " 1253,\n",
       " 314,\n",
       " 53,\n",
       " 754,\n",
       " 1669,\n",
       " 1075,\n",
       " 1075,\n",
       " 1524,\n",
       " 1156,\n",
       " 110,\n",
       " 110,\n",
       " 525,\n",
       " 525,\n",
       " 525,\n",
       " 1396,\n",
       " 557,\n",
       " 1711,\n",
       " 1325,\n",
       " 1682,\n",
       " 1740,\n",
       " 0,\n",
       " 253,\n",
       " 253,\n",
       " 253,\n",
       " 1261,\n",
       " 1567,\n",
       " 815,\n",
       " 28,\n",
       " 344,\n",
       " 421,\n",
       " 582,\n",
       " 399,\n",
       " 1472,\n",
       " 1472,\n",
       " 194,\n",
       " -2,\n",
       " 1776,\n",
       " 1429,\n",
       " 1469,\n",
       " 1469,\n",
       " 1429,\n",
       " 1500,\n",
       " 819,\n",
       " 1513,\n",
       " 1513,\n",
       " 2033,\n",
       " 238,\n",
       " 797,\n",
       " 612,\n",
       " 638,\n",
       " 111,\n",
       " 75,\n",
       " 661,\n",
       " 1730,\n",
       " 1905,\n",
       " 1882,\n",
       " 599,\n",
       " 599,\n",
       " 599,\n",
       " 1332,\n",
       " 1014,\n",
       " 291,\n",
       " 661,\n",
       " 432,\n",
       " 661,\n",
       " 455,\n",
       " 497,\n",
       " 497,\n",
       " 403,\n",
       " 550,\n",
       " 357,\n",
       " 357,\n",
       " 357,\n",
       " 1637,\n",
       " 428,\n",
       " 3,\n",
       " 100,\n",
       " 523,\n",
       " 1008,\n",
       " 1008,\n",
       " 57,\n",
       " 498,\n",
       " 64,\n",
       " 64,\n",
       " 1863,\n",
       " 476,\n",
       " 1863,\n",
       " 1863,\n",
       " 0,\n",
       " 82,\n",
       " 0,\n",
       " 0,\n",
       " 668,\n",
       " 414,\n",
       " 1673,\n",
       " 178,\n",
       " 109,\n",
       " 0,\n",
       " 2,\n",
       " 1678,\n",
       " 0,\n",
       " 0,\n",
       " 0,\n",
       " 0,\n",
       " 184,\n",
       " 759,\n",
       " 756,\n",
       " 756,\n",
       " 759,\n",
       " 368,\n",
       " 22,\n",
       " 668,\n",
       " 0,\n",
       " 0,\n",
       " 55,\n",
       " 0,\n",
       " 0,\n",
       " 0,\n",
       " 157,\n",
       " 621,\n",
       " 673,\n",
       " 899,\n",
       " 157,\n",
       " 238,\n",
       " 92,\n",
       " 564,\n",
       " 564,\n",
       " 1389,\n",
       " 1631,\n",
       " 1389,\n",
       " 1631,\n",
       " 1249,\n",
       " 1336,\n",
       " 1519,\n",
       " 1519,\n",
       " 1336,\n",
       " 1336,\n",
       " 1246,\n",
       " 1377,\n",
       " 1377,\n",
       " 404,\n",
       " 761,\n",
       " 404,\n",
       " 4,\n",
       " 19,\n",
       " 1011,\n",
       " 22,\n",
       " 1733,\n",
       " 260,\n",
       " 472,\n",
       " 0,\n",
       " 59,\n",
       " 0,\n",
       " 437,\n",
       " 241,\n",
       " 0,\n",
       " 27,\n",
       " 21,\n",
       " 75,\n",
       " 16,\n",
       " 16,\n",
       " 20,\n",
       " 415,\n",
       " 697,\n",
       " 790,\n",
       " 790,\n",
       " 687,\n",
       " 910,\n",
       " 234,\n",
       " 1885,\n",
       " 1885,\n",
       " 151]"
      ]
     },
     "execution_count": 108,
     "metadata": {},
     "output_type": "execute_result"
    }
   ],
   "source": [
    "elev_list2"
   ]
  },
  {
   "cell_type": "code",
   "execution_count": 110,
   "metadata": {},
   "outputs": [],
   "source": [
    "df_oakelev = pd.DataFrame({'elevation':elev_list2})\n"
   ]
  },
  {
   "cell_type": "code",
   "execution_count": 159,
   "metadata": {},
   "outputs": [],
   "source": [
    "df_oakelev['count'] = df_oakelev.index"
   ]
  },
  {
   "cell_type": "code",
   "execution_count": 160,
   "metadata": {},
   "outputs": [
    {
     "data": {
      "text/html": [
       "<div>\n",
       "<style scoped>\n",
       "    .dataframe tbody tr th:only-of-type {\n",
       "        vertical-align: middle;\n",
       "    }\n",
       "\n",
       "    .dataframe tbody tr th {\n",
       "        vertical-align: top;\n",
       "    }\n",
       "\n",
       "    .dataframe thead th {\n",
       "        text-align: right;\n",
       "    }\n",
       "</style>\n",
       "<table border=\"1\" class=\"dataframe\">\n",
       "  <thead>\n",
       "    <tr style=\"text-align: right;\">\n",
       "      <th></th>\n",
       "      <th>elevation</th>\n",
       "      <th>count</th>\n",
       "    </tr>\n",
       "  </thead>\n",
       "  <tbody>\n",
       "    <tr>\n",
       "      <th>0</th>\n",
       "      <td>325</td>\n",
       "      <td>0</td>\n",
       "    </tr>\n",
       "    <tr>\n",
       "      <th>1</th>\n",
       "      <td>292</td>\n",
       "      <td>1</td>\n",
       "    </tr>\n",
       "    <tr>\n",
       "      <th>2</th>\n",
       "      <td>740</td>\n",
       "      <td>2</td>\n",
       "    </tr>\n",
       "    <tr>\n",
       "      <th>3</th>\n",
       "      <td>66</td>\n",
       "      <td>3</td>\n",
       "    </tr>\n",
       "    <tr>\n",
       "      <th>4</th>\n",
       "      <td>560</td>\n",
       "      <td>4</td>\n",
       "    </tr>\n",
       "    <tr>\n",
       "      <th>...</th>\n",
       "      <td>...</td>\n",
       "      <td>...</td>\n",
       "    </tr>\n",
       "    <tr>\n",
       "      <th>668</th>\n",
       "      <td>910</td>\n",
       "      <td>668</td>\n",
       "    </tr>\n",
       "    <tr>\n",
       "      <th>669</th>\n",
       "      <td>234</td>\n",
       "      <td>669</td>\n",
       "    </tr>\n",
       "    <tr>\n",
       "      <th>670</th>\n",
       "      <td>1885</td>\n",
       "      <td>670</td>\n",
       "    </tr>\n",
       "    <tr>\n",
       "      <th>671</th>\n",
       "      <td>1885</td>\n",
       "      <td>671</td>\n",
       "    </tr>\n",
       "    <tr>\n",
       "      <th>672</th>\n",
       "      <td>151</td>\n",
       "      <td>672</td>\n",
       "    </tr>\n",
       "  </tbody>\n",
       "</table>\n",
       "<p>673 rows × 2 columns</p>\n",
       "</div>"
      ],
      "text/plain": [
       "     elevation  count\n",
       "0          325      0\n",
       "1          292      1\n",
       "2          740      2\n",
       "3           66      3\n",
       "4          560      4\n",
       "..         ...    ...\n",
       "668        910    668\n",
       "669        234    669\n",
       "670       1885    670\n",
       "671       1885    671\n",
       "672        151    672\n",
       "\n",
       "[673 rows x 2 columns]"
      ]
     },
     "execution_count": 160,
     "metadata": {},
     "output_type": "execute_result"
    }
   ],
   "source": [
    "df_oakelev"
   ]
  },
  {
   "cell_type": "code",
   "execution_count": 161,
   "metadata": {},
   "outputs": [
    {
     "data": {
      "text/plain": [
       "[<matplotlib.lines.Line2D at 0x1a9abbed220>]"
      ]
     },
     "execution_count": 161,
     "metadata": {},
     "output_type": "execute_result"
    },
    {
     "data": {
      "image/png": "[encoded data removed]",
      "text/plain": [
       "<Figure size 432x288 with 1 Axes>"
      ]
     },
     "metadata": {
      "needs_background": "light"
     },
     "output_type": "display_data"
    }
   ],
   "source": [
    "x = df_oakelev['count']\n",
    "plt.plot(df_oakelev['count'], df_oakelev['elevation'], 'o')\n",
    "m, b = np.polyfit(df_oakelev['count'], df_oakelev['elevation'], 1)\n",
    "plt.title('Oregon Oak temporal elevation regression')\n",
    "plt.xlabel('temporal sort: 1892-2010')\n",
    "plt.ylabel('elevation in meters')\n",
    "plt.plot(x, m*x+b)"
   ]
  },
  {
   "cell_type": "code",
   "execution_count": 162,
   "metadata": {},
   "outputs": [
    {
     "data": {
      "text/plain": [
       "625.9356616593403"
      ]
     },
     "execution_count": 162,
     "metadata": {},
     "output_type": "execute_result"
    }
   ],
   "source": [
    "b"
   ]
  },
  {
   "cell_type": "code",
   "execution_count": 163,
   "metadata": {},
   "outputs": [
    {
     "data": {
      "text/plain": [
       "808.7121838087132"
      ]
     },
     "execution_count": 163,
     "metadata": {},
     "output_type": "execute_result"
    }
   ],
   "source": [
    "m*672 + b"
   ]
  },
  {
   "cell_type": "markdown",
   "metadata": {},
   "source": [
    "There's been an upward shift of approx. 183 m over the observation period.."
   ]
  },
  {
   "cell_type": "code",
   "execution_count": 116,
   "metadata": {},
   "outputs": [
    {
     "data": {
      "text/plain": [
       "[<matplotlib.lines.Line2D at 0x1a9a8f3c910>]"
      ]
     },
     "execution_count": 116,
     "metadata": {},
     "output_type": "execute_result"
    },
    {
     "data": {
      "image/png": "[encoded data removed]",
      "text/plain": [
       "<Figure size 432x288 with 1 Axes>"
      ]
     },
     "metadata": {
      "needs_background": "light"
     },
     "output_type": "display_data"
    }
   ],
   "source": [
    "x = sorted_dfoakyr['year']\n",
    "plt.plot(sorted_dfoakyr['year'], sorted_dfoakyr['decimalLatitude'], 'o')\n",
    "m, b = np.polyfit(sorted_dfoakyr['year'], sorted_dfoakyr['decimalLatitude'], 1)\n",
    "plt.title('Oregon Oak temporal latitude regression')\n",
    "plt.xlabel('year')\n",
    "plt.ylabel('latitude')\n",
    "plt.plot(x, m*x+b)"
   ]
  },
  {
   "cell_type": "code",
   "execution_count": 117,
   "metadata": {},
   "outputs": [
    {
     "data": {
      "text/plain": [
       "41.2534464413205"
      ]
     },
     "execution_count": 117,
     "metadata": {},
     "output_type": "execute_result"
    }
   ],
   "source": [
    "m*1892 + b"
   ]
  },
  {
   "cell_type": "code",
   "execution_count": 118,
   "metadata": {},
   "outputs": [
    {
     "data": {
      "text/plain": [
       "40.74986078387238"
      ]
     },
     "execution_count": 118,
     "metadata": {},
     "output_type": "execute_result"
    }
   ],
   "source": [
    "m*2010 + b"
   ]
  },
  {
   "cell_type": "markdown",
   "metadata": {},
   "source": [
    "A southward shift of approx .5 degrees of latitude."
   ]
  },
  {
   "cell_type": "code",
   "execution_count": 119,
   "metadata": {},
   "outputs": [
    {
     "data": {
      "text/plain": [
       "[<matplotlib.lines.Line2D at 0x1a9aa04b3a0>]"
      ]
     },
     "execution_count": 119,
     "metadata": {},
     "output_type": "execute_result"
    },
    {
     "data": {
      "image/png": "[encoded data removed]",
      "text/plain": [
       "<Figure size 432x288 with 1 Axes>"
      ]
     },
     "metadata": {
      "needs_background": "light"
     },
     "output_type": "display_data"
    }
   ],
   "source": [
    "x = sorted_dfoakyr['decimalLatitude']\n",
    "plt.plot(sorted_dfoakyr['decimalLatitude'], df_oakelev['elevation'], 'o')\n",
    "m, b = np.polyfit(sorted_dfoakyr['decimalLatitude'], df_oakelev['elevation'], 1)\n",
    "plt.title('Oregon Oak elevation-latitude regression')\n",
    "plt.xlabel('latitude')\n",
    "plt.ylabel('elevation in meters')\n",
    "plt.plot(x, m*x+b)"
   ]
  },
  {
   "cell_type": "code",
   "execution_count": 120,
   "metadata": {},
   "outputs": [
    {
     "data": {
      "text/plain": [
       "1018.7908319564926"
      ]
     },
     "execution_count": 120,
     "metadata": {},
     "output_type": "execute_result"
    }
   ],
   "source": [
    "m*37 + b"
   ]
  },
  {
   "cell_type": "code",
   "execution_count": 121,
   "metadata": {},
   "outputs": [
    {
     "data": {
      "text/plain": [
       "257.93920480831275"
      ]
     },
     "execution_count": 121,
     "metadata": {},
     "output_type": "execute_result"
    }
   ],
   "source": [
    "m*47 + b"
   ]
  },
  {
   "cell_type": "markdown",
   "metadata": {},
   "source": [
    "An average decrease of approx. 76 m in elevation for every degree of latitude as one heads north.\n",
    "\n",
    "We can also run a time series analysis on the data which will separate out seasonal cycles and residual noise to obtain a more nuanced picture of any trend."
   ]
  },
  {
   "cell_type": "code",
   "execution_count": 141,
   "metadata": {},
   "outputs": [
    {
     "data": {
      "image/png": "[encoded data removed]",
      "text/plain": [
       "<Figure size 864x576 with 4 Axes>"
      ]
     },
     "metadata": {
      "needs_background": "light"
     },
     "output_type": "display_data"
    }
   ],
   "source": [
    "from statsmodels.tsa.arima_model import ARIMA\n",
    "import statsmodels.api as sm\n",
    "df_oakelevts = df_oakelev.set_index('count')\n",
    "df_oakelevts.sort_index(inplace=True)\n",
    "df_oakelevts.index.inferred_freq = 'M'\n",
    "decomposition_add = sm.tsa.seasonal_decompose(df_oakelevts, model='additive')\n",
    "fig = decomposition_add.plot()\n",
    "fig.set_figwidth(12)\n",
    "fig.set_figheight(8)\n",
    "fig.suptitle('Decomposition of additive time series')\n",
    "plt.show()"
   ]
  },
  {
   "cell_type": "markdown",
   "metadata": {},
   "source": [
    "Obtain a date for any particular point of interest."
   ]
  },
  {
   "cell_type": "code",
   "execution_count": 143,
   "metadata": {},
   "outputs": [
    {
     "data": {
      "text/plain": [
       "'1953-08-27T00:00:00'"
      ]
     },
     "execution_count": 143,
     "metadata": {},
     "output_type": "execute_result"
    }
   ],
   "source": [
    "sorted_dfoakyr['eventDate'][300]"
   ]
  },
  {
   "cell_type": "markdown",
   "metadata": {},
   "source": [
    "Import a chart of global temperatures for comparison, although it is most likely that the relationship is nonlinear."
   ]
  },
  {
   "cell_type": "code",
   "execution_count": 145,
   "metadata": {},
   "outputs": [
    {
     "data": {
      "text/html": [
       "<img src=\"https://static01.nyt.com/images/2020/04/23/learning/GlobalTemp2019GraphLN/GlobalTemp2019GraphLN-superJumbo.png\"/>"
      ],
      "text/plain": [
       "<IPython.core.display.Image object>"
      ]
     },
     "execution_count": 145,
     "metadata": {},
     "output_type": "execute_result"
    }
   ],
   "source": [
    "from IPython.display import Image\n",
    "from IPython.core.display import HTML \n",
    "Image(url= \"https://static01.nyt.com/images/2020/04/23/learning/GlobalTemp2019GraphLN/GlobalTemp2019GraphLN-superJumbo.png\")"
   ]
  },
  {
   "cell_type": "code",
   "execution_count": null,
   "metadata": {},
   "outputs": [],
   "source": [
    "Incense Cedar (calocedrus decurrens) analysis:"
   ]
  },
  {
   "cell_type": "code",
   "execution_count": 4,
   "metadata": {},
   "outputs": [],
   "source": [
    "import pandas as pd\n",
    "df_cdr = pd.read_csv('Desktop/0081316-200613084148143 - 0081316-200613084148143.csv')"
   ]
  },
  {
   "cell_type": "code",
   "execution_count": 147,
   "metadata": {},
   "outputs": [],
   "source": [
    "sorted_dfcdr = df_cdr.sort_values(by='eventDate')\n"
   ]
  },
  {
   "cell_type": "code",
   "execution_count": 148,
   "metadata": {},
   "outputs": [],
   "source": [
    "sorted_dfcdryr = sorted_dfcdr.reset_index(drop=True)"
   ]
  },
  {
   "cell_type": "code",
   "execution_count": 150,
   "metadata": {},
   "outputs": [],
   "source": [
    "#json\n",
    "d_ar=[{}]*len(sorted_dfcdryr['decimalLatitude'])\n",
    "for i in range(len(sorted_dfcdryr['decimalLatitude'][:])):\n",
    "    d_ar[i]={\"latitude\":sorted_dfcdryr['decimalLatitude'][i],\"longitude\":sorted_dfcdryr['decimalLongitude'][i]}\n",
    "location={\"locations\":d_ar}\n",
    "json_data=json.dumps(location,skipkeys=int).encode('utf8')\n",
    "\n",
    "#SEND REQUEST\n",
    "url=\"https://api.open-elevation.com/api/v1/lookup\"\n",
    "response = urllib.request.Request(url,json_data,headers={'Content-Type': 'application/json'})\n",
    "fp=urllib.request.urlopen(response)\n",
    "\n",
    "#RESPONSE PROCESSING\n",
    "res_byte=fp.read()\n",
    "res_str=res_byte.decode(\"utf8\")\n",
    "js_str=json.loads(res_str)\n",
    "#print (js_mystr)\n",
    "fp.close()\n",
    "\n",
    "#GETTING ELEVATION\n",
    "response_len=len(js_str['results'])\n",
    "elev_list2 = []\n",
    "for j in range(response_len):\n",
    "    elev_list2.append(js_str['results'][j]['elevation'])"
   ]
  },
  {
   "cell_type": "code",
   "execution_count": 151,
   "metadata": {},
   "outputs": [
    {
     "data": {
      "text/plain": [
       "[2053,\n",
       " 836,\n",
       " 634,\n",
       " 799,\n",
       " 348,\n",
       " 816,\n",
       " 1796,\n",
       " 1569,\n",
       " 938,\n",
       " 1543,\n",
       " 2688,\n",
       " 963,\n",
       " 1441,\n",
       " 1923,\n",
       " 621,\n",
       " 804,\n",
       " 1844,\n",
       " 1408,\n",
       " 1808,\n",
       " 1808,\n",
       " 1241,\n",
       " 2273,\n",
       " 2454,\n",
       " 1102,\n",
       " 1627,\n",
       " 2307,\n",
       " 125,\n",
       " 1117,\n",
       " 1570,\n",
       " 2165,\n",
       " 114,\n",
       " 710,\n",
       " 688,\n",
       " 688,\n",
       " 1130,\n",
       " 2098,\n",
       " 104,\n",
       " 2136,\n",
       " 2740,\n",
       " 2136,\n",
       " 351,\n",
       " 351,\n",
       " 1197,\n",
       " 1488,\n",
       " 1117,\n",
       " 1846,\n",
       " 1241,\n",
       " 1604,\n",
       " 1742,\n",
       " 775,\n",
       " 462,\n",
       " 326,\n",
       " 865,\n",
       " 1646,\n",
       " 1821,\n",
       " 1646,\n",
       " 654,\n",
       " 1216,\n",
       " 1197,\n",
       " 1197,\n",
       " 1878,\n",
       " 441,\n",
       " 441,\n",
       " 146,\n",
       " 2391,\n",
       " 119,\n",
       " 1467,\n",
       " 356,\n",
       " 356,\n",
       " 224,\n",
       " 1914,\n",
       " 1377,\n",
       " 1701,\n",
       " 103,\n",
       " 226,\n",
       " 226,\n",
       " 891,\n",
       " 1020,\n",
       " 641,\n",
       " 628,\n",
       " 449,\n",
       " 1089,\n",
       " 304,\n",
       " 898,\n",
       " 1408,\n",
       " 1408,\n",
       " 1048,\n",
       " 1048,\n",
       " 139,\n",
       " 139,\n",
       " 1477,\n",
       " 1209,\n",
       " 1209,\n",
       " 655,\n",
       " 1241,\n",
       " 1584,\n",
       " 1584,\n",
       " 564,\n",
       " 640,\n",
       " 1722,\n",
       " 1722,\n",
       " 752,\n",
       " 912,\n",
       " 1841,\n",
       " 398,\n",
       " 398,\n",
       " 473,\n",
       " 70,\n",
       " 70,\n",
       " 2227,\n",
       " 1746,\n",
       " 950,\n",
       " 359,\n",
       " 723,\n",
       " 1544,\n",
       " 1664,\n",
       " 1667,\n",
       " 1667,\n",
       " 1484,\n",
       " 2168,\n",
       " 1592,\n",
       " 2028,\n",
       " 1408,\n",
       " 1408,\n",
       " 1767,\n",
       " 2061,\n",
       " 393,\n",
       " 1352,\n",
       " 816,\n",
       " 32,\n",
       " 170,\n",
       " 170,\n",
       " 890,\n",
       " 890,\n",
       " 1525,\n",
       " 146,\n",
       " 1550,\n",
       " 1558,\n",
       " 1770,\n",
       " 1125,\n",
       " 1615,\n",
       " 1224,\n",
       " 1646,\n",
       " 1646,\n",
       " 1646,\n",
       " 1646,\n",
       " 2227,\n",
       " 1627,\n",
       " 1369,\n",
       " 1667,\n",
       " 1277,\n",
       " 1392,\n",
       " 395,\n",
       " 395,\n",
       " 967,\n",
       " 2025,\n",
       " 1365,\n",
       " 246,\n",
       " 246,\n",
       " 569,\n",
       " 569,\n",
       " 1021,\n",
       " 2682,\n",
       " 1288,\n",
       " 1444,\n",
       " 1728,\n",
       " 1317,\n",
       " 986,\n",
       " 2091,\n",
       " 1021,\n",
       " 1130,\n",
       " 2238,\n",
       " 1774,\n",
       " 785,\n",
       " 658,\n",
       " 933,\n",
       " 1497,\n",
       " 1972,\n",
       " 1972,\n",
       " 1972,\n",
       " 1972,\n",
       " 1385,\n",
       " 1367,\n",
       " 1167,\n",
       " 1796,\n",
       " 1807,\n",
       " 96,\n",
       " 975,\n",
       " 1667,\n",
       " 1457,\n",
       " 1956,\n",
       " 1599,\n",
       " 1538,\n",
       " 1132,\n",
       " 1697,\n",
       " 1112,\n",
       " 1832,\n",
       " 1691,\n",
       " 161,\n",
       " 1838,\n",
       " 23,\n",
       " 563,\n",
       " 120,\n",
       " 183,\n",
       " 183,\n",
       " 1377,\n",
       " 1377,\n",
       " 1844,\n",
       " 257,\n",
       " 2100,\n",
       " 109,\n",
       " 620,\n",
       " 620,\n",
       " 2031,\n",
       " 1577,\n",
       " 559,\n",
       " 1667,\n",
       " 266,\n",
       " 266,\n",
       " 266,\n",
       " 266,\n",
       " 1059,\n",
       " 2119,\n",
       " 862,\n",
       " 1667,\n",
       " 109,\n",
       " 721,\n",
       " 345,\n",
       " 345,\n",
       " 1446,\n",
       " 2182,\n",
       " 1257,\n",
       " 1526,\n",
       " 1257,\n",
       " 617,\n",
       " 1512,\n",
       " 865,\n",
       " 654,\n",
       " 1989,\n",
       " 1267,\n",
       " 1231,\n",
       " 40,\n",
       " 1056,\n",
       " 122,\n",
       " 3054,\n",
       " 1074,\n",
       " 1989,\n",
       " 2045,\n",
       " 1633,\n",
       " 1859,\n",
       " 1374,\n",
       " 1779,\n",
       " 1652,\n",
       " 1652,\n",
       " 99,\n",
       " 1522,\n",
       " 1777,\n",
       " 1443,\n",
       " 1529,\n",
       " 781,\n",
       " 781,\n",
       " 342,\n",
       " 463,\n",
       " 328,\n",
       " 328,\n",
       " 1654,\n",
       " 143,\n",
       " 1500,\n",
       " 72,\n",
       " 1810,\n",
       " 1498,\n",
       " 2160,\n",
       " 118,\n",
       " 1330,\n",
       " 1650,\n",
       " 998,\n",
       " 1259,\n",
       " 2112,\n",
       " 2112,\n",
       " 1734,\n",
       " 991,\n",
       " 1709,\n",
       " 1989,\n",
       " 1639,\n",
       " 1184,\n",
       " 1184,\n",
       " 1922,\n",
       " 1922,\n",
       " 2039,\n",
       " 2257,\n",
       " 1612,\n",
       " 1823,\n",
       " 978,\n",
       " 978,\n",
       " 978,\n",
       " 57,\n",
       " 242,\n",
       " 2000,\n",
       " 1928,\n",
       " 2635,\n",
       " 1707,\n",
       " 1311,\n",
       " 2007,\n",
       " 1638,\n",
       " 975,\n",
       " 975,\n",
       " 2682,\n",
       " 2092,\n",
       " 2039,\n",
       " 1758,\n",
       " 1692,\n",
       " 2003,\n",
       " 1351,\n",
       " 1126,\n",
       " 1745,\n",
       " 769,\n",
       " 1123,\n",
       " 1400,\n",
       " 1615,\n",
       " 892,\n",
       " 892,\n",
       " 1741,\n",
       " 1859,\n",
       " 1459,\n",
       " 1459,\n",
       " 1417,\n",
       " 1096,\n",
       " 1956,\n",
       " 36,\n",
       " 1629,\n",
       " 1440,\n",
       " 900,\n",
       " 1189,\n",
       " 1878,\n",
       " 1864,\n",
       " 1749,\n",
       " 1747,\n",
       " 570,\n",
       " 1271,\n",
       " 1082,\n",
       " 1845,\n",
       " 52,\n",
       " 66,\n",
       " 2142,\n",
       " 1069,\n",
       " 100,\n",
       " 1694,\n",
       " 1821,\n",
       " 1866,\n",
       " 1243,\n",
       " 2000,\n",
       " 1212,\n",
       " 1664,\n",
       " 1637,\n",
       " 728,\n",
       " 1284,\n",
       " 1036,\n",
       " 65,\n",
       " 2008,\n",
       " 1637,\n",
       " 188,\n",
       " 1626,\n",
       " 1907,\n",
       " 2053,\n",
       " 1557,\n",
       " 1557,\n",
       " 1107,\n",
       " 1299,\n",
       " 1914,\n",
       " 1718,\n",
       " 1066,\n",
       " 1172,\n",
       " 1895,\n",
       " 2044,\n",
       " 1780,\n",
       " 734,\n",
       " 2041,\n",
       " 128,\n",
       " 63,\n",
       " 2314,\n",
       " 1868,\n",
       " 1372,\n",
       " 2003,\n",
       " 1225,\n",
       " 785,\n",
       " 1436,\n",
       " 661,\n",
       " 2214,\n",
       " 1142,\n",
       " 2156,\n",
       " 336,\n",
       " 1558,\n",
       " 2014,\n",
       " 1162,\n",
       " 1900,\n",
       " 1575,\n",
       " 549,\n",
       " 1941,\n",
       " 1485,\n",
       " 58,\n",
       " 1674,\n",
       " 1484,\n",
       " 1901,\n",
       " 1562,\n",
       " 1628,\n",
       " 844,\n",
       " 1667,\n",
       " 1232,\n",
       " 79,\n",
       " 1875,\n",
       " 963,\n",
       " 979,\n",
       " 1940,\n",
       " 2078,\n",
       " 1857,\n",
       " 954,\n",
       " 954,\n",
       " 94,\n",
       " 819,\n",
       " 3,\n",
       " 98,\n",
       " 1903,\n",
       " 1510,\n",
       " 1733,\n",
       " 2334,\n",
       " 766,\n",
       " 1091,\n",
       " 1844,\n",
       " 1954,\n",
       " 1837,\n",
       " 215,\n",
       " 1335,\n",
       " 1592,\n",
       " 1614,\n",
       " 194,\n",
       " 17,\n",
       " 2187,\n",
       " 1255,\n",
       " 1255,\n",
       " 2023,\n",
       " 2023,\n",
       " 2236,\n",
       " 1881,\n",
       " 2236,\n",
       " 1881,\n",
       " 1420,\n",
       " 592,\n",
       " 1045,\n",
       " 1779,\n",
       " 1779,\n",
       " 1487,\n",
       " 1487,\n",
       " 1487,\n",
       " 1487,\n",
       " 1487,\n",
       " 1988,\n",
       " 1646,\n",
       " 1627,\n",
       " 64,\n",
       " 64,\n",
       " 1566,\n",
       " 1089,\n",
       " 1644,\n",
       " 417,\n",
       " 91,\n",
       " 1277,\n",
       " 2010,\n",
       " 1883,\n",
       " 1108,\n",
       " 1108,\n",
       " 1193,\n",
       " 797,\n",
       " 23,\n",
       " 176,\n",
       " 542,\n",
       " 2021,\n",
       " 894,\n",
       " 894,\n",
       " 894,\n",
       " 1837,\n",
       " 1383,\n",
       " 2930,\n",
       " 1697,\n",
       " 612,\n",
       " 751,\n",
       " 1180,\n",
       " 1476,\n",
       " 29,\n",
       " 1376,\n",
       " 1196,\n",
       " 62,\n",
       " 1924,\n",
       " 671,\n",
       " 1463,\n",
       " 1757,\n",
       " 1757,\n",
       " 235,\n",
       " 542,\n",
       " 710,\n",
       " 430,\n",
       " 751,\n",
       " 764,\n",
       " 1803,\n",
       " 1270,\n",
       " 1486,\n",
       " 572,\n",
       " 259,\n",
       " 1,\n",
       " 1378,\n",
       " 1378,\n",
       " 1569,\n",
       " 138,\n",
       " 508,\n",
       " 508,\n",
       " 508,\n",
       " 1077,\n",
       " 12,\n",
       " 1344,\n",
       " 1344,\n",
       " 518,\n",
       " 518,\n",
       " 518,\n",
       " 518,\n",
       " 409,\n",
       " 1976,\n",
       " 2099,\n",
       " 1601,\n",
       " 1601,\n",
       " 1939,\n",
       " 1206,\n",
       " 614,\n",
       " 1016,\n",
       " 855,\n",
       " 467,\n",
       " 1055,\n",
       " 2130,\n",
       " 2130,\n",
       " 2130,\n",
       " 2130,\n",
       " 2130,\n",
       " 2130,\n",
       " 2130,\n",
       " 1567,\n",
       " 1567,\n",
       " 991,\n",
       " 1821,\n",
       " 1821,\n",
       " 1821,\n",
       " 1821,\n",
       " 1821,\n",
       " 1594,\n",
       " 1821,\n",
       " 377,\n",
       " 1312,\n",
       " 1312,\n",
       " 1926,\n",
       " 1936,\n",
       " 616,\n",
       " 616,\n",
       " 616,\n",
       " 1356,\n",
       " 865,\n",
       " 968,\n",
       " 1615,\n",
       " 1650,\n",
       " 1650,\n",
       " 1568,\n",
       " 1564,\n",
       " 1564,\n",
       " 1420,\n",
       " 1730,\n",
       " 2017,\n",
       " 825,\n",
       " 825,\n",
       " 1955,\n",
       " 1263,\n",
       " 1263,\n",
       " 1067,\n",
       " 457,\n",
       " 1067,\n",
       " 425,\n",
       " 213,\n",
       " 1165,\n",
       " 1402,\n",
       " 1757,\n",
       " 1757,\n",
       " 1462,\n",
       " 1058,\n",
       " 1638,\n",
       " 1638,\n",
       " 1709,\n",
       " 1709,\n",
       " 1709,\n",
       " 2048,\n",
       " 1574,\n",
       " 531,\n",
       " 1676,\n",
       " 1488,\n",
       " 1820,\n",
       " 2125,\n",
       " 226,\n",
       " 226,\n",
       " 226,\n",
       " 2200,\n",
       " 1818,\n",
       " 1445,\n",
       " 1769,\n",
       " 1668,\n",
       " 1668,\n",
       " 1668,\n",
       " 1668,\n",
       " 1987,\n",
       " 1987,\n",
       " 1987,\n",
       " 1692,\n",
       " 1692]"
      ]
     },
     "execution_count": 151,
     "metadata": {},
     "output_type": "execute_result"
    }
   ],
   "source": [
    "elev_list2"
   ]
  },
  {
   "cell_type": "code",
   "execution_count": 152,
   "metadata": {},
   "outputs": [],
   "source": [
    "df_cdrelev = pd.DataFrame({'elevation':elev_list2})\n"
   ]
  },
  {
   "cell_type": "code",
   "execution_count": 164,
   "metadata": {},
   "outputs": [],
   "source": [
    "df_cdrelev['count'] = df_cdrelev.index"
   ]
  },
  {
   "cell_type": "code",
   "execution_count": 165,
   "metadata": {},
   "outputs": [
    {
     "data": {
      "text/html": [
       "<div>\n",
       "<style scoped>\n",
       "    .dataframe tbody tr th:only-of-type {\n",
       "        vertical-align: middle;\n",
       "    }\n",
       "\n",
       "    .dataframe tbody tr th {\n",
       "        vertical-align: top;\n",
       "    }\n",
       "\n",
       "    .dataframe thead th {\n",
       "        text-align: right;\n",
       "    }\n",
       "</style>\n",
       "<table border=\"1\" class=\"dataframe\">\n",
       "  <thead>\n",
       "    <tr style=\"text-align: right;\">\n",
       "      <th></th>\n",
       "      <th>elevation</th>\n",
       "      <th>count</th>\n",
       "    </tr>\n",
       "  </thead>\n",
       "  <tbody>\n",
       "    <tr>\n",
       "      <th>0</th>\n",
       "      <td>2053</td>\n",
       "      <td>0</td>\n",
       "    </tr>\n",
       "    <tr>\n",
       "      <th>1</th>\n",
       "      <td>836</td>\n",
       "      <td>1</td>\n",
       "    </tr>\n",
       "    <tr>\n",
       "      <th>2</th>\n",
       "      <td>634</td>\n",
       "      <td>2</td>\n",
       "    </tr>\n",
       "    <tr>\n",
       "      <th>3</th>\n",
       "      <td>799</td>\n",
       "      <td>3</td>\n",
       "    </tr>\n",
       "    <tr>\n",
       "      <th>4</th>\n",
       "      <td>348</td>\n",
       "      <td>4</td>\n",
       "    </tr>\n",
       "    <tr>\n",
       "      <th>...</th>\n",
       "      <td>...</td>\n",
       "      <td>...</td>\n",
       "    </tr>\n",
       "    <tr>\n",
       "      <th>611</th>\n",
       "      <td>1987</td>\n",
       "      <td>611</td>\n",
       "    </tr>\n",
       "    <tr>\n",
       "      <th>612</th>\n",
       "      <td>1987</td>\n",
       "      <td>612</td>\n",
       "    </tr>\n",
       "    <tr>\n",
       "      <th>613</th>\n",
       "      <td>1987</td>\n",
       "      <td>613</td>\n",
       "    </tr>\n",
       "    <tr>\n",
       "      <th>614</th>\n",
       "      <td>1692</td>\n",
       "      <td>614</td>\n",
       "    </tr>\n",
       "    <tr>\n",
       "      <th>615</th>\n",
       "      <td>1692</td>\n",
       "      <td>615</td>\n",
       "    </tr>\n",
       "  </tbody>\n",
       "</table>\n",
       "<p>616 rows × 2 columns</p>\n",
       "</div>"
      ],
      "text/plain": [
       "     elevation  count\n",
       "0         2053      0\n",
       "1          836      1\n",
       "2          634      2\n",
       "3          799      3\n",
       "4          348      4\n",
       "..         ...    ...\n",
       "611       1987    611\n",
       "612       1987    612\n",
       "613       1987    613\n",
       "614       1692    614\n",
       "615       1692    615\n",
       "\n",
       "[616 rows x 2 columns]"
      ]
     },
     "execution_count": 165,
     "metadata": {},
     "output_type": "execute_result"
    }
   ],
   "source": [
    "df_cdrelev"
   ]
  },
  {
   "cell_type": "code",
   "execution_count": 166,
   "metadata": {},
   "outputs": [
    {
     "data": {
      "text/plain": [
       "[<matplotlib.lines.Line2D at 0x1a9abac0b20>]"
      ]
     },
     "execution_count": 166,
     "metadata": {},
     "output_type": "execute_result"
    },
    {
     "data": {
      "image/png": "[encoded data removed]",
      "text/plain": [
       "<Figure size 432x288 with 1 Axes>"
      ]
     },
     "metadata": {
      "needs_background": "light"
     },
     "output_type": "display_data"
    }
   ],
   "source": [
    "x = df_cdrelev['count']\n",
    "plt.plot(df_cdrelev['count'], df_cdrelev['elevation'], 'o')\n",
    "m, b = np.polyfit(df_cdrelev['count'], df_cdrelev['elevation'], 1)\n",
    "plt.title('Incense Cedar temporal elevation regression')\n",
    "plt.xlabel('temporal sort: 1892-2010')\n",
    "plt.ylabel('elevation in meters')\n",
    "plt.plot(x, m*x+b)"
   ]
  },
  {
   "cell_type": "code",
   "execution_count": 167,
   "metadata": {},
   "outputs": [
    {
     "data": {
      "text/plain": [
       "1167.1876486560443"
      ]
     },
     "execution_count": 167,
     "metadata": {},
     "output_type": "execute_result"
    }
   ],
   "source": [
    "b"
   ]
  },
  {
   "cell_type": "code",
   "execution_count": 168,
   "metadata": {},
   "outputs": [
    {
     "data": {
      "text/plain": [
       "1357.364586632879"
      ]
     },
     "execution_count": 168,
     "metadata": {},
     "output_type": "execute_result"
    }
   ],
   "source": [
    "m*616 + b"
   ]
  },
  {
   "cell_type": "code",
   "execution_count": 169,
   "metadata": {},
   "outputs": [
    {
     "data": {
      "text/plain": [
       "[<matplotlib.lines.Line2D at 0x1a9ad05c820>]"
      ]
     },
     "execution_count": 169,
     "metadata": {},
     "output_type": "execute_result"
    },
    {
     "data": {
      "image/png": "[encoded data removed]",
      "text/plain": [
       "<Figure size 432x288 with 1 Axes>"
      ]
     },
     "metadata": {
      "needs_background": "light"
     },
     "output_type": "display_data"
    }
   ],
   "source": [
    "x = sorted_dfcdryr['year']\n",
    "plt.plot(sorted_dfcdryr['year'], sorted_dfcdryr['decimalLatitude'], 'o')\n",
    "m, b = np.polyfit(sorted_dfcdryr['year'], sorted_dfcdryr['decimalLatitude'], 1)\n",
    "plt.title('Incense Cedar temporal latitude regression')\n",
    "plt.xlabel('year')\n",
    "plt.ylabel('latitude')\n",
    "plt.plot(x, m*x+b)"
   ]
  },
  {
   "cell_type": "code",
   "execution_count": 170,
   "metadata": {},
   "outputs": [
    {
     "data": {
      "text/plain": [
       "39.91430468558922"
      ]
     },
     "execution_count": 170,
     "metadata": {},
     "output_type": "execute_result"
    }
   ],
   "source": [
    "m*1892 + b"
   ]
  },
  {
   "cell_type": "code",
   "execution_count": 171,
   "metadata": {},
   "outputs": [
    {
     "data": {
      "text/plain": [
       "37.42074715637242"
      ]
     },
     "execution_count": 171,
     "metadata": {},
     "output_type": "execute_result"
    }
   ],
   "source": [
    "m*2010 + b"
   ]
  },
  {
   "cell_type": "code",
   "execution_count": 172,
   "metadata": {},
   "outputs": [
    {
     "data": {
      "text/plain": [
       "[<matplotlib.lines.Line2D at 0x1a9ad0b9400>]"
      ]
     },
     "execution_count": 172,
     "metadata": {},
     "output_type": "execute_result"
    },
    {
     "data": {
      "image/png": "[encoded data removed]",
      "text/plain": [
       "<Figure size 432x288 with 1 Axes>"
      ]
     },
     "metadata": {
      "needs_background": "light"
     },
     "output_type": "display_data"
    }
   ],
   "source": [
    "x = sorted_dfcdryr['decimalLatitude']\n",
    "plt.plot(sorted_dfcdryr['decimalLatitude'], df_cdrelev['elevation'], 'o')\n",
    "m, b = np.polyfit(sorted_dfcdryr['decimalLatitude'], df_cdrelev['elevation'], 1)\n",
    "plt.title('Incense Cedar elevation-latitude regression')\n",
    "plt.xlabel('latitude')\n",
    "plt.ylabel('elevation in meters')\n",
    "plt.plot(x, m*x+b)"
   ]
  },
  {
   "cell_type": "code",
   "execution_count": 173,
   "metadata": {},
   "outputs": [
    {
     "data": {
      "text/plain": [
       "1371.0959408810395"
      ]
     },
     "execution_count": 173,
     "metadata": {},
     "output_type": "execute_result"
    }
   ],
   "source": [
    "m*37 + b"
   ]
  },
  {
   "cell_type": "code",
   "execution_count": 174,
   "metadata": {},
   "outputs": [
    {
     "data": {
      "text/plain": [
       "630.7415015900879"
      ]
     },
     "execution_count": 174,
     "metadata": {},
     "output_type": "execute_result"
    }
   ],
   "source": [
    "m*47 + b"
   ]
  },
  {
   "cell_type": "markdown",
   "metadata": {},
   "source": [
    "Thus far we have been performing analysis through proxies of temperature change (altitude, latitude) and here we will attempt a more direct one.  The USDA utilizes a Plant Hardiness Zone system for mapping climatic conditions suitable for plant growth.  The zones are based on average annual winter extremes.\n",
    "\n"
   ]
  },
  {
   "cell_type": "code",
   "execution_count": 21,
   "metadata": {},
   "outputs": [
    {
     "data": {
      "text/html": [
       "<img src=\"https://planthardiness.ars.usda.gov/PHZMWeb/images/72dpi/all_states_halfzones_title_legend_logos_72dpi.jpg\"/>"
      ],
      "text/plain": [
       "<IPython.core.display.Image object>"
      ]
     },
     "execution_count": 21,
     "metadata": {},
     "output_type": "execute_result"
    }
   ],
   "source": [
    "from IPython.display import Image\n",
    "from IPython.core.display import HTML \n",
    "Image(url= \"https://planthardiness.ars.usda.gov/PHZMWeb/images/72dpi/all_states_halfzones_title_legend_logos_72dpi.jpg\")"
   ]
  },
  {
   "cell_type": "markdown",
   "metadata": {},
   "source": [
    "I will import the geopandas library in order to read in a file which contains coordinate data of the different zone regions for the continental US."
   ]
  },
  {
   "cell_type": "code",
   "execution_count": 1,
   "metadata": {},
   "outputs": [
    {
     "data": {
      "text/html": [
       "<div>\n",
       "<style scoped>\n",
       "    .dataframe tbody tr th:only-of-type {\n",
       "        vertical-align: middle;\n",
       "    }\n",
       "\n",
       "    .dataframe tbody tr th {\n",
       "        vertical-align: top;\n",
       "    }\n",
       "\n",
       "    .dataframe thead th {\n",
       "        text-align: right;\n",
       "    }\n",
       "</style>\n",
       "<table border=\"1\" class=\"dataframe\">\n",
       "  <thead>\n",
       "    <tr style=\"text-align: right;\">\n",
       "      <th></th>\n",
       "      <th>ID</th>\n",
       "      <th>GRIDCODE</th>\n",
       "      <th>ZONE</th>\n",
       "      <th>geometry</th>\n",
       "    </tr>\n",
       "  </thead>\n",
       "  <tbody>\n",
       "    <tr>\n",
       "      <th>0</th>\n",
       "      <td>1</td>\n",
       "      <td>14</td>\n",
       "      <td>7b: 5 to 10 F</td>\n",
       "      <td>POLYGON ((-121.59583 49.07917, -121.59583 49.0...</td>\n",
       "    </tr>\n",
       "    <tr>\n",
       "      <th>1</th>\n",
       "      <td>2</td>\n",
       "      <td>12</td>\n",
       "      <td>6b: -5 to 0 F</td>\n",
       "      <td>POLYGON ((-121.54583 49.07917, -121.55417 49.0...</td>\n",
       "    </tr>\n",
       "    <tr>\n",
       "      <th>2</th>\n",
       "      <td>3</td>\n",
       "      <td>12</td>\n",
       "      <td>6b: -5 to 0 F</td>\n",
       "      <td>POLYGON ((-121.50417 49.07917, -121.51250 49.0...</td>\n",
       "    </tr>\n",
       "    <tr>\n",
       "      <th>3</th>\n",
       "      <td>4</td>\n",
       "      <td>12</td>\n",
       "      <td>6b: -5 to 0 F</td>\n",
       "      <td>POLYGON ((-121.47917 49.08750, -121.47083 49.0...</td>\n",
       "    </tr>\n",
       "    <tr>\n",
       "      <th>4</th>\n",
       "      <td>5</td>\n",
       "      <td>11</td>\n",
       "      <td>6a: -10 to -5 F</td>\n",
       "      <td>POLYGON ((-121.39583 49.07917, -121.39583 49.0...</td>\n",
       "    </tr>\n",
       "    <tr>\n",
       "      <th>...</th>\n",
       "      <td>...</td>\n",
       "      <td>...</td>\n",
       "      <td>...</td>\n",
       "      <td>...</td>\n",
       "    </tr>\n",
       "    <tr>\n",
       "      <th>97156</th>\n",
       "      <td>97157</td>\n",
       "      <td>21</td>\n",
       "      <td>11a: 40 to 45 F</td>\n",
       "      <td>POLYGON ((-81.02917 24.65417, -81.02917 24.662...</td>\n",
       "    </tr>\n",
       "    <tr>\n",
       "      <th>97157</th>\n",
       "      <td>97158</td>\n",
       "      <td>21</td>\n",
       "      <td>11a: 40 to 45 F</td>\n",
       "      <td>POLYGON ((-82.87083 24.54583, -82.92083 24.545...</td>\n",
       "    </tr>\n",
       "    <tr>\n",
       "      <th>97158</th>\n",
       "      <td>97159</td>\n",
       "      <td>22</td>\n",
       "      <td>11b: 45 to 50 F</td>\n",
       "      <td>POLYGON ((-82.00417 24.52917, -82.01250 24.529...</td>\n",
       "    </tr>\n",
       "    <tr>\n",
       "      <th>97159</th>\n",
       "      <td>97160</td>\n",
       "      <td>22</td>\n",
       "      <td>11b: 45 to 50 F</td>\n",
       "      <td>POLYGON ((-81.10417 24.78750, -81.10417 24.770...</td>\n",
       "    </tr>\n",
       "    <tr>\n",
       "      <th>97160</th>\n",
       "      <td>97161</td>\n",
       "      <td>22</td>\n",
       "      <td>11b: 45 to 50 F</td>\n",
       "      <td>POLYGON ((-82.12083 24.46250, -82.17083 24.462...</td>\n",
       "    </tr>\n",
       "  </tbody>\n",
       "</table>\n",
       "<p>97161 rows × 4 columns</p>\n",
       "</div>"
      ],
      "text/plain": [
       "          ID  GRIDCODE             ZONE  \\\n",
       "0          1        14    7b: 5 to 10 F   \n",
       "1          2        12    6b: -5 to 0 F   \n",
       "2          3        12    6b: -5 to 0 F   \n",
       "3          4        12    6b: -5 to 0 F   \n",
       "4          5        11  6a: -10 to -5 F   \n",
       "...      ...       ...              ...   \n",
       "97156  97157        21  11a: 40 to 45 F   \n",
       "97157  97158        21  11a: 40 to 45 F   \n",
       "97158  97159        22  11b: 45 to 50 F   \n",
       "97159  97160        22  11b: 45 to 50 F   \n",
       "97160  97161        22  11b: 45 to 50 F   \n",
       "\n",
       "                                                geometry  \n",
       "0      POLYGON ((-121.59583 49.07917, -121.59583 49.0...  \n",
       "1      POLYGON ((-121.54583 49.07917, -121.55417 49.0...  \n",
       "2      POLYGON ((-121.50417 49.07917, -121.51250 49.0...  \n",
       "3      POLYGON ((-121.47917 49.08750, -121.47083 49.0...  \n",
       "4      POLYGON ((-121.39583 49.07917, -121.39583 49.0...  \n",
       "...                                                  ...  \n",
       "97156  POLYGON ((-81.02917 24.65417, -81.02917 24.662...  \n",
       "97157  POLYGON ((-82.87083 24.54583, -82.92083 24.545...  \n",
       "97158  POLYGON ((-82.00417 24.52917, -82.01250 24.529...  \n",
       "97159  POLYGON ((-81.10417 24.78750, -81.10417 24.770...  \n",
       "97160  POLYGON ((-82.12083 24.46250, -82.17083 24.462...  \n",
       "\n",
       "[97161 rows x 4 columns]"
      ]
     },
     "execution_count": 1,
     "metadata": {},
     "output_type": "execute_result"
    }
   ],
   "source": [
    "import geopandas as gpd\n",
    "\n",
    "phzm = gpd.read_file('zip://Downloads/phm_us_shp.zip')\n",
    "\n",
    "phzm"
   ]
  },
  {
   "cell_type": "markdown",
   "metadata": {},
   "source": [
    "I will convert the cedar pandas dataframe into a geopandas dataframe which will then allow for a spatial join, synchronizing the locations of the Incense Cedar occurrences with the appropriate locations from the Plant Hardiness Zone file, allowing us to link a particular occurrence to a certain zone."
   ]
  },
  {
   "cell_type": "code",
   "execution_count": 5,
   "metadata": {},
   "outputs": [
    {
     "data": {
      "text/html": [
       "<div>\n",
       "<style scoped>\n",
       "    .dataframe tbody tr th:only-of-type {\n",
       "        vertical-align: middle;\n",
       "    }\n",
       "\n",
       "    .dataframe tbody tr th {\n",
       "        vertical-align: top;\n",
       "    }\n",
       "\n",
       "    .dataframe thead th {\n",
       "        text-align: right;\n",
       "    }\n",
       "</style>\n",
       "<table border=\"1\" class=\"dataframe\">\n",
       "  <thead>\n",
       "    <tr style=\"text-align: right;\">\n",
       "      <th></th>\n",
       "      <th>genus</th>\n",
       "      <th>species</th>\n",
       "      <th>infraspecificEpithet</th>\n",
       "      <th>scientificName</th>\n",
       "      <th>locality</th>\n",
       "      <th>stateProvince</th>\n",
       "      <th>decimalLatitude</th>\n",
       "      <th>decimalLongitude</th>\n",
       "      <th>eventDate</th>\n",
       "      <th>year</th>\n",
       "      <th>taxonKey</th>\n",
       "      <th>geometry</th>\n",
       "      <th>index_right</th>\n",
       "      <th>ID</th>\n",
       "      <th>GRIDCODE</th>\n",
       "      <th>ZONE</th>\n",
       "    </tr>\n",
       "  </thead>\n",
       "  <tbody>\n",
       "    <tr>\n",
       "      <th>0</th>\n",
       "      <td>Calocedrus</td>\n",
       "      <td>Calocedrus decurrens</td>\n",
       "      <td>NaN</td>\n",
       "      <td>Libocedrus decurrens Torr.</td>\n",
       "      <td>Lando</td>\n",
       "      <td>South Carolina</td>\n",
       "      <td>34.800806</td>\n",
       "      <td>-81.067194</td>\n",
       "      <td>1992-04-03T00:00:00</td>\n",
       "      <td>1992</td>\n",
       "      <td>2683938</td>\n",
       "      <td>POINT (-81.06719 34.80081)</td>\n",
       "      <td>96594</td>\n",
       "      <td>96595</td>\n",
       "      <td>14</td>\n",
       "      <td>7b: 5 to 10 F</td>\n",
       "    </tr>\n",
       "    <tr>\n",
       "      <th>1</th>\n",
       "      <td>Calocedrus</td>\n",
       "      <td>Calocedrus decurrens</td>\n",
       "      <td>NaN</td>\n",
       "      <td>Calocedrus decurrens (Torr.) Florin</td>\n",
       "      <td>Memphis</td>\n",
       "      <td>Tennessee</td>\n",
       "      <td>35.126090</td>\n",
       "      <td>-89.983685</td>\n",
       "      <td>1981-04-07T00:00:00</td>\n",
       "      <td>1981</td>\n",
       "      <td>2683936</td>\n",
       "      <td>POINT (-89.98368 35.12609)</td>\n",
       "      <td>96594</td>\n",
       "      <td>96595</td>\n",
       "      <td>14</td>\n",
       "      <td>7b: 5 to 10 F</td>\n",
       "    </tr>\n",
       "    <tr>\n",
       "      <th>6</th>\n",
       "      <td>Calocedrus</td>\n",
       "      <td>Calocedrus decurrens</td>\n",
       "      <td>NaN</td>\n",
       "      <td>Calocedrus decurrens (Torr.) Florin</td>\n",
       "      <td>Rock Creek Park Cemetery, Rock Creek Church Ro...</td>\n",
       "      <td>District of Columbia</td>\n",
       "      <td>38.899556</td>\n",
       "      <td>-77.057200</td>\n",
       "      <td>1981-06-10T00:00:00</td>\n",
       "      <td>1981</td>\n",
       "      <td>2683936</td>\n",
       "      <td>POINT (-77.05720 38.89956)</td>\n",
       "      <td>96594</td>\n",
       "      <td>96595</td>\n",
       "      <td>14</td>\n",
       "      <td>7b: 5 to 10 F</td>\n",
       "    </tr>\n",
       "    <tr>\n",
       "      <th>437</th>\n",
       "      <td>Calocedrus</td>\n",
       "      <td>Calocedrus decurrens</td>\n",
       "      <td>NaN</td>\n",
       "      <td>Libocedrus decurrens Torr.</td>\n",
       "      <td>U.N.C. [University of North Carolina at Chapel...</td>\n",
       "      <td>North Carolina</td>\n",
       "      <td>35.910144</td>\n",
       "      <td>-79.048622</td>\n",
       "      <td>1957-06-11T00:00:00</td>\n",
       "      <td>1957</td>\n",
       "      <td>2683938</td>\n",
       "      <td>POINT (-79.04862 35.91014)</td>\n",
       "      <td>96594</td>\n",
       "      <td>96595</td>\n",
       "      <td>14</td>\n",
       "      <td>7b: 5 to 10 F</td>\n",
       "    </tr>\n",
       "    <tr>\n",
       "      <th>438</th>\n",
       "      <td>Calocedrus</td>\n",
       "      <td>Calocedrus decurrens</td>\n",
       "      <td>NaN</td>\n",
       "      <td>Libocedrus decurrens Torr.</td>\n",
       "      <td>Arboretum, U.N.C. [University of North Carolin...</td>\n",
       "      <td>North Carolina</td>\n",
       "      <td>35.913721</td>\n",
       "      <td>-79.048978</td>\n",
       "      <td>1917-03-19T00:00:00</td>\n",
       "      <td>1917</td>\n",
       "      <td>2683938</td>\n",
       "      <td>POINT (-79.04898 35.91372)</td>\n",
       "      <td>96594</td>\n",
       "      <td>96595</td>\n",
       "      <td>14</td>\n",
       "      <td>7b: 5 to 10 F</td>\n",
       "    </tr>\n",
       "    <tr>\n",
       "      <th>...</th>\n",
       "      <td>...</td>\n",
       "      <td>...</td>\n",
       "      <td>...</td>\n",
       "      <td>...</td>\n",
       "      <td>...</td>\n",
       "      <td>...</td>\n",
       "      <td>...</td>\n",
       "      <td>...</td>\n",
       "      <td>...</td>\n",
       "      <td>...</td>\n",
       "      <td>...</td>\n",
       "      <td>...</td>\n",
       "      <td>...</td>\n",
       "      <td>...</td>\n",
       "      <td>...</td>\n",
       "      <td>...</td>\n",
       "    </tr>\n",
       "    <tr>\n",
       "      <th>508</th>\n",
       "      <td>Calocedrus</td>\n",
       "      <td>Calocedrus decurrens</td>\n",
       "      <td>NaN</td>\n",
       "      <td>Calocedrus decurrens (Torr.) Florin</td>\n",
       "      <td>Salmon Mountains, Klamath National Forest. Nea...</td>\n",
       "      <td>California</td>\n",
       "      <td>41.050000</td>\n",
       "      <td>-122.966667</td>\n",
       "      <td>1954-05-01T00:00:00</td>\n",
       "      <td>1954</td>\n",
       "      <td>2683936</td>\n",
       "      <td>POINT (-122.96667 41.05000)</td>\n",
       "      <td>48283</td>\n",
       "      <td>48284</td>\n",
       "      <td>14</td>\n",
       "      <td>7b: 5 to 10 F</td>\n",
       "    </tr>\n",
       "    <tr>\n",
       "      <th>519</th>\n",
       "      <td>Calocedrus</td>\n",
       "      <td>Calocedrus decurrens</td>\n",
       "      <td>NaN</td>\n",
       "      <td>Calocedrus decurrens (Torr.) Florin</td>\n",
       "      <td>Between Sonora Pass and the Dardanelles along ...</td>\n",
       "      <td>California</td>\n",
       "      <td>38.316667</td>\n",
       "      <td>-119.666667</td>\n",
       "      <td>1961-09-01T00:00:00</td>\n",
       "      <td>1961</td>\n",
       "      <td>2683936</td>\n",
       "      <td>POINT (-119.66667 38.31667)</td>\n",
       "      <td>74947</td>\n",
       "      <td>74948</td>\n",
       "      <td>11</td>\n",
       "      <td>6a: -10 to -5 F</td>\n",
       "    </tr>\n",
       "    <tr>\n",
       "      <th>554</th>\n",
       "      <td>Calocedrus</td>\n",
       "      <td>Calocedrus decurrens</td>\n",
       "      <td>NaN</td>\n",
       "      <td>Calocedrus decurrens (Torr.) Florin</td>\n",
       "      <td>NaN</td>\n",
       "      <td>NaN</td>\n",
       "      <td>42.350000</td>\n",
       "      <td>-123.580000</td>\n",
       "      <td>1928-06-08T00:00:00</td>\n",
       "      <td>1928</td>\n",
       "      <td>2683936</td>\n",
       "      <td>POINT (-123.58000 42.35000)</td>\n",
       "      <td>40362</td>\n",
       "      <td>40363</td>\n",
       "      <td>15</td>\n",
       "      <td>8a: 10 to 15 F</td>\n",
       "    </tr>\n",
       "    <tr>\n",
       "      <th>580</th>\n",
       "      <td>Calocedrus</td>\n",
       "      <td>Calocedrus decurrens</td>\n",
       "      <td>NaN</td>\n",
       "      <td>Calocedrus decurrens (Torr.) Florin</td>\n",
       "      <td>2 mi. NW of Capir Ranger Sta., Ochoco Forest.</td>\n",
       "      <td>Oregon</td>\n",
       "      <td>44.376400</td>\n",
       "      <td>-120.116700</td>\n",
       "      <td>1947-07-03T00:00:00</td>\n",
       "      <td>1947</td>\n",
       "      <td>2683936</td>\n",
       "      <td>POINT (-120.11670 44.37640)</td>\n",
       "      <td>27996</td>\n",
       "      <td>27997</td>\n",
       "      <td>10</td>\n",
       "      <td>5b: -15 to -10 F</td>\n",
       "    </tr>\n",
       "    <tr>\n",
       "      <th>606</th>\n",
       "      <td>Calocedrus</td>\n",
       "      <td>Calocedrus decurrens</td>\n",
       "      <td>NaN</td>\n",
       "      <td>Calocedrus decurrens (Torr.) Florin</td>\n",
       "      <td>edge of Fremont Nat. Forest.</td>\n",
       "      <td>Oregon</td>\n",
       "      <td>42.937500</td>\n",
       "      <td>-121.312500</td>\n",
       "      <td>1928-06-23T00:00:00</td>\n",
       "      <td>1928</td>\n",
       "      <td>2683936</td>\n",
       "      <td>POINT (-121.31250 42.93750)</td>\n",
       "      <td>37292</td>\n",
       "      <td>37293</td>\n",
       "      <td>12</td>\n",
       "      <td>6b: -5 to 0 F</td>\n",
       "    </tr>\n",
       "  </tbody>\n",
       "</table>\n",
       "<p>616 rows × 16 columns</p>\n",
       "</div>"
      ],
      "text/plain": [
       "          genus               species  infraspecificEpithet  \\\n",
       "0    Calocedrus  Calocedrus decurrens                   NaN   \n",
       "1    Calocedrus  Calocedrus decurrens                   NaN   \n",
       "6    Calocedrus  Calocedrus decurrens                   NaN   \n",
       "437  Calocedrus  Calocedrus decurrens                   NaN   \n",
       "438  Calocedrus  Calocedrus decurrens                   NaN   \n",
       "..          ...                   ...                   ...   \n",
       "508  Calocedrus  Calocedrus decurrens                   NaN   \n",
       "519  Calocedrus  Calocedrus decurrens                   NaN   \n",
       "554  Calocedrus  Calocedrus decurrens                   NaN   \n",
       "580  Calocedrus  Calocedrus decurrens                   NaN   \n",
       "606  Calocedrus  Calocedrus decurrens                   NaN   \n",
       "\n",
       "                          scientificName  \\\n",
       "0             Libocedrus decurrens Torr.   \n",
       "1    Calocedrus decurrens (Torr.) Florin   \n",
       "6    Calocedrus decurrens (Torr.) Florin   \n",
       "437           Libocedrus decurrens Torr.   \n",
       "438           Libocedrus decurrens Torr.   \n",
       "..                                   ...   \n",
       "508  Calocedrus decurrens (Torr.) Florin   \n",
       "519  Calocedrus decurrens (Torr.) Florin   \n",
       "554  Calocedrus decurrens (Torr.) Florin   \n",
       "580  Calocedrus decurrens (Torr.) Florin   \n",
       "606  Calocedrus decurrens (Torr.) Florin   \n",
       "\n",
       "                                              locality         stateProvince  \\\n",
       "0                                                Lando        South Carolina   \n",
       "1                                              Memphis             Tennessee   \n",
       "6    Rock Creek Park Cemetery, Rock Creek Church Ro...  District of Columbia   \n",
       "437  U.N.C. [University of North Carolina at Chapel...        North Carolina   \n",
       "438  Arboretum, U.N.C. [University of North Carolin...        North Carolina   \n",
       "..                                                 ...                   ...   \n",
       "508  Salmon Mountains, Klamath National Forest. Nea...            California   \n",
       "519  Between Sonora Pass and the Dardanelles along ...            California   \n",
       "554                                                NaN                   NaN   \n",
       "580      2 mi. NW of Capir Ranger Sta., Ochoco Forest.                Oregon   \n",
       "606                       edge of Fremont Nat. Forest.                Oregon   \n",
       "\n",
       "     decimalLatitude  decimalLongitude            eventDate  year  taxonKey  \\\n",
       "0          34.800806        -81.067194  1992-04-03T00:00:00  1992   2683938   \n",
       "1          35.126090        -89.983685  1981-04-07T00:00:00  1981   2683936   \n",
       "6          38.899556        -77.057200  1981-06-10T00:00:00  1981   2683936   \n",
       "437        35.910144        -79.048622  1957-06-11T00:00:00  1957   2683938   \n",
       "438        35.913721        -79.048978  1917-03-19T00:00:00  1917   2683938   \n",
       "..               ...               ...                  ...   ...       ...   \n",
       "508        41.050000       -122.966667  1954-05-01T00:00:00  1954   2683936   \n",
       "519        38.316667       -119.666667  1961-09-01T00:00:00  1961   2683936   \n",
       "554        42.350000       -123.580000  1928-06-08T00:00:00  1928   2683936   \n",
       "580        44.376400       -120.116700  1947-07-03T00:00:00  1947   2683936   \n",
       "606        42.937500       -121.312500  1928-06-23T00:00:00  1928   2683936   \n",
       "\n",
       "                        geometry  index_right     ID  GRIDCODE  \\\n",
       "0     POINT (-81.06719 34.80081)        96594  96595        14   \n",
       "1     POINT (-89.98368 35.12609)        96594  96595        14   \n",
       "6     POINT (-77.05720 38.89956)        96594  96595        14   \n",
       "437   POINT (-79.04862 35.91014)        96594  96595        14   \n",
       "438   POINT (-79.04898 35.91372)        96594  96595        14   \n",
       "..                           ...          ...    ...       ...   \n",
       "508  POINT (-122.96667 41.05000)        48283  48284        14   \n",
       "519  POINT (-119.66667 38.31667)        74947  74948        11   \n",
       "554  POINT (-123.58000 42.35000)        40362  40363        15   \n",
       "580  POINT (-120.11670 44.37640)        27996  27997        10   \n",
       "606  POINT (-121.31250 42.93750)        37292  37293        12   \n",
       "\n",
       "                 ZONE  \n",
       "0       7b: 5 to 10 F  \n",
       "1       7b: 5 to 10 F  \n",
       "6       7b: 5 to 10 F  \n",
       "437     7b: 5 to 10 F  \n",
       "438     7b: 5 to 10 F  \n",
       "..                ...  \n",
       "508     7b: 5 to 10 F  \n",
       "519   6a: -10 to -5 F  \n",
       "554    8a: 10 to 15 F  \n",
       "580  5b: -15 to -10 F  \n",
       "606     6b: -5 to 0 F  \n",
       "\n",
       "[616 rows x 16 columns]"
      ]
     },
     "execution_count": 5,
     "metadata": {},
     "output_type": "execute_result"
    }
   ],
   "source": [
    "gdf_cdr = gpd.GeoDataFrame(df_cdr,   geometry=gpd.points_from_xy(df_cdr.decimalLongitude, df_cdr.decimalLatitude))# 3 - Neighbourhoods\n",
    "gdf_cdr.crs = \"EPSG:4269\"\n",
    "sjoined_cdr = gpd.sjoin(gdf_cdr, phzm)\n",
    "sjoined_cdr"
   ]
  },
  {
   "cell_type": "markdown",
   "metadata": {},
   "source": [
    "The zones are convertible to a gridcode, running from 1 to 26 with 1 being the coldest and 26, the most tropical."
   ]
  },
  {
   "cell_type": "code",
   "execution_count": 6,
   "metadata": {},
   "outputs": [
    {
     "data": {
      "text/html": [
       "<div>\n",
       "<style scoped>\n",
       "    .dataframe tbody tr th:only-of-type {\n",
       "        vertical-align: middle;\n",
       "    }\n",
       "\n",
       "    .dataframe tbody tr th {\n",
       "        vertical-align: top;\n",
       "    }\n",
       "\n",
       "    .dataframe thead th {\n",
       "        text-align: right;\n",
       "    }\n",
       "</style>\n",
       "<table border=\"1\" class=\"dataframe\">\n",
       "  <thead>\n",
       "    <tr style=\"text-align: right;\">\n",
       "      <th></th>\n",
       "      <th>GRIDCODE</th>\n",
       "      <th>count</th>\n",
       "    </tr>\n",
       "  </thead>\n",
       "  <tbody>\n",
       "    <tr>\n",
       "      <th>0</th>\n",
       "      <td>14</td>\n",
       "      <td>0</td>\n",
       "    </tr>\n",
       "    <tr>\n",
       "      <th>1</th>\n",
       "      <td>17</td>\n",
       "      <td>1</td>\n",
       "    </tr>\n",
       "    <tr>\n",
       "      <th>2</th>\n",
       "      <td>17</td>\n",
       "      <td>2</td>\n",
       "    </tr>\n",
       "    <tr>\n",
       "      <th>3</th>\n",
       "      <td>16</td>\n",
       "      <td>3</td>\n",
       "    </tr>\n",
       "    <tr>\n",
       "      <th>4</th>\n",
       "      <td>16</td>\n",
       "      <td>4</td>\n",
       "    </tr>\n",
       "    <tr>\n",
       "      <th>...</th>\n",
       "      <td>...</td>\n",
       "      <td>...</td>\n",
       "    </tr>\n",
       "    <tr>\n",
       "      <th>611</th>\n",
       "      <td>16</td>\n",
       "      <td>611</td>\n",
       "    </tr>\n",
       "    <tr>\n",
       "      <th>612</th>\n",
       "      <td>16</td>\n",
       "      <td>612</td>\n",
       "    </tr>\n",
       "    <tr>\n",
       "      <th>613</th>\n",
       "      <td>16</td>\n",
       "      <td>613</td>\n",
       "    </tr>\n",
       "    <tr>\n",
       "      <th>614</th>\n",
       "      <td>16</td>\n",
       "      <td>614</td>\n",
       "    </tr>\n",
       "    <tr>\n",
       "      <th>615</th>\n",
       "      <td>16</td>\n",
       "      <td>615</td>\n",
       "    </tr>\n",
       "  </tbody>\n",
       "</table>\n",
       "<p>616 rows × 2 columns</p>\n",
       "</div>"
      ],
      "text/plain": [
       "     GRIDCODE  count\n",
       "0          14      0\n",
       "1          17      1\n",
       "2          17      2\n",
       "3          16      3\n",
       "4          16      4\n",
       "..        ...    ...\n",
       "611        16    611\n",
       "612        16    612\n",
       "613        16    613\n",
       "614        16    614\n",
       "615        16    615\n",
       "\n",
       "[616 rows x 2 columns]"
      ]
     },
     "execution_count": 6,
     "metadata": {},
     "output_type": "execute_result"
    }
   ],
   "source": [
    "sorted_dfcdr = sjoined_cdr.sort_values(by='eventDate')\n",
    "sorted_dfcdryr = sorted_dfcdr.reset_index(drop=True)\n",
    "tempcdr = sorted_dfcdryr['GRIDCODE']\n",
    "tempcdr = pd.DataFrame(tempcdr)\n",
    "tempcdr['count'] = tempcdr.index\n",
    "tempcdr"
   ]
  },
  {
   "cell_type": "code",
   "execution_count": 9,
   "metadata": {},
   "outputs": [
    {
     "data": {
      "text/plain": [
       "[<matplotlib.lines.Line2D at 0x198cbcb0fd0>]"
      ]
     },
     "execution_count": 9,
     "metadata": {},
     "output_type": "execute_result"
    },
    {
     "data": {
      "image/png": "[encoded data removed]",
      "text/plain": [
       "<Figure size 432x288 with 1 Axes>"
      ]
     },
     "metadata": {
      "needs_background": "light"
     },
     "output_type": "display_data"
    }
   ],
   "source": [
    "import matplotlib.pyplot as plt\n",
    "import numpy as np\n",
    "tempcdr = tempcdr.astype({\"count\": float, \"GRIDCODE\": float})\n",
    "\n",
    "\n",
    "x = tempcdr['count']\n",
    "plt.plot(tempcdr['count'], tempcdr['GRIDCODE'], ',')\n",
    "m, b = np.polyfit(tempcdr['count'], tempcdr['GRIDCODE'], 1)\n",
    "plt.title('Incense Cedar temporal temperature regression')\n",
    "plt.xlabel('temporal sort: 1892-2010')\n",
    "plt.ylabel('plant hardiness zone')\n",
    "plt.plot(x, m*x+b)"
   ]
  },
  {
   "cell_type": "markdown",
   "metadata": {},
   "source": [
    "We can also run a regression using the seaborn library with a translucent 95% confidence interval shading."
   ]
  },
  {
   "cell_type": "code",
   "execution_count": 17,
   "metadata": {},
   "outputs": [
    {
     "data": {
      "text/plain": [
       "<AxesSubplot:xlabel='count', ylabel='GRIDCODE'>"
      ]
     },
     "execution_count": 17,
     "metadata": {},
     "output_type": "execute_result"
    },
    {
     "data": {
      "image/png": "[encoded data removed]",
      "text/plain": [
       "<Figure size 432x288 with 1 Axes>"
      ]
     },
     "metadata": {
      "needs_background": "light"
     },
     "output_type": "display_data"
    }
   ],
   "source": [
    "import seaborn as sns\n",
    "sns.regplot(x = 'count', y ='GRIDCODE', data=tempcdr, marker = '.')"
   ]
  },
  {
   "cell_type": "code",
   "execution_count": 23,
   "metadata": {},
   "outputs": [
    {
     "data": {
      "text/plain": [
       "LinregressResult(slope=0.0005466486709321831, intercept=14.942295144077963, rvalue=0.056607144087349806, pvalue=0.1605500347405226, stderr=0.0003890952501914082)"
      ]
     },
     "execution_count": 23,
     "metadata": {},
     "output_type": "execute_result"
    }
   ],
   "source": [
    "from scipy import stats\n",
    "stats.linregress(x= tempcdr['count'], y = tempcdr['GRIDCODE'])"
   ]
  },
  {
   "cell_type": "markdown",
   "metadata": {},
   "source": [
    "The p value for the temperature regression is not statistically significant (< .05) and thus we are unable to reject a null hypothesis.\n",
    "\n",
    "In the final analysis, the results are indeterminate.  Certain species like the Whitebark Pine seem to show an unambiguous preference for colder locations, whereas others are more confounded.  It is notable that all 5 species show a preference for higher elevations, although the confounding makes it less clear that temperature is the reason."
   ]
  },
  {
   "cell_type": "code",
   "execution_count": null,
   "metadata": {},
   "outputs": [],
   "source": []
  }
 ],
 "metadata": {
  "kernelspec": {
   "display_name": "Python 3",
   "language": "python",
   "name": "python3"
  },
  "language_info": {
   "codemirror_mode": {
    "name": "ipython",
    "version": 3
   },
   "file_extension": ".py",
   "mimetype": "text/x-python",
   "name": "python",
   "nbconvert_exporter": "python",
   "pygments_lexer": "ipython3",
   "version": "3.8.5"
  }
 },
 "nbformat": 4,
 "nbformat_minor": 4
}
